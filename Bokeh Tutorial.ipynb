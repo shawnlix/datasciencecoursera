{
 "cells": [
  {
   "cell_type": "markdown",
   "metadata": {},
   "source": [
    "## Introduction\n",
    "Data visualization is an important task for data scientists. A great visual presentation of datasets helps readers to  understand the data much better. While matplotlib is a great Python plotting library for basic graphs, it lacks beauty and the ability for users to interact with data.\n",
    "\n",
    "This tutorial introduces you fundamental functions and use cases of a interactive plotting library, Bokeh. Bokeh \"provides elegant, concise construction of novel graphics in the style of D3.js\". It is a python plotting library being widely used to create interactive plots, dashboards and data applications. For more detailed introductions, the official document of Bokeh can be found [here](https://bokeh.pydata.org/en/latest/).  \n",
    "\n",
    "The following graphs are snippets of graphs that Bokeh created. You can click on one graph to check the code used to generate the graph.\n",
    "\n",
    "<p>\n",
    "</p><table cellspacing=\"20\">\n",
    "<tbody><tr>\n",
    "  <td>\n",
    "  <a href=\"https://bokeh.pydata.org/en/latest/docs/gallery/image.html\" rel=\"nofollow\">\n",
    "  <img alt=\"colormapped image plot thumbnail\" src=\"https://camo.githubusercontent.com/6bfc009d7b1d933a277e432b8cf13af29332b08f/68747470733a2f2f626f6b65682e7079646174612e6f72672f656e2f6c61746573742f5f696d616765732f696d6167655f742e706e67\" data-canonical-src=\"https://bokeh.pydata.org/en/latest/_images/image_t.png\" style=\"max-width:100%;\">\n",
    "  </a>\n",
    "  </td>\n",
    "  <td>\n",
    "  <a href=\"https://bokeh.pydata.org/en/latest/docs/gallery/anscombe.html\" rel=\"nofollow\">\n",
    "  <img alt=\"anscombe plot thumbnail\" src=\"https://camo.githubusercontent.com/773c4d579852e66bec8668bba477ee6593c31c09/68747470733a2f2f626f6b65682e7079646174612e6f72672f656e2f6c61746573742f5f696d616765732f616e73636f6d62655f742e706e67\" data-canonical-src=\"https://bokeh.pydata.org/en/latest/_images/anscombe_t.png\" style=\"max-width:100%;\">\n",
    "  </a>\n",
    "  </td>\n",
    "  <td>\n",
    "  <a href=\"https://bokeh.pydata.org/en/latest/docs/gallery/stocks.html\" rel=\"nofollow\">\n",
    "  <img alt=\"stocks plot thumbnail\" src=\"https://camo.githubusercontent.com/7ae6921ed8bf4bb3caaadd8aa06b96903c83f63f/68747470733a2f2f626f6b65682e7079646174612e6f72672f656e2f6c61746573742f5f696d616765732f73746f636b735f742e706e67\" data-canonical-src=\"https://bokeh.pydata.org/en/latest/_images/stocks_t.png\" style=\"max-width:100%;\">\n",
    "  </a>\n",
    "  </td>\n",
    "  <td>\n",
    "  <a href=\"https://bokeh.pydata.org/en/latest/docs/gallery/lorenz.html\" rel=\"nofollow\">\n",
    "  <img alt=\"lorenz attractor plot thumbnail\" src=\"https://camo.githubusercontent.com/fac1ab8f2284402b0f5d92b569b997068fd7ceee/68747470733a2f2f626f6b65682e7079646174612e6f72672f656e2f6c61746573742f5f696d616765732f6c6f72656e7a5f742e706e67\" data-canonical-src=\"https://bokeh.pydata.org/en/latest/_images/lorenz_t.png\" style=\"max-width:100%;\">\n",
    "  </a>\n",
    "  </td>\n",
    "  <td>\n",
    "  <a href=\"https://bokeh.pydata.org/en/latest/docs/gallery/candlestick.html\" rel=\"nofollow\">\n",
    "  <img alt=\"candlestick plot thumbnail\" src=\"https://camo.githubusercontent.com/80e0a327ace6b3b0d7bd7b557f6e8fe4b5034a02/68747470733a2f2f626f6b65682e7079646174612e6f72672f656e2f6c61746573742f5f696d616765732f63616e646c65737469636b5f742e706e67\" data-canonical-src=\"https://bokeh.pydata.org/en/latest/_images/candlestick_t.png\" style=\"max-width:100%;\">\n",
    "  </a>\n",
    "  </td>\n",
    "  <td>\n",
    "  <a href=\"https://bokeh.pydata.org/en/latest/docs/gallery/color_scatter.html\" rel=\"nofollow\">\n",
    "  <img alt=\"scatter plot thumbnail\" src=\"https://camo.githubusercontent.com/72cfd980fc301f20e54dc148f7a717ec70f02eaf/68747470733a2f2f626f6b65682e7079646174612e6f72672f656e2f6c61746573742f5f696d616765732f736361747465725f742e706e67\" data-canonical-src=\"https://bokeh.pydata.org/en/latest/_images/scatter_t.png\" style=\"max-width:100%;\">\n",
    "  </a>\n",
    "  </td>\n",
    "  <td>\n",
    "  <a href=\"https://bokeh.pydata.org/en/latest/docs/gallery/iris_splom.html\" rel=\"nofollow\">\n",
    "  <img alt=\"SPLOM plot thumbnail\" src=\"https://camo.githubusercontent.com/a80d324ac3dec84674b62e6005cd3c77bab75951/68747470733a2f2f626f6b65682e7079646174612e6f72672f656e2f6c61746573742f5f696d616765732f73706c6f6d5f742e706e67\" data-canonical-src=\"https://bokeh.pydata.org/en/latest/_images/splom_t.png\" style=\"max-width:100%;\">\n",
    "  </a>\n",
    "  </td>\n",
    "</tr>\n",
    "<tr>\n",
    "  <td>\n",
    "  <a href=\"https://bokeh.pydata.org/en/latest/docs/gallery/iris.html\" rel=\"nofollow\">\n",
    "  <img alt=\"iris dataset plot thumbnail\" src=\"https://camo.githubusercontent.com/c7e27dce390e427536515a4302cb824a81c63dbd/68747470733a2f2f626f6b65682e7079646174612e6f72672f656e2f6c61746573742f5f696d616765732f697269735f742e706e67\" data-canonical-src=\"https://bokeh.pydata.org/en/latest/_images/iris_t.png\" style=\"max-width:100%;\">\n",
    "  </a>\n",
    "  </td>\n",
    "  <td>\n",
    "  <a href=\"https://bokeh.pydata.org/en/latest/docs/gallery/histogram.html\" rel=\"nofollow\">\n",
    "  <img alt=\"histogram plot thumbnail\" src=\"https://camo.githubusercontent.com/2e528b7d64204b1663d34f35f4b9f656afc99fd6/68747470733a2f2f626f6b65682e7079646174612e6f72672f656e2f6c61746573742f5f696d616765732f686973746f6772616d5f742e706e67\" data-canonical-src=\"https://bokeh.pydata.org/en/latest/_images/histogram_t.png\" style=\"max-width:100%;\">\n",
    "  </a>\n",
    "  </td>\n",
    "  <td>\n",
    "  <a href=\"https://bokeh.pydata.org/en/latest/docs/gallery/periodic.html\" rel=\"nofollow\">\n",
    "  <img alt=\"periodic table plot thumbnail\" src=\"https://camo.githubusercontent.com/408bc6e39aca59863d6a33679b34a4e653d3c968/68747470733a2f2f626f6b65682e7079646174612e6f72672f656e2f6c61746573742f5f696d616765732f706572696f6469635f742e706e67\" data-canonical-src=\"https://bokeh.pydata.org/en/latest/_images/periodic_t.png\" style=\"max-width:100%;\">\n",
    "  </a>\n",
    "  </td>\n",
    "  <td>\n",
    "  <a href=\"https://bokeh.pydata.org/en/latest/docs/gallery/texas.html\" rel=\"nofollow\">\n",
    "  <img alt=\"choropleth plot thumbnail\" src=\"https://camo.githubusercontent.com/f3ae031333f2c596927e6a3cbefb7378a191c9d1/68747470733a2f2f626f6b65682e7079646174612e6f72672f656e2f6c61746573742f5f696d616765732f63686f726f706c6574685f742e706e67\" data-canonical-src=\"https://bokeh.pydata.org/en/latest/_images/choropleth_t.png\" style=\"max-width:100%;\">\n",
    "  </a>\n",
    "  </td>\n",
    "  <td>\n",
    "  <a href=\"https://bokeh.pydata.org/en/latest/docs/gallery/burtin.html\" rel=\"nofollow\">\n",
    "  <img alt=\"burtin antibiotic data plot thumbnail\" src=\"https://camo.githubusercontent.com/6d431b4e4a172d4a00b6294e4dfe2bf1267d1aef/68747470733a2f2f626f6b65682e7079646174612e6f72672f656e2f6c61746573742f5f696d616765732f62757274696e5f742e706e67\" data-canonical-src=\"https://bokeh.pydata.org/en/latest/_images/burtin_t.png\" style=\"max-width:100%;\">\n",
    "  </a>\n",
    "  </td>\n",
    "  <td>\n",
    "  <a href=\"https://bokeh.pydata.org/en/latest/docs/gallery/streamline.html\" rel=\"nofollow\">\n",
    "  <img alt=\"streamline plot thumbnail\" src=\"https://camo.githubusercontent.com/980b474512c4c72683f342311dbb82dc45f8229b/68747470733a2f2f626f6b65682e7079646174612e6f72672f656e2f6c61746573742f5f696d616765732f73747265616d6c696e655f742e706e67\" data-canonical-src=\"https://bokeh.pydata.org/en/latest/_images/streamline_t.png\" style=\"max-width:100%;\">\n",
    "  </a>\n",
    "  </td>\n",
    "  <td>\n",
    "  <a href=\"https://bokeh.pydata.org/en/latest/docs/gallery/image_rgba.html\" rel=\"nofollow\">\n",
    "  <img alt=\"RGBA image plot thumbnail\" src=\"https://camo.githubusercontent.com/d480dac6721253d103d1dae90089d5442b550666/68747470733a2f2f626f6b65682e7079646174612e6f72672f656e2f6c61746573742f5f696d616765732f696d6167655f726762615f742e706e67\" data-canonical-src=\"https://bokeh.pydata.org/en/latest/_images/image_rgba_t.png\" style=\"max-width:100%;\">\n",
    "  </a>\n",
    "  </td>\n",
    "</tr>\n",
    "<tr>\n",
    "  <td>\n",
    "  <a href=\"https://bokeh.pydata.org/en/latest/docs/gallery/brewer.html\" rel=\"nofollow\">\n",
    "  <img alt=\"stacked bars plot thumbnail\" src=\"https://camo.githubusercontent.com/848d670cde92084e462f0bb69a41aff9196d8acc/68747470733a2f2f626f6b65682e7079646174612e6f72672f656e2f6c61746573742f5f696d616765732f737461636b65645f742e706e67\" data-canonical-src=\"https://bokeh.pydata.org/en/latest/_images/stacked_t.png\" style=\"max-width:100%;\">\n",
    "  </a>\n",
    "  </td>\n",
    "  <td>\n",
    "  <a href=\"https://bokeh.pydata.org/en/latest/docs/gallery/quiver.html\" rel=\"nofollow\">\n",
    "  <img alt=\"quiver plot thumbnail\" src=\"https://camo.githubusercontent.com/866b43432c062a0f9bf9809b68b63114ef41a9ca/68747470733a2f2f626f6b65682e7079646174612e6f72672f656e2f6c61746573742f5f696d616765732f7175697665725f742e706e67\" data-canonical-src=\"https://bokeh.pydata.org/en/latest/_images/quiver_t.png\" style=\"max-width:100%;\">\n",
    "  </a>\n",
    "  </td>\n",
    "  <td>\n",
    "  <a href=\"https://bokeh.pydata.org/en/latest/docs/gallery/elements.html\" rel=\"nofollow\">\n",
    "  <img alt=\"elements data plot thumbnail\" src=\"https://camo.githubusercontent.com/dc8442c44b135df0b941e52f22abf64ceb766382/68747470733a2f2f626f6b65682e7079646174612e6f72672f656e2f6c61746573742f5f696d616765732f656c656d656e74735f742e706e67\" data-canonical-src=\"https://bokeh.pydata.org/en/latest/_images/elements_t.png\" style=\"max-width:100%;\">\n",
    "  </a>\n",
    "  </td>\n",
    "  <td>\n",
    "  <a href=\"https://bokeh.pydata.org/en/latest/docs/gallery/boxplot.html\" rel=\"nofollow\">\n",
    "  <img alt=\"boxplot thumbnail\" src=\"https://camo.githubusercontent.com/f6ad6de3f69a1b4b6e829e046dbc45aca1285289/68747470733a2f2f626f6b65682e7079646174612e6f72672f656e2f6c61746573742f5f696d616765732f626f78706c6f745f742e706e67\" data-canonical-src=\"https://bokeh.pydata.org/en/latest/_images/boxplot_t.png\" style=\"max-width:100%;\">\n",
    "  </a>\n",
    "  </td>\n",
    "  <td>\n",
    "  <a href=\"https://bokeh.pydata.org/en/latest/docs/gallery/categorical.html\" rel=\"nofollow\">\n",
    "  <img alt=\"categorical plot thumbnail\" src=\"https://camo.githubusercontent.com/fe097053326a53c31bd4d698fae5f7bd0390d27f/68747470733a2f2f626f6b65682e7079646174612e6f72672f656e2f6c61746573742f5f696d616765732f63617465676f726963616c5f742e706e67\" data-canonical-src=\"https://bokeh.pydata.org/en/latest/_images/categorical_t.png\" style=\"max-width:100%;\">\n",
    "  </a>\n",
    "  </td>\n",
    "  <td>\n",
    "  <a href=\"https://bokeh.pydata.org/en/latest/docs/gallery/unemployment.html\" rel=\"nofollow\">\n",
    "  <img alt=\"unemployment data plot thumbnail\" src=\"https://camo.githubusercontent.com/82c10158736ab2b27631d40511101e18d548dad9/68747470733a2f2f626f6b65682e7079646174612e6f72672f656e2f6c61746573742f5f696d616765732f756e656d706c6f796d656e745f742e706e67\" data-canonical-src=\"https://bokeh.pydata.org/en/latest/_images/unemployment_t.png\" style=\"max-width:100%;\">\n",
    "  </a>\n",
    "  </td>\n",
    "  <td>\n",
    "  <a href=\"https://bokeh.pydata.org/en/latest/docs/gallery/les_mis.html\" rel=\"nofollow\">\n",
    "  <img alt=\"Les Mis co-occurrence plot thumbnail\" src=\"https://camo.githubusercontent.com/177888d483a6cf5bb856c4875bcddbd3e6b380e8/68747470733a2f2f626f6b65682e7079646174612e6f72672f656e2f6c61746573742f5f696d616765732f6c65735f6d69735f742e706e67\" data-canonical-src=\"https://bokeh.pydata.org/en/latest/_images/les_mis_t.png\" style=\"max-width:100%;\">\n",
    "  </a>\n",
    "  </td>\n",
    "</tr>\n",
    "</tbody></table>\n",
    "<p></p>\n"
   ]
  },
  {
   "cell_type": "markdown",
   "metadata": {},
   "source": [
    "### Tutorial Content\n",
    "In this tutorial, we will show you how to use Bokeh to generate basic plots as well as more advanced interactive plots.\n",
    "\n",
    "The dataset we will use is collected from \"https://s3.amazonaws.com/aws-website-programminginrforanalytics-tbal0/data/birthwt.csv. It is a research dataset containing information about new baby born weight and mother's information. We will use Bokeh to do exploratory data analysis for this dataset. Detailed information on this dataset will be introduced in latter sections.\n",
    "\n",
    "To give you a glimpse, this tutorial covers the following the topics:\n",
    "- [Installing the library](#Installing-the-library)\n",
    "- [Plotting basics graphs](#Plotting-basic-graphs)\n",
    "    - [Bokeh Bascis](#Bokeh-Bascis)\n",
    "- [Adding Interactivity](#Adding-Interactivity)\n",
    "    - [Hover Tool](#Using-Hover-Tool)\n",
    "    - [Interactive Legends](#Using-Interactive-Legends)\n",
    "    - [Tabs](#Adding-Tabs)\n",
    "- [Summary and References](#Summary-and-References)"
   ]
  },
  {
   "cell_type": "markdown",
   "metadata": {},
   "source": [
    "## Installing the library\n",
    "Bokeh recommends users to install the package via the [Anaconda Python Distribution](https://www.anaconda.com/).  \n",
    "If you are already an Anaconda users, you can simply run the command:\n",
    "\n",
    "    $ conda install bokeh\n",
    "\n",
    "Alternatively, you can install the package using `pip`:  \n",
    "\n",
    "    $ pip install bokeh\n",
    "    \n",
    "In this tutorial, we also need to import `Pandas`, `NumPy` and `SciPy` to help us on exploratory data analysis with real dataset."
   ]
  },
  {
   "cell_type": "code",
   "execution_count": 1,
   "metadata": {},
   "outputs": [],
   "source": [
    "import bokeh\n",
    "import pandas as pd\n",
    "import numpy as np\n",
    "import scipy"
   ]
  },
  {
   "cell_type": "markdown",
   "metadata": {},
   "source": [
    "## Plotting basic graphs"
   ]
  },
  {
   "cell_type": "markdown",
   "metadata": {},
   "source": [
    "### Bokeh Bascis\n",
    "Let's start with the most basic plot, scatter plots. The following is the code for plotting a scatter plot using a few points. This part of the code is important for us to understand the plotting mechanism of Bokeh, so take your time to read through the codes. I will reveal how this chunk of codes work right after this example."
   ]
  },
  {
   "cell_type": "code",
   "execution_count": 2,
   "metadata": {},
   "outputs": [
    {
     "data": {
      "text/html": [
       "\n",
       "    <div class=\"bk-root\">\n",
       "        <a href=\"https://bokeh.pydata.org\" target=\"_blank\" class=\"bk-logo bk-logo-small bk-logo-notebook\"></a>\n",
       "        <span id=\"ea5e0862-94ea-450d-91f5-2f76dcb4a6e1\">Loading BokehJS ...</span>\n",
       "    </div>"
      ]
     },
     "metadata": {},
     "output_type": "display_data"
    },
    {
     "data": {
      "application/javascript": [
       "\n",
       "(function(root) {\n",
       "  function now() {\n",
       "    return new Date();\n",
       "  }\n",
       "\n",
       "  var force = true;\n",
       "\n",
       "  if (typeof (root._bokeh_onload_callbacks) === \"undefined\" || force === true) {\n",
       "    root._bokeh_onload_callbacks = [];\n",
       "    root._bokeh_is_loading = undefined;\n",
       "  }\n",
       "\n",
       "  var JS_MIME_TYPE = 'application/javascript';\n",
       "  var HTML_MIME_TYPE = 'text/html';\n",
       "  var EXEC_MIME_TYPE = 'application/vnd.bokehjs_exec.v0+json';\n",
       "  var CLASS_NAME = 'output_bokeh rendered_html';\n",
       "\n",
       "  /**\n",
       "   * Render data to the DOM node\n",
       "   */\n",
       "  function render(props, node) {\n",
       "    var script = document.createElement(\"script\");\n",
       "    node.appendChild(script);\n",
       "  }\n",
       "\n",
       "  /**\n",
       "   * Handle when an output is cleared or removed\n",
       "   */\n",
       "  function handleClearOutput(event, handle) {\n",
       "    var cell = handle.cell;\n",
       "\n",
       "    var id = cell.output_area._bokeh_element_id;\n",
       "    var server_id = cell.output_area._bokeh_server_id;\n",
       "    // Clean up Bokeh references\n",
       "    if (id !== undefined) {\n",
       "      Bokeh.index[id].model.document.clear();\n",
       "      delete Bokeh.index[id];\n",
       "    }\n",
       "\n",
       "    if (server_id !== undefined) {\n",
       "      // Clean up Bokeh references\n",
       "      var cmd = \"from bokeh.io.state import curstate; print(curstate().uuid_to_server['\" + server_id + \"'].get_sessions()[0].document.roots[0]._id)\";\n",
       "      cell.notebook.kernel.execute(cmd, {\n",
       "        iopub: {\n",
       "          output: function(msg) {\n",
       "            var element_id = msg.content.text.trim();\n",
       "            Bokeh.index[element_id].model.document.clear();\n",
       "            delete Bokeh.index[element_id];\n",
       "          }\n",
       "        }\n",
       "      });\n",
       "      // Destroy server and session\n",
       "      var cmd = \"import bokeh.io.notebook as ion; ion.destroy_server('\" + server_id + \"')\";\n",
       "      cell.notebook.kernel.execute(cmd);\n",
       "    }\n",
       "  }\n",
       "\n",
       "  /**\n",
       "   * Handle when a new output is added\n",
       "   */\n",
       "  function handleAddOutput(event, handle) {\n",
       "    var output_area = handle.output_area;\n",
       "    var output = handle.output;\n",
       "\n",
       "    // limit handleAddOutput to display_data with EXEC_MIME_TYPE content only\n",
       "    if ((output.output_type != \"display_data\") || (!output.data.hasOwnProperty(EXEC_MIME_TYPE))) {\n",
       "      return\n",
       "    }\n",
       "\n",
       "    var toinsert = output_area.element.find(\".\" + CLASS_NAME.split(' ')[0]);\n",
       "\n",
       "    if (output.metadata[EXEC_MIME_TYPE][\"id\"] !== undefined) {\n",
       "      toinsert[0].firstChild.textContent = output.data[JS_MIME_TYPE];\n",
       "      // store reference to embed id on output_area\n",
       "      output_area._bokeh_element_id = output.metadata[EXEC_MIME_TYPE][\"id\"];\n",
       "    }\n",
       "    if (output.metadata[EXEC_MIME_TYPE][\"server_id\"] !== undefined) {\n",
       "      var bk_div = document.createElement(\"div\");\n",
       "      bk_div.innerHTML = output.data[HTML_MIME_TYPE];\n",
       "      var script_attrs = bk_div.children[0].attributes;\n",
       "      for (var i = 0; i < script_attrs.length; i++) {\n",
       "        toinsert[0].firstChild.setAttribute(script_attrs[i].name, script_attrs[i].value);\n",
       "      }\n",
       "      // store reference to server id on output_area\n",
       "      output_area._bokeh_server_id = output.metadata[EXEC_MIME_TYPE][\"server_id\"];\n",
       "    }\n",
       "  }\n",
       "\n",
       "  function register_renderer(events, OutputArea) {\n",
       "\n",
       "    function append_mime(data, metadata, element) {\n",
       "      // create a DOM node to render to\n",
       "      var toinsert = this.create_output_subarea(\n",
       "        metadata,\n",
       "        CLASS_NAME,\n",
       "        EXEC_MIME_TYPE\n",
       "      );\n",
       "      this.keyboard_manager.register_events(toinsert);\n",
       "      // Render to node\n",
       "      var props = {data: data, metadata: metadata[EXEC_MIME_TYPE]};\n",
       "      render(props, toinsert[0]);\n",
       "      element.append(toinsert);\n",
       "      return toinsert\n",
       "    }\n",
       "\n",
       "    /* Handle when an output is cleared or removed */\n",
       "    events.on('clear_output.CodeCell', handleClearOutput);\n",
       "    events.on('delete.Cell', handleClearOutput);\n",
       "\n",
       "    /* Handle when a new output is added */\n",
       "    events.on('output_added.OutputArea', handleAddOutput);\n",
       "\n",
       "    /**\n",
       "     * Register the mime type and append_mime function with output_area\n",
       "     */\n",
       "    OutputArea.prototype.register_mime_type(EXEC_MIME_TYPE, append_mime, {\n",
       "      /* Is output safe? */\n",
       "      safe: true,\n",
       "      /* Index of renderer in `output_area.display_order` */\n",
       "      index: 0\n",
       "    });\n",
       "  }\n",
       "\n",
       "  // register the mime type if in Jupyter Notebook environment and previously unregistered\n",
       "  if (root.Jupyter !== undefined) {\n",
       "    var events = require('base/js/events');\n",
       "    var OutputArea = require('notebook/js/outputarea').OutputArea;\n",
       "\n",
       "    if (OutputArea.prototype.mime_types().indexOf(EXEC_MIME_TYPE) == -1) {\n",
       "      register_renderer(events, OutputArea);\n",
       "    }\n",
       "  }\n",
       "\n",
       "  \n",
       "  if (typeof (root._bokeh_timeout) === \"undefined\" || force === true) {\n",
       "    root._bokeh_timeout = Date.now() + 5000;\n",
       "    root._bokeh_failed_load = false;\n",
       "  }\n",
       "\n",
       "  var NB_LOAD_WARNING = {'data': {'text/html':\n",
       "     \"<div style='background-color: #fdd'>\\n\"+\n",
       "     \"<p>\\n\"+\n",
       "     \"BokehJS does not appear to have successfully loaded. If loading BokehJS from CDN, this \\n\"+\n",
       "     \"may be due to a slow or bad network connection. Possible fixes:\\n\"+\n",
       "     \"</p>\\n\"+\n",
       "     \"<ul>\\n\"+\n",
       "     \"<li>re-rerun `output_notebook()` to attempt to load from CDN again, or</li>\\n\"+\n",
       "     \"<li>use INLINE resources instead, as so:</li>\\n\"+\n",
       "     \"</ul>\\n\"+\n",
       "     \"<code>\\n\"+\n",
       "     \"from bokeh.resources import INLINE\\n\"+\n",
       "     \"output_notebook(resources=INLINE)\\n\"+\n",
       "     \"</code>\\n\"+\n",
       "     \"</div>\"}};\n",
       "\n",
       "  function display_loaded() {\n",
       "    var el = document.getElementById(\"ea5e0862-94ea-450d-91f5-2f76dcb4a6e1\");\n",
       "    if (el != null) {\n",
       "      el.textContent = \"BokehJS is loading...\";\n",
       "    }\n",
       "    if (root.Bokeh !== undefined) {\n",
       "      if (el != null) {\n",
       "        el.textContent = \"BokehJS \" + root.Bokeh.version + \" successfully loaded.\";\n",
       "      }\n",
       "    } else if (Date.now() < root._bokeh_timeout) {\n",
       "      setTimeout(display_loaded, 100)\n",
       "    }\n",
       "  }\n",
       "\n",
       "\n",
       "  function run_callbacks() {\n",
       "    try {\n",
       "      root._bokeh_onload_callbacks.forEach(function(callback) { callback() });\n",
       "    }\n",
       "    finally {\n",
       "      delete root._bokeh_onload_callbacks\n",
       "    }\n",
       "    console.info(\"Bokeh: all callbacks have finished\");\n",
       "  }\n",
       "\n",
       "  function load_libs(js_urls, callback) {\n",
       "    root._bokeh_onload_callbacks.push(callback);\n",
       "    if (root._bokeh_is_loading > 0) {\n",
       "      console.log(\"Bokeh: BokehJS is being loaded, scheduling callback at\", now());\n",
       "      return null;\n",
       "    }\n",
       "    if (js_urls == null || js_urls.length === 0) {\n",
       "      run_callbacks();\n",
       "      return null;\n",
       "    }\n",
       "    console.log(\"Bokeh: BokehJS not loaded, scheduling load and callback at\", now());\n",
       "    root._bokeh_is_loading = js_urls.length;\n",
       "    for (var i = 0; i < js_urls.length; i++) {\n",
       "      var url = js_urls[i];\n",
       "      var s = document.createElement('script');\n",
       "      s.src = url;\n",
       "      s.async = false;\n",
       "      s.onreadystatechange = s.onload = function() {\n",
       "        root._bokeh_is_loading--;\n",
       "        if (root._bokeh_is_loading === 0) {\n",
       "          console.log(\"Bokeh: all BokehJS libraries loaded\");\n",
       "          run_callbacks()\n",
       "        }\n",
       "      };\n",
       "      s.onerror = function() {\n",
       "        console.warn(\"failed to load library \" + url);\n",
       "      };\n",
       "      console.log(\"Bokeh: injecting script tag for BokehJS library: \", url);\n",
       "      document.getElementsByTagName(\"head\")[0].appendChild(s);\n",
       "    }\n",
       "  };var element = document.getElementById(\"ea5e0862-94ea-450d-91f5-2f76dcb4a6e1\");\n",
       "  if (element == null) {\n",
       "    console.log(\"Bokeh: ERROR: autoload.js configured with elementid 'ea5e0862-94ea-450d-91f5-2f76dcb4a6e1' but no matching script tag was found. \")\n",
       "    return false;\n",
       "  }\n",
       "\n",
       "  var js_urls = [\"https://cdn.pydata.org/bokeh/release/bokeh-0.12.14.min.js\", \"https://cdn.pydata.org/bokeh/release/bokeh-widgets-0.12.14.min.js\", \"https://cdn.pydata.org/bokeh/release/bokeh-tables-0.12.14.min.js\", \"https://cdn.pydata.org/bokeh/release/bokeh-gl-0.12.14.min.js\"];\n",
       "\n",
       "  var inline_js = [\n",
       "    function(Bokeh) {\n",
       "      Bokeh.set_log_level(\"info\");\n",
       "    },\n",
       "    \n",
       "    function(Bokeh) {\n",
       "      \n",
       "    },\n",
       "    function(Bokeh) {\n",
       "      console.log(\"Bokeh: injecting CSS: https://cdn.pydata.org/bokeh/release/bokeh-0.12.14.min.css\");\n",
       "      Bokeh.embed.inject_css(\"https://cdn.pydata.org/bokeh/release/bokeh-0.12.14.min.css\");\n",
       "      console.log(\"Bokeh: injecting CSS: https://cdn.pydata.org/bokeh/release/bokeh-widgets-0.12.14.min.css\");\n",
       "      Bokeh.embed.inject_css(\"https://cdn.pydata.org/bokeh/release/bokeh-widgets-0.12.14.min.css\");\n",
       "      console.log(\"Bokeh: injecting CSS: https://cdn.pydata.org/bokeh/release/bokeh-tables-0.12.14.min.css\");\n",
       "      Bokeh.embed.inject_css(\"https://cdn.pydata.org/bokeh/release/bokeh-tables-0.12.14.min.css\");\n",
       "    }\n",
       "  ];\n",
       "\n",
       "  function run_inline_js() {\n",
       "    \n",
       "    if ((root.Bokeh !== undefined) || (force === true)) {\n",
       "      for (var i = 0; i < inline_js.length; i++) {\n",
       "        inline_js[i].call(root, root.Bokeh);\n",
       "      }if (force === true) {\n",
       "        display_loaded();\n",
       "      }} else if (Date.now() < root._bokeh_timeout) {\n",
       "      setTimeout(run_inline_js, 100);\n",
       "    } else if (!root._bokeh_failed_load) {\n",
       "      console.log(\"Bokeh: BokehJS failed to load within specified timeout.\");\n",
       "      root._bokeh_failed_load = true;\n",
       "    } else if (force !== true) {\n",
       "      var cell = $(document.getElementById(\"ea5e0862-94ea-450d-91f5-2f76dcb4a6e1\")).parents('.cell').data().cell;\n",
       "      cell.output_area.append_execute_result(NB_LOAD_WARNING)\n",
       "    }\n",
       "\n",
       "  }\n",
       "\n",
       "  if (root._bokeh_is_loading === 0) {\n",
       "    console.log(\"Bokeh: BokehJS loaded, going straight to plotting\");\n",
       "    run_inline_js();\n",
       "  } else {\n",
       "    load_libs(js_urls, function() {\n",
       "      console.log(\"Bokeh: BokehJS plotting callback run at\", now());\n",
       "      run_inline_js();\n",
       "    });\n",
       "  }\n",
       "}(window));"
      ],
      "application/vnd.bokehjs_load.v0+json": "\n(function(root) {\n  function now() {\n    return new Date();\n  }\n\n  var force = true;\n\n  if (typeof (root._bokeh_onload_callbacks) === \"undefined\" || force === true) {\n    root._bokeh_onload_callbacks = [];\n    root._bokeh_is_loading = undefined;\n  }\n\n  \n\n  \n  if (typeof (root._bokeh_timeout) === \"undefined\" || force === true) {\n    root._bokeh_timeout = Date.now() + 5000;\n    root._bokeh_failed_load = false;\n  }\n\n  var NB_LOAD_WARNING = {'data': {'text/html':\n     \"<div style='background-color: #fdd'>\\n\"+\n     \"<p>\\n\"+\n     \"BokehJS does not appear to have successfully loaded. If loading BokehJS from CDN, this \\n\"+\n     \"may be due to a slow or bad network connection. Possible fixes:\\n\"+\n     \"</p>\\n\"+\n     \"<ul>\\n\"+\n     \"<li>re-rerun `output_notebook()` to attempt to load from CDN again, or</li>\\n\"+\n     \"<li>use INLINE resources instead, as so:</li>\\n\"+\n     \"</ul>\\n\"+\n     \"<code>\\n\"+\n     \"from bokeh.resources import INLINE\\n\"+\n     \"output_notebook(resources=INLINE)\\n\"+\n     \"</code>\\n\"+\n     \"</div>\"}};\n\n  function display_loaded() {\n    var el = document.getElementById(\"ea5e0862-94ea-450d-91f5-2f76dcb4a6e1\");\n    if (el != null) {\n      el.textContent = \"BokehJS is loading...\";\n    }\n    if (root.Bokeh !== undefined) {\n      if (el != null) {\n        el.textContent = \"BokehJS \" + root.Bokeh.version + \" successfully loaded.\";\n      }\n    } else if (Date.now() < root._bokeh_timeout) {\n      setTimeout(display_loaded, 100)\n    }\n  }\n\n\n  function run_callbacks() {\n    try {\n      root._bokeh_onload_callbacks.forEach(function(callback) { callback() });\n    }\n    finally {\n      delete root._bokeh_onload_callbacks\n    }\n    console.info(\"Bokeh: all callbacks have finished\");\n  }\n\n  function load_libs(js_urls, callback) {\n    root._bokeh_onload_callbacks.push(callback);\n    if (root._bokeh_is_loading > 0) {\n      console.log(\"Bokeh: BokehJS is being loaded, scheduling callback at\", now());\n      return null;\n    }\n    if (js_urls == null || js_urls.length === 0) {\n      run_callbacks();\n      return null;\n    }\n    console.log(\"Bokeh: BokehJS not loaded, scheduling load and callback at\", now());\n    root._bokeh_is_loading = js_urls.length;\n    for (var i = 0; i < js_urls.length; i++) {\n      var url = js_urls[i];\n      var s = document.createElement('script');\n      s.src = url;\n      s.async = false;\n      s.onreadystatechange = s.onload = function() {\n        root._bokeh_is_loading--;\n        if (root._bokeh_is_loading === 0) {\n          console.log(\"Bokeh: all BokehJS libraries loaded\");\n          run_callbacks()\n        }\n      };\n      s.onerror = function() {\n        console.warn(\"failed to load library \" + url);\n      };\n      console.log(\"Bokeh: injecting script tag for BokehJS library: \", url);\n      document.getElementsByTagName(\"head\")[0].appendChild(s);\n    }\n  };var element = document.getElementById(\"ea5e0862-94ea-450d-91f5-2f76dcb4a6e1\");\n  if (element == null) {\n    console.log(\"Bokeh: ERROR: autoload.js configured with elementid 'ea5e0862-94ea-450d-91f5-2f76dcb4a6e1' but no matching script tag was found. \")\n    return false;\n  }\n\n  var js_urls = [\"https://cdn.pydata.org/bokeh/release/bokeh-0.12.14.min.js\", \"https://cdn.pydata.org/bokeh/release/bokeh-widgets-0.12.14.min.js\", \"https://cdn.pydata.org/bokeh/release/bokeh-tables-0.12.14.min.js\", \"https://cdn.pydata.org/bokeh/release/bokeh-gl-0.12.14.min.js\"];\n\n  var inline_js = [\n    function(Bokeh) {\n      Bokeh.set_log_level(\"info\");\n    },\n    \n    function(Bokeh) {\n      \n    },\n    function(Bokeh) {\n      console.log(\"Bokeh: injecting CSS: https://cdn.pydata.org/bokeh/release/bokeh-0.12.14.min.css\");\n      Bokeh.embed.inject_css(\"https://cdn.pydata.org/bokeh/release/bokeh-0.12.14.min.css\");\n      console.log(\"Bokeh: injecting CSS: https://cdn.pydata.org/bokeh/release/bokeh-widgets-0.12.14.min.css\");\n      Bokeh.embed.inject_css(\"https://cdn.pydata.org/bokeh/release/bokeh-widgets-0.12.14.min.css\");\n      console.log(\"Bokeh: injecting CSS: https://cdn.pydata.org/bokeh/release/bokeh-tables-0.12.14.min.css\");\n      Bokeh.embed.inject_css(\"https://cdn.pydata.org/bokeh/release/bokeh-tables-0.12.14.min.css\");\n    }\n  ];\n\n  function run_inline_js() {\n    \n    if ((root.Bokeh !== undefined) || (force === true)) {\n      for (var i = 0; i < inline_js.length; i++) {\n        inline_js[i].call(root, root.Bokeh);\n      }if (force === true) {\n        display_loaded();\n      }} else if (Date.now() < root._bokeh_timeout) {\n      setTimeout(run_inline_js, 100);\n    } else if (!root._bokeh_failed_load) {\n      console.log(\"Bokeh: BokehJS failed to load within specified timeout.\");\n      root._bokeh_failed_load = true;\n    } else if (force !== true) {\n      var cell = $(document.getElementById(\"ea5e0862-94ea-450d-91f5-2f76dcb4a6e1\")).parents('.cell').data().cell;\n      cell.output_area.append_execute_result(NB_LOAD_WARNING)\n    }\n\n  }\n\n  if (root._bokeh_is_loading === 0) {\n    console.log(\"Bokeh: BokehJS loaded, going straight to plotting\");\n    run_inline_js();\n  } else {\n    load_libs(js_urls, function() {\n      console.log(\"Bokeh: BokehJS plotting callback run at\", now());\n      run_inline_js();\n    });\n  }\n}(window));"
     },
     "metadata": {},
     "output_type": "display_data"
    },
    {
     "data": {
      "text/html": [
       "\n",
       "<div class=\"bk-root\">\n",
       "    <div class=\"bk-plotdiv\" id=\"c882b9ed-5784-4280-840d-c87b66d4542a\"></div>\n",
       "</div>"
      ]
     },
     "metadata": {},
     "output_type": "display_data"
    },
    {
     "data": {
      "application/javascript": [
       "(function(root) {\n",
       "  function embed_document(root) {\n",
       "    \n",
       "  var docs_json = {\"9dec07ac-4108-4f31-870a-42bd0e909bc1\":{\"roots\":{\"references\":[{\"attributes\":{\"overlay\":{\"id\":\"2627f08d-86c7-4e09-ac31-5ecafaa1baa5\",\"type\":\"BoxAnnotation\"}},\"id\":\"e12d49a0-2e1f-4f8f-bcd8-b23d4fab315d\",\"type\":\"BoxZoomTool\"},{\"attributes\":{\"data_source\":{\"id\":\"b2709204-d522-4e25-9657-bb6febc875ad\",\"type\":\"ColumnDataSource\"},\"glyph\":{\"id\":\"9dad3c3c-8082-4f3d-9254-d5a7d91a1986\",\"type\":\"Circle\"},\"hover_glyph\":null,\"muted_glyph\":null,\"nonselection_glyph\":{\"id\":\"b230f762-4c82-4c36-aed3-465ae9e47a0b\",\"type\":\"Circle\"},\"selection_glyph\":null,\"view\":{\"id\":\"5882b972-2cde-49fc-8a66-eebd73e23e08\",\"type\":\"CDSView\"}},\"id\":\"62b6a09b-e2b5-4701-9410-757dd273b8cf\",\"type\":\"GlyphRenderer\"},{\"attributes\":{},\"id\":\"7d73d87b-a931-4736-bae8-7d480379d964\",\"type\":\"SaveTool\"},{\"attributes\":{},\"id\":\"aa7819f3-6ab4-4569-9f62-239e2454bc71\",\"type\":\"LinearScale\"},{\"attributes\":{},\"id\":\"d3bf67b1-f523-4f2d-b644-3a634ec5c7eb\",\"type\":\"ResetTool\"},{\"attributes\":{\"fill_alpha\":{\"value\":0.1},\"fill_color\":{\"value\":\"#1f77b4\"},\"line_alpha\":{\"value\":0.1},\"line_color\":{\"value\":\"#1f77b4\"},\"size\":{\"units\":\"screen\",\"value\":8},\"x\":{\"field\":\"x\"},\"y\":{\"field\":\"y\"}},\"id\":\"b230f762-4c82-4c36-aed3-465ae9e47a0b\",\"type\":\"Circle\"},{\"attributes\":{},\"id\":\"d1ef5cd9-31b9-4f1d-9dfc-07e02e88f169\",\"type\":\"HelpTool\"},{\"attributes\":{\"callback\":null},\"id\":\"b9a14185-1df5-4b1a-b305-a94514de5318\",\"type\":\"DataRange1d\"},{\"attributes\":{\"plot\":{\"id\":\"b8b75dec-804f-4643-ad29-9b5adefad133\",\"subtype\":\"Figure\",\"type\":\"Plot\"},\"ticker\":{\"id\":\"b66853e4-2bd0-4eff-a178-bd276d37c8bc\",\"type\":\"BasicTicker\"}},\"id\":\"d9ae81e4-c93a-477a-aa42-357b607c1089\",\"type\":\"Grid\"},{\"attributes\":{\"active_drag\":\"auto\",\"active_inspect\":\"auto\",\"active_scroll\":\"auto\",\"active_tap\":\"auto\",\"tools\":[{\"id\":\"808022fe-2799-4274-b1da-43b21da99a76\",\"type\":\"PanTool\"},{\"id\":\"100fd08b-fb6e-4e50-a87f-6a2864595962\",\"type\":\"WheelZoomTool\"},{\"id\":\"e12d49a0-2e1f-4f8f-bcd8-b23d4fab315d\",\"type\":\"BoxZoomTool\"},{\"id\":\"7d73d87b-a931-4736-bae8-7d480379d964\",\"type\":\"SaveTool\"},{\"id\":\"d3bf67b1-f523-4f2d-b644-3a634ec5c7eb\",\"type\":\"ResetTool\"},{\"id\":\"d1ef5cd9-31b9-4f1d-9dfc-07e02e88f169\",\"type\":\"HelpTool\"}]},\"id\":\"f7979dc1-5258-4e75-be6d-4823ba355a27\",\"type\":\"Toolbar\"},{\"attributes\":{},\"id\":\"2de5555d-2aa6-4138-82a5-ec8c0b2b5d31\",\"type\":\"LinearScale\"},{\"attributes\":{\"axis_label\":\"X\",\"formatter\":{\"id\":\"ea646cef-fba1-4f10-b316-eb4c101e320a\",\"type\":\"BasicTickFormatter\"},\"plot\":{\"id\":\"b8b75dec-804f-4643-ad29-9b5adefad133\",\"subtype\":\"Figure\",\"type\":\"Plot\"},\"ticker\":{\"id\":\"b66853e4-2bd0-4eff-a178-bd276d37c8bc\",\"type\":\"BasicTicker\"}},\"id\":\"85bb2a71-604c-4ae8-9cbc-07b8cd99bebc\",\"type\":\"LinearAxis\"},{\"attributes\":{},\"id\":\"b66853e4-2bd0-4eff-a178-bd276d37c8bc\",\"type\":\"BasicTicker\"},{\"attributes\":{\"axis_label\":\"Y\",\"formatter\":{\"id\":\"05eeff6a-71d7-426a-8489-1327ad3ff2d1\",\"type\":\"BasicTickFormatter\"},\"plot\":{\"id\":\"b8b75dec-804f-4643-ad29-9b5adefad133\",\"subtype\":\"Figure\",\"type\":\"Plot\"},\"ticker\":{\"id\":\"dbe11389-e52e-4db6-aab3-899786f07f85\",\"type\":\"BasicTicker\"}},\"id\":\"5b54b0f8-7e14-4858-86c6-ad2f3de5f807\",\"type\":\"LinearAxis\"},{\"attributes\":{},\"id\":\"dbe11389-e52e-4db6-aab3-899786f07f85\",\"type\":\"BasicTicker\"},{\"attributes\":{\"callback\":null,\"column_names\":[\"x\",\"y\"],\"data\":{\"x\":[1,2,3,4,5],\"y\":[1,3,2,4,1.5]}},\"id\":\"b2709204-d522-4e25-9657-bb6febc875ad\",\"type\":\"ColumnDataSource\"},{\"attributes\":{\"dimension\":1,\"plot\":{\"id\":\"b8b75dec-804f-4643-ad29-9b5adefad133\",\"subtype\":\"Figure\",\"type\":\"Plot\"},\"ticker\":{\"id\":\"dbe11389-e52e-4db6-aab3-899786f07f85\",\"type\":\"BasicTicker\"}},\"id\":\"4c2a6800-911c-4f99-a5bd-cd98d13b73e3\",\"type\":\"Grid\"},{\"attributes\":{},\"id\":\"ea646cef-fba1-4f10-b316-eb4c101e320a\",\"type\":\"BasicTickFormatter\"},{\"attributes\":{\"bottom_units\":\"screen\",\"fill_alpha\":{\"value\":0.5},\"fill_color\":{\"value\":\"lightgrey\"},\"left_units\":\"screen\",\"level\":\"overlay\",\"line_alpha\":{\"value\":1.0},\"line_color\":{\"value\":\"black\"},\"line_dash\":[4,4],\"line_width\":{\"value\":2},\"plot\":null,\"render_mode\":\"css\",\"right_units\":\"screen\",\"top_units\":\"screen\"},\"id\":\"2627f08d-86c7-4e09-ac31-5ecafaa1baa5\",\"type\":\"BoxAnnotation\"},{\"attributes\":{},\"id\":\"05eeff6a-71d7-426a-8489-1327ad3ff2d1\",\"type\":\"BasicTickFormatter\"},{\"attributes\":{\"source\":{\"id\":\"b2709204-d522-4e25-9657-bb6febc875ad\",\"type\":\"ColumnDataSource\"}},\"id\":\"5882b972-2cde-49fc-8a66-eebd73e23e08\",\"type\":\"CDSView\"},{\"attributes\":{\"fill_color\":{\"value\":\"#1f77b4\"},\"line_color\":{\"value\":\"#1f77b4\"},\"size\":{\"units\":\"screen\",\"value\":8},\"x\":{\"field\":\"x\"},\"y\":{\"field\":\"y\"}},\"id\":\"9dad3c3c-8082-4f3d-9254-d5a7d91a1986\",\"type\":\"Circle\"},{\"attributes\":{\"below\":[{\"id\":\"85bb2a71-604c-4ae8-9cbc-07b8cd99bebc\",\"type\":\"LinearAxis\"}],\"left\":[{\"id\":\"5b54b0f8-7e14-4858-86c6-ad2f3de5f807\",\"type\":\"LinearAxis\"}],\"plot_height\":400,\"plot_width\":500,\"renderers\":[{\"id\":\"85bb2a71-604c-4ae8-9cbc-07b8cd99bebc\",\"type\":\"LinearAxis\"},{\"id\":\"d9ae81e4-c93a-477a-aa42-357b607c1089\",\"type\":\"Grid\"},{\"id\":\"5b54b0f8-7e14-4858-86c6-ad2f3de5f807\",\"type\":\"LinearAxis\"},{\"id\":\"4c2a6800-911c-4f99-a5bd-cd98d13b73e3\",\"type\":\"Grid\"},{\"id\":\"2627f08d-86c7-4e09-ac31-5ecafaa1baa5\",\"type\":\"BoxAnnotation\"},{\"id\":\"62b6a09b-e2b5-4701-9410-757dd273b8cf\",\"type\":\"GlyphRenderer\"}],\"title\":{\"id\":\"429c08f1-4407-42fe-97eb-745eb83f6389\",\"type\":\"Title\"},\"toolbar\":{\"id\":\"f7979dc1-5258-4e75-be6d-4823ba355a27\",\"type\":\"Toolbar\"},\"x_range\":{\"id\":\"b9a14185-1df5-4b1a-b305-a94514de5318\",\"type\":\"DataRange1d\"},\"x_scale\":{\"id\":\"2de5555d-2aa6-4138-82a5-ec8c0b2b5d31\",\"type\":\"LinearScale\"},\"y_range\":{\"id\":\"6ca060a0-1d9e-4cbe-910a-206cbaa5fe8c\",\"type\":\"DataRange1d\"},\"y_scale\":{\"id\":\"aa7819f3-6ab4-4569-9f62-239e2454bc71\",\"type\":\"LinearScale\"}},\"id\":\"b8b75dec-804f-4643-ad29-9b5adefad133\",\"subtype\":\"Figure\",\"type\":\"Plot\"},{\"attributes\":{\"plot\":null,\"text\":\"Simple Scatter Plot (Try to interact with the plot)\"},\"id\":\"429c08f1-4407-42fe-97eb-745eb83f6389\",\"type\":\"Title\"},{\"attributes\":{},\"id\":\"808022fe-2799-4274-b1da-43b21da99a76\",\"type\":\"PanTool\"},{\"attributes\":{\"callback\":null},\"id\":\"6ca060a0-1d9e-4cbe-910a-206cbaa5fe8c\",\"type\":\"DataRange1d\"},{\"attributes\":{},\"id\":\"100fd08b-fb6e-4e50-a87f-6a2864595962\",\"type\":\"WheelZoomTool\"}],\"root_ids\":[\"b8b75dec-804f-4643-ad29-9b5adefad133\"]},\"title\":\"Bokeh Application\",\"version\":\"0.12.14\"}};\n",
       "  var render_items = [{\"docid\":\"9dec07ac-4108-4f31-870a-42bd0e909bc1\",\"elementid\":\"c882b9ed-5784-4280-840d-c87b66d4542a\",\"modelid\":\"b8b75dec-804f-4643-ad29-9b5adefad133\"}];\n",
       "  root.Bokeh.embed.embed_items_notebook(docs_json, render_items);\n",
       "\n",
       "  }\n",
       "  if (root.Bokeh !== undefined) {\n",
       "    embed_document(root);\n",
       "  } else {\n",
       "    var attempts = 0;\n",
       "    var timer = setInterval(function(root) {\n",
       "      if (root.Bokeh !== undefined) {\n",
       "        embed_document(root);\n",
       "        clearInterval(timer);\n",
       "      }\n",
       "      attempts++;\n",
       "      if (attempts > 100) {\n",
       "        console.log(\"Bokeh: ERROR: Unable to run BokehJS code because BokehJS library is missing\")\n",
       "        clearInterval(timer);\n",
       "      }\n",
       "    }, 10, root)\n",
       "  }\n",
       "})(window);"
      ],
      "application/vnd.bokehjs_exec.v0+json": ""
     },
     "metadata": {
      "application/vnd.bokehjs_exec.v0+json": {
       "id": "b8b75dec-804f-4643-ad29-9b5adefad133"
      }
     },
     "output_type": "display_data"
    }
   ],
   "source": [
    "from bokeh.plotting import figure, output_notebook, show\n",
    "\n",
    "# generate points for plotting\n",
    "x = [1,2,3,4,5]\n",
    "y = [1,3,2,4,1.5]\n",
    "\n",
    "# create a Figure object\n",
    "p = figure(plot_width=500, plot_height=400, title='Simple Scatter Plot (Try to interact with the plot)',\n",
    "           x_axis_label='X', y_axis_label='Y')\n",
    "\n",
    "# add elements, glyphs, to the figure, p\n",
    "p.scatter(x, y, size=8)\n",
    "\n",
    "# specify how to output the plot\n",
    "output_notebook()\n",
    "\n",
    "# show the figure\n",
    "show(p)"
   ]
  },
  {
   "cell_type": "markdown",
   "metadata": {},
   "source": [
    "As commented in the code above, there are four main procedures when plotting using Bokeh:\n",
    "1. **Create Figure object**: [Figure](https://bokeh.pydata.org/en/latest/docs/reference/plotting.html#bokeh.plotting.figure.Figure) object is generated by `figure()`. It can be understood as the canvas of the plotting. Plots are drown on this object. In `figure()`, you can specify the title, plot size, x axis label, etc.\n",
    "2. **Add elements**: Once you have the Figure object, you can add elements, which are called [Glyphs](https://bokeh.pydata.org/en/latest/docs/user_guide/plotting.html) in Bokeh. Each Glyph element acts like a layer. You can add multiple layers in the figure.  \n",
    "3. **Specify how to output**: There are two ways to output the graph, output directly in the jupyter notebook via `output_notebook()` or output in a separate html document via `output_file()`. Note that output method is a global setting in Bokeh. You set it once and don't need to worry about it until you restart the kernel. In this tutorial, we will use `output_notebook()`, since we only want to show our graphs in this notebook.  \n",
    "4. **Show the graph**: `show()` is the last step in plotting. It shows the graphs to the output file.  \n",
    "\n",
    "As you may notice, Bokeh comes with some interaction for this simple plot. There is a tool box at the left of the graph. Using these tools, we can move the graph around, select a part of the plot and zoom in and out. Interactions in Bokeh can be much more interesting than those. We'll explore them in latter sections."
   ]
  },
  {
   "cell_type": "markdown",
   "metadata": {},
   "source": [
    "### Dataset Description\n",
    "Let's see how Bokeh can do exploratory data analytics with more complicated dataset. The dataset we are using is collected from a low birth weight study. Let's load the data first."
   ]
  },
  {
   "cell_type": "code",
   "execution_count": 3,
   "metadata": {
    "scrolled": true
   },
   "outputs": [
    {
     "data": {
      "text/html": [
       "<div>\n",
       "<style scoped>\n",
       "    .dataframe tbody tr th:only-of-type {\n",
       "        vertical-align: middle;\n",
       "    }\n",
       "\n",
       "    .dataframe tbody tr th {\n",
       "        vertical-align: top;\n",
       "    }\n",
       "\n",
       "    .dataframe thead th {\n",
       "        text-align: right;\n",
       "    }\n",
       "</style>\n",
       "<table border=\"1\" class=\"dataframe\">\n",
       "  <thead>\n",
       "    <tr style=\"text-align: right;\">\n",
       "      <th></th>\n",
       "      <th>low</th>\n",
       "      <th>age</th>\n",
       "      <th>lwt</th>\n",
       "      <th>race</th>\n",
       "      <th>smoke</th>\n",
       "      <th>ptl</th>\n",
       "      <th>ht</th>\n",
       "      <th>ui</th>\n",
       "      <th>ftv</th>\n",
       "      <th>bwt</th>\n",
       "      <th>mother.other</th>\n",
       "      <th>mother.white</th>\n",
       "      <th>mother.black</th>\n",
       "      <th>mother.smokes</th>\n",
       "    </tr>\n",
       "  </thead>\n",
       "  <tbody>\n",
       "    <tr>\n",
       "      <th>0</th>\n",
       "      <td>0</td>\n",
       "      <td>19</td>\n",
       "      <td>182</td>\n",
       "      <td>black</td>\n",
       "      <td>0</td>\n",
       "      <td>0</td>\n",
       "      <td>0</td>\n",
       "      <td>1</td>\n",
       "      <td>0</td>\n",
       "      <td>2523</td>\n",
       "      <td>0</td>\n",
       "      <td>0</td>\n",
       "      <td>1</td>\n",
       "      <td>no</td>\n",
       "    </tr>\n",
       "    <tr>\n",
       "      <th>1</th>\n",
       "      <td>0</td>\n",
       "      <td>33</td>\n",
       "      <td>155</td>\n",
       "      <td>other</td>\n",
       "      <td>0</td>\n",
       "      <td>0</td>\n",
       "      <td>0</td>\n",
       "      <td>0</td>\n",
       "      <td>3</td>\n",
       "      <td>2551</td>\n",
       "      <td>1</td>\n",
       "      <td>0</td>\n",
       "      <td>0</td>\n",
       "      <td>no</td>\n",
       "    </tr>\n",
       "    <tr>\n",
       "      <th>2</th>\n",
       "      <td>0</td>\n",
       "      <td>20</td>\n",
       "      <td>105</td>\n",
       "      <td>white</td>\n",
       "      <td>1</td>\n",
       "      <td>0</td>\n",
       "      <td>0</td>\n",
       "      <td>0</td>\n",
       "      <td>1</td>\n",
       "      <td>2557</td>\n",
       "      <td>0</td>\n",
       "      <td>1</td>\n",
       "      <td>0</td>\n",
       "      <td>yes</td>\n",
       "    </tr>\n",
       "    <tr>\n",
       "      <th>3</th>\n",
       "      <td>0</td>\n",
       "      <td>21</td>\n",
       "      <td>108</td>\n",
       "      <td>white</td>\n",
       "      <td>1</td>\n",
       "      <td>0</td>\n",
       "      <td>0</td>\n",
       "      <td>1</td>\n",
       "      <td>2</td>\n",
       "      <td>2594</td>\n",
       "      <td>0</td>\n",
       "      <td>1</td>\n",
       "      <td>0</td>\n",
       "      <td>yes</td>\n",
       "    </tr>\n",
       "    <tr>\n",
       "      <th>4</th>\n",
       "      <td>0</td>\n",
       "      <td>18</td>\n",
       "      <td>107</td>\n",
       "      <td>white</td>\n",
       "      <td>1</td>\n",
       "      <td>0</td>\n",
       "      <td>0</td>\n",
       "      <td>1</td>\n",
       "      <td>0</td>\n",
       "      <td>2600</td>\n",
       "      <td>0</td>\n",
       "      <td>1</td>\n",
       "      <td>0</td>\n",
       "      <td>yes</td>\n",
       "    </tr>\n",
       "  </tbody>\n",
       "</table>\n",
       "</div>"
      ],
      "text/plain": [
       "   low  age  lwt   race  smoke  ptl  ht  ui  ftv   bwt  mother.other  \\\n",
       "0    0   19  182  black      0    0   0   1    0  2523             0   \n",
       "1    0   33  155  other      0    0   0   0    3  2551             1   \n",
       "2    0   20  105  white      1    0   0   0    1  2557             0   \n",
       "3    0   21  108  white      1    0   0   1    2  2594             0   \n",
       "4    0   18  107  white      1    0   0   1    0  2600             0   \n",
       "\n",
       "   mother.white  mother.black mother.smokes  \n",
       "0             0             1            no  \n",
       "1             0             0            no  \n",
       "2             1             0           yes  \n",
       "3             1             0           yes  \n",
       "4             1             0           yes  "
      ]
     },
     "execution_count": 3,
     "metadata": {},
     "output_type": "execute_result"
    }
   ],
   "source": [
    "#load data\n",
    "df = pd.read_csv('https://s3.amazonaws.com/aws-website-programminginrforanalytics-tbal0/data/birthwt.csv')\n",
    "df.head()"
   ]
  },
  {
   "cell_type": "markdown",
   "metadata": {},
   "source": [
    "The column metadata are listed as following:\n",
    "\n",
    "| Column Name | Description |\n",
    "| --- | --- |\n",
    "| low |Low Birth Weight Baby (1=Yes under 2500g, 0=No)|\n",
    "| age | Mother's age in years |\n",
    "| lwt  | Weight at Last Period | \n",
    "| race  | Race (1=White, 2=Black, 3=Other)  |\n",
    "| smoke | Smoke during Pregnancy (1=Yes, 0=No)|  \n",
    "| plt   | History of Premature Labour (# of times)|  \n",
    "| ht    | History of Hypertension (1=Yes, 0=No)  |\n",
    "| ui    | Presence of Uterine Irritability (1=Yes, 0=No)  |\n",
    "| ftv   | Visits to Doctor During 1st trimester  |\n",
    "| bwt   | Baby's birth Weight in Grams  |\n"
   ]
  },
  {
   "cell_type": "markdown",
   "metadata": {},
   "source": [
    "Since the data is about babies' birth weights, we would like to see the distribution of our data on birth weight. We prepare data using `numpy.histogram()`."
   ]
  },
  {
   "cell_type": "code",
   "execution_count": 4,
   "metadata": {},
   "outputs": [],
   "source": [
    "# Prepare the data to plot using NumPy\n",
    "birth_weight = df.bwt\n",
    "hist, edges = np.histogram(birth_weight, bins=25)"
   ]
  },
  {
   "cell_type": "code",
   "execution_count": 5,
   "metadata": {},
   "outputs": [
    {
     "data": {
      "text/html": [
       "\n",
       "<div class=\"bk-root\">\n",
       "    <div class=\"bk-plotdiv\" id=\"a092c7c4-a925-4e4c-9bba-c2ec0abd8605\"></div>\n",
       "</div>"
      ]
     },
     "metadata": {},
     "output_type": "display_data"
    },
    {
     "data": {
      "application/javascript": [
       "(function(root) {\n",
       "  function embed_document(root) {\n",
       "    \n",
       "  var docs_json = {\"9696ee1f-56d9-4f96-b1cd-a13d9e1b33e0\":{\"roots\":{\"references\":[{\"attributes\":{},\"id\":\"8b50ab47-7a69-4307-bdaa-33c9987e4412\",\"type\":\"LinearScale\"},{\"attributes\":{\"axis_label\":\"Counts\",\"formatter\":{\"id\":\"7abd4558-1357-42c9-b909-55de8ed72591\",\"type\":\"BasicTickFormatter\"},\"plot\":{\"id\":\"f84450cf-f138-41ce-93a9-d423a9bf9737\",\"subtype\":\"Figure\",\"type\":\"Plot\"},\"ticker\":{\"id\":\"e779044e-3ce8-48bf-8f16-a1bc7737f9f6\",\"type\":\"BasicTicker\"}},\"id\":\"33076c17-475f-42d8-acd0-fa11378136db\",\"type\":\"LinearAxis\"},{\"attributes\":{},\"id\":\"dd8347e3-5859-4148-bb23-3ecc7a994bcc\",\"type\":\"ResetTool\"},{\"attributes\":{},\"id\":\"67aa1e58-09fe-40ac-bc2e-dd1efc4cb467\",\"type\":\"HelpTool\"},{\"attributes\":{\"overlay\":{\"id\":\"7df3c415-0b62-44d8-8a38-fde8d555f99c\",\"type\":\"BoxAnnotation\"}},\"id\":\"8e619845-ffdc-4a2f-9a21-2e7f103a635a\",\"type\":\"BoxZoomTool\"},{\"attributes\":{\"below\":[{\"id\":\"dd5ffd0e-e624-4130-b74b-f2c9af795950\",\"type\":\"LinearAxis\"}],\"left\":[{\"id\":\"33076c17-475f-42d8-acd0-fa11378136db\",\"type\":\"LinearAxis\"}],\"plot_height\":400,\"plot_width\":500,\"renderers\":[{\"id\":\"dd5ffd0e-e624-4130-b74b-f2c9af795950\",\"type\":\"LinearAxis\"},{\"id\":\"ddbc367d-31cf-4d07-b8d5-46ec6ce353c2\",\"type\":\"Grid\"},{\"id\":\"33076c17-475f-42d8-acd0-fa11378136db\",\"type\":\"LinearAxis\"},{\"id\":\"77c88b77-25c6-4fe4-9fa2-e81b43064cb5\",\"type\":\"Grid\"},{\"id\":\"7df3c415-0b62-44d8-8a38-fde8d555f99c\",\"type\":\"BoxAnnotation\"},{\"id\":\"b602a921-66e2-46bc-9702-15686a9857e2\",\"type\":\"GlyphRenderer\"}],\"title\":{\"id\":\"35eacfe5-b088-48f9-a954-e97e8b528775\",\"type\":\"Title\"},\"toolbar\":{\"id\":\"712d4597-18ff-41c4-b083-bd4e5a57e8b8\",\"type\":\"Toolbar\"},\"x_range\":{\"id\":\"d0368f7c-9bac-4d2e-955d-1206423592fe\",\"type\":\"DataRange1d\"},\"x_scale\":{\"id\":\"2a4c098d-8fb2-4f6f-afa8-548c0cb4f1d8\",\"type\":\"LinearScale\"},\"y_range\":{\"id\":\"8f9d2831-c426-42ee-a63e-17546a076781\",\"type\":\"DataRange1d\"},\"y_scale\":{\"id\":\"8b50ab47-7a69-4307-bdaa-33c9987e4412\",\"type\":\"LinearScale\"}},\"id\":\"f84450cf-f138-41ce-93a9-d423a9bf9737\",\"subtype\":\"Figure\",\"type\":\"Plot\"},{\"attributes\":{\"plot\":{\"id\":\"f84450cf-f138-41ce-93a9-d423a9bf9737\",\"subtype\":\"Figure\",\"type\":\"Plot\"},\"ticker\":{\"id\":\"bd24f1df-5c13-4fee-9d11-1e942300289a\",\"type\":\"BasicTicker\"}},\"id\":\"ddbc367d-31cf-4d07-b8d5-46ec6ce353c2\",\"type\":\"Grid\"},{\"attributes\":{\"callback\":null,\"column_names\":[\"left\",\"right\",\"top\"],\"data\":{\"left\":{\"__ndarray__\":\"AAAAAAAohkBSuB6F64GLQFK4HoXrbZBAexSuR+Eak0CkcD0K18eVQM3MzMzMdJhA9ihcj8Ihm0AfhetRuM6dQKRwPQrXPaBAuB6F61GUoUDNzMzMzOqiQOJ6FK5HQaRA9ihcj8KXpUAK16NwPe6mQB+F61G4RKhANDMzMzObqUBI4XoUrvGqQFyPwvUoSKxAcT0K16OerUCG61G4HvWuQM3MzMzMJbBA16NwPQrRsEDiehSuR3yxQOxRuB6FJ7JA9ihcj8LSskA=\",\"dtype\":\"float64\",\"shape\":[25]},\"right\":{\"__ndarray__\":\"UrgeheuBi0BSuB6F622QQHsUrkfhGpNApHA9CtfHlUDNzMzMzHSYQPYoXI/CIZtAH4XrUbjOnUCkcD0K1z2gQLgehetRlKFAzczMzMzqokDiehSuR0GkQPYoXI/Cl6VACtejcD3upkAfhetRuESoQDQzMzMzm6lASOF6FK7xqkBcj8L1KEisQHE9Ctejnq1AhutRuB71rkDNzMzMzCWwQNejcD0K0bBA4noUrkd8sUDsUbgehSeyQPYoXI/C0rJAAAAAAAB+s0A=\",\"dtype\":\"float64\",\"shape\":[25]},\"top\":[1,1,1,1,1,4,5,7,12,15,14,11,18,20,15,12,12,15,11,7,4,0,1,0,1]}},\"id\":\"34de4819-752c-42de-b316-750c6a380e2e\",\"type\":\"ColumnDataSource\"},{\"attributes\":{\"bottom\":{\"value\":0},\"fill_color\":{\"value\":\"#036564\"},\"left\":{\"field\":\"left\"},\"line_color\":{\"value\":\"#033649\"},\"right\":{\"field\":\"right\"},\"top\":{\"field\":\"top\"}},\"id\":\"5b065500-3aa7-47d6-b48d-9ba36f4d78a5\",\"type\":\"Quad\"},{\"attributes\":{},\"id\":\"8683e0fa-45ba-4a10-b84a-d545c247e114\",\"type\":\"PanTool\"},{\"attributes\":{},\"id\":\"bd24f1df-5c13-4fee-9d11-1e942300289a\",\"type\":\"BasicTicker\"},{\"attributes\":{},\"id\":\"e779044e-3ce8-48bf-8f16-a1bc7737f9f6\",\"type\":\"BasicTicker\"},{\"attributes\":{\"axis_label\":\"Baby's birth Weight in Grams\",\"formatter\":{\"id\":\"1b1570e2-bcea-40f5-9953-f3981e6f9c99\",\"type\":\"BasicTickFormatter\"},\"plot\":{\"id\":\"f84450cf-f138-41ce-93a9-d423a9bf9737\",\"subtype\":\"Figure\",\"type\":\"Plot\"},\"ticker\":{\"id\":\"bd24f1df-5c13-4fee-9d11-1e942300289a\",\"type\":\"BasicTicker\"}},\"id\":\"dd5ffd0e-e624-4130-b74b-f2c9af795950\",\"type\":\"LinearAxis\"},{\"attributes\":{\"plot\":null,\"text\":\"Histogram on Baby's birth Weight\"},\"id\":\"35eacfe5-b088-48f9-a954-e97e8b528775\",\"type\":\"Title\"},{\"attributes\":{},\"id\":\"2a4c098d-8fb2-4f6f-afa8-548c0cb4f1d8\",\"type\":\"LinearScale\"},{\"attributes\":{\"dimension\":1,\"plot\":{\"id\":\"f84450cf-f138-41ce-93a9-d423a9bf9737\",\"subtype\":\"Figure\",\"type\":\"Plot\"},\"ticker\":{\"id\":\"e779044e-3ce8-48bf-8f16-a1bc7737f9f6\",\"type\":\"BasicTicker\"}},\"id\":\"77c88b77-25c6-4fe4-9fa2-e81b43064cb5\",\"type\":\"Grid\"},{\"attributes\":{\"data_source\":{\"id\":\"34de4819-752c-42de-b316-750c6a380e2e\",\"type\":\"ColumnDataSource\"},\"glyph\":{\"id\":\"5b065500-3aa7-47d6-b48d-9ba36f4d78a5\",\"type\":\"Quad\"},\"hover_glyph\":null,\"muted_glyph\":null,\"nonselection_glyph\":{\"id\":\"0e7db1e9-6be1-4137-9bfb-59bea536a1b9\",\"type\":\"Quad\"},\"selection_glyph\":null,\"view\":{\"id\":\"42557c79-5dd8-4159-b9f0-991b93c33d89\",\"type\":\"CDSView\"}},\"id\":\"b602a921-66e2-46bc-9702-15686a9857e2\",\"type\":\"GlyphRenderer\"},{\"attributes\":{\"active_drag\":\"auto\",\"active_inspect\":\"auto\",\"active_scroll\":\"auto\",\"active_tap\":\"auto\",\"tools\":[{\"id\":\"8683e0fa-45ba-4a10-b84a-d545c247e114\",\"type\":\"PanTool\"},{\"id\":\"ca7764dc-c4a4-49e0-8a27-65e1612b6f05\",\"type\":\"WheelZoomTool\"},{\"id\":\"8e619845-ffdc-4a2f-9a21-2e7f103a635a\",\"type\":\"BoxZoomTool\"},{\"id\":\"bf89793f-c824-4781-a997-a46d7060aa97\",\"type\":\"SaveTool\"},{\"id\":\"dd8347e3-5859-4148-bb23-3ecc7a994bcc\",\"type\":\"ResetTool\"},{\"id\":\"67aa1e58-09fe-40ac-bc2e-dd1efc4cb467\",\"type\":\"HelpTool\"}]},\"id\":\"712d4597-18ff-41c4-b083-bd4e5a57e8b8\",\"type\":\"Toolbar\"},{\"attributes\":{},\"id\":\"1b1570e2-bcea-40f5-9953-f3981e6f9c99\",\"type\":\"BasicTickFormatter\"},{\"attributes\":{\"bottom_units\":\"screen\",\"fill_alpha\":{\"value\":0.5},\"fill_color\":{\"value\":\"lightgrey\"},\"left_units\":\"screen\",\"level\":\"overlay\",\"line_alpha\":{\"value\":1.0},\"line_color\":{\"value\":\"black\"},\"line_dash\":[4,4],\"line_width\":{\"value\":2},\"plot\":null,\"render_mode\":\"css\",\"right_units\":\"screen\",\"top_units\":\"screen\"},\"id\":\"7df3c415-0b62-44d8-8a38-fde8d555f99c\",\"type\":\"BoxAnnotation\"},{\"attributes\":{},\"id\":\"ca7764dc-c4a4-49e0-8a27-65e1612b6f05\",\"type\":\"WheelZoomTool\"},{\"attributes\":{\"callback\":null},\"id\":\"d0368f7c-9bac-4d2e-955d-1206423592fe\",\"type\":\"DataRange1d\"},{\"attributes\":{},\"id\":\"bf89793f-c824-4781-a997-a46d7060aa97\",\"type\":\"SaveTool\"},{\"attributes\":{\"source\":{\"id\":\"34de4819-752c-42de-b316-750c6a380e2e\",\"type\":\"ColumnDataSource\"}},\"id\":\"42557c79-5dd8-4159-b9f0-991b93c33d89\",\"type\":\"CDSView\"},{\"attributes\":{},\"id\":\"7abd4558-1357-42c9-b909-55de8ed72591\",\"type\":\"BasicTickFormatter\"},{\"attributes\":{\"bottom\":{\"value\":0},\"fill_alpha\":{\"value\":0.1},\"fill_color\":{\"value\":\"#1f77b4\"},\"left\":{\"field\":\"left\"},\"line_alpha\":{\"value\":0.1},\"line_color\":{\"value\":\"#1f77b4\"},\"right\":{\"field\":\"right\"},\"top\":{\"field\":\"top\"}},\"id\":\"0e7db1e9-6be1-4137-9bfb-59bea536a1b9\",\"type\":\"Quad\"},{\"attributes\":{\"callback\":null},\"id\":\"8f9d2831-c426-42ee-a63e-17546a076781\",\"type\":\"DataRange1d\"}],\"root_ids\":[\"f84450cf-f138-41ce-93a9-d423a9bf9737\"]},\"title\":\"Bokeh Application\",\"version\":\"0.12.14\"}};\n",
       "  var render_items = [{\"docid\":\"9696ee1f-56d9-4f96-b1cd-a13d9e1b33e0\",\"elementid\":\"a092c7c4-a925-4e4c-9bba-c2ec0abd8605\",\"modelid\":\"f84450cf-f138-41ce-93a9-d423a9bf9737\"}];\n",
       "  root.Bokeh.embed.embed_items_notebook(docs_json, render_items);\n",
       "\n",
       "  }\n",
       "  if (root.Bokeh !== undefined) {\n",
       "    embed_document(root);\n",
       "  } else {\n",
       "    var attempts = 0;\n",
       "    var timer = setInterval(function(root) {\n",
       "      if (root.Bokeh !== undefined) {\n",
       "        embed_document(root);\n",
       "        clearInterval(timer);\n",
       "      }\n",
       "      attempts++;\n",
       "      if (attempts > 100) {\n",
       "        console.log(\"Bokeh: ERROR: Unable to run BokehJS code because BokehJS library is missing\")\n",
       "        clearInterval(timer);\n",
       "      }\n",
       "    }, 10, root)\n",
       "  }\n",
       "})(window);"
      ],
      "application/vnd.bokehjs_exec.v0+json": ""
     },
     "metadata": {
      "application/vnd.bokehjs_exec.v0+json": {
       "id": "f84450cf-f138-41ce-93a9-d423a9bf9737"
      }
     },
     "output_type": "display_data"
    }
   ],
   "source": [
    "# create a Figure object\n",
    "p = figure(title=\"Histogram on Baby's birth Weight\", plot_width=500, plot_height=400,\n",
    "          x_axis_label=\"Baby's birth Weight in Grams\",\n",
    "          y_axis_label=\"Counts\")\n",
    "# add elements, quad, to the figure, p\n",
    "p.quad(top=hist, bottom=0, left=edges[:-1], right=edges[1:], fill_color=\"#036564\", line_color=\"#033649\")\n",
    "show(p)"
   ]
  },
  {
   "cell_type": "markdown",
   "metadata": {},
   "source": [
    "### Adding Interactivity"
   ]
  },
  {
   "cell_type": "markdown",
   "metadata": {},
   "source": [
    "#### Using Hover Tool"
   ]
  },
  {
   "cell_type": "markdown",
   "metadata": {},
   "source": [
    "The interaction that comes with Bokeh default is called passive interaction because it only allow user to observe the the same visualization slightly different. What we are going to do now is call active interaction, which allow user to actually explore the data by presenting data differently.  \n",
    "We will start with two important [tools](https://bokeh.pydata.org/en/latest/docs/user_guide/tools.html), box_select tool and hover tool. The box_select tool let you to select certain bars and the hover tool gives you information about the data when you put the mouse on the graph."
   ]
  },
  {
   "cell_type": "code",
   "execution_count": 6,
   "metadata": {},
   "outputs": [
    {
     "data": {
      "text/html": [
       "\n",
       "<div class=\"bk-root\">\n",
       "    <div class=\"bk-plotdiv\" id=\"ed7e601d-cb59-40cf-85c3-8aaf7b353ac0\"></div>\n",
       "</div>"
      ]
     },
     "metadata": {},
     "output_type": "display_data"
    },
    {
     "data": {
      "application/javascript": [
       "(function(root) {\n",
       "  function embed_document(root) {\n",
       "    \n",
       "  var docs_json = {\"5c87203c-c140-492f-b7b6-4c61533ea704\":{\"roots\":{\"references\":[{\"attributes\":{\"callback\":null},\"id\":\"80e3d005-7e1a-462e-90ed-c2f5841c5241\",\"type\":\"DataRange1d\"},{\"attributes\":{\"data_source\":{\"id\":\"f0277807-f284-4cc7-b901-c454963645c6\",\"type\":\"ColumnDataSource\"},\"glyph\":{\"id\":\"0ffa1dd4-25d5-4b8b-8602-521cdfa1e0fe\",\"type\":\"Quad\"},\"hover_glyph\":null,\"muted_glyph\":null,\"nonselection_glyph\":{\"id\":\"f4379040-dd75-4e73-a9f6-be2d253e3595\",\"type\":\"Quad\"},\"selection_glyph\":null,\"view\":{\"id\":\"b2942b61-5ac2-4456-84ce-b5454c8c3d72\",\"type\":\"CDSView\"}},\"id\":\"cc5aab36-1c7c-4bdb-8e07-6eed8a37f302\",\"type\":\"GlyphRenderer\"},{\"attributes\":{\"bottom\":{\"value\":0},\"fill_color\":{\"value\":\"#036564\"},\"left\":{\"field\":\"left\"},\"line_color\":{\"value\":\"#033649\"},\"right\":{\"field\":\"right\"},\"top\":{\"field\":\"top\"}},\"id\":\"0ffa1dd4-25d5-4b8b-8602-521cdfa1e0fe\",\"type\":\"Quad\"},{\"attributes\":{\"active_drag\":\"auto\",\"active_inspect\":\"auto\",\"active_scroll\":\"auto\",\"active_tap\":\"auto\",\"tools\":[{\"id\":\"47cd7a4f-f0a9-4afd-86a6-8ceeeaa11ab5\",\"type\":\"BoxSelectTool\"},{\"id\":\"f2e1be17-186f-49b7-beee-d2b51f003736\",\"type\":\"HoverTool\"},{\"id\":\"f07e439f-1d5d-4b8d-9a5d-f474194fe5db\",\"type\":\"ResetTool\"}]},\"id\":\"ac7d2fa0-b607-4596-a4cd-afeedaa65b24\",\"type\":\"Toolbar\"},{\"attributes\":{},\"id\":\"49f17163-07e5-441c-8f72-013a745b5370\",\"type\":\"LinearScale\"},{\"attributes\":{},\"id\":\"4978c7b7-acfd-41ad-894d-b345d3cba4f0\",\"type\":\"BasicTickFormatter\"},{\"attributes\":{\"callback\":null},\"id\":\"d7d7053a-b12d-4e08-8de5-7046491ef793\",\"type\":\"DataRange1d\"},{\"attributes\":{\"source\":{\"id\":\"f0277807-f284-4cc7-b901-c454963645c6\",\"type\":\"ColumnDataSource\"}},\"id\":\"b2942b61-5ac2-4456-84ce-b5454c8c3d72\",\"type\":\"CDSView\"},{\"attributes\":{},\"id\":\"a9473886-9ae4-49c3-8ee8-cb1fb422cace\",\"type\":\"LinearScale\"},{\"attributes\":{\"plot\":{\"id\":\"0f0df9fc-2f02-4148-8b07-f70a11712423\",\"subtype\":\"Figure\",\"type\":\"Plot\"},\"ticker\":{\"id\":\"4c5f8910-89f0-4a48-972d-e7d420d2f6a1\",\"type\":\"BasicTicker\"}},\"id\":\"7428c51f-7177-49fd-a7ea-d0ddb76111c0\",\"type\":\"Grid\"},{\"attributes\":{\"axis_label\":\"Baby's birth Weight in Grams\",\"formatter\":{\"id\":\"4978c7b7-acfd-41ad-894d-b345d3cba4f0\",\"type\":\"BasicTickFormatter\"},\"plot\":{\"id\":\"0f0df9fc-2f02-4148-8b07-f70a11712423\",\"subtype\":\"Figure\",\"type\":\"Plot\"},\"ticker\":{\"id\":\"4c5f8910-89f0-4a48-972d-e7d420d2f6a1\",\"type\":\"BasicTicker\"}},\"id\":\"d49c432e-48a5-40b1-bacf-28064f92ebfd\",\"type\":\"LinearAxis\"},{\"attributes\":{\"callback\":null,\"column_names\":[\"left\",\"right\",\"top\"],\"data\":{\"left\":{\"__ndarray__\":\"AAAAAAAohkBSuB6F64GLQFK4HoXrbZBAexSuR+Eak0CkcD0K18eVQM3MzMzMdJhA9ihcj8Ihm0AfhetRuM6dQKRwPQrXPaBAuB6F61GUoUDNzMzMzOqiQOJ6FK5HQaRA9ihcj8KXpUAK16NwPe6mQB+F61G4RKhANDMzMzObqUBI4XoUrvGqQFyPwvUoSKxAcT0K16OerUCG61G4HvWuQM3MzMzMJbBA16NwPQrRsEDiehSuR3yxQOxRuB6FJ7JA9ihcj8LSskA=\",\"dtype\":\"float64\",\"shape\":[25]},\"right\":{\"__ndarray__\":\"UrgeheuBi0BSuB6F622QQHsUrkfhGpNApHA9CtfHlUDNzMzMzHSYQPYoXI/CIZtAH4XrUbjOnUCkcD0K1z2gQLgehetRlKFAzczMzMzqokDiehSuR0GkQPYoXI/Cl6VACtejcD3upkAfhetRuESoQDQzMzMzm6lASOF6FK7xqkBcj8L1KEisQHE9Ctejnq1AhutRuB71rkDNzMzMzCWwQNejcD0K0bBA4noUrkd8sUDsUbgehSeyQPYoXI/C0rJAAAAAAAB+s0A=\",\"dtype\":\"float64\",\"shape\":[25]},\"top\":[1,1,1,1,1,4,5,7,12,15,14,11,18,20,15,12,12,15,11,7,4,0,1,0,1]}},\"id\":\"f0277807-f284-4cc7-b901-c454963645c6\",\"type\":\"ColumnDataSource\"},{\"attributes\":{},\"id\":\"4c5f8910-89f0-4a48-972d-e7d420d2f6a1\",\"type\":\"BasicTicker\"},{\"attributes\":{\"callback\":null},\"id\":\"f2e1be17-186f-49b7-beee-d2b51f003736\",\"type\":\"HoverTool\"},{\"attributes\":{},\"id\":\"f07e439f-1d5d-4b8d-9a5d-f474194fe5db\",\"type\":\"ResetTool\"},{\"attributes\":{\"axis_label\":\"Counts\",\"formatter\":{\"id\":\"aa2d4fa8-21fc-442d-b283-f65a749d07eb\",\"type\":\"BasicTickFormatter\"},\"plot\":{\"id\":\"0f0df9fc-2f02-4148-8b07-f70a11712423\",\"subtype\":\"Figure\",\"type\":\"Plot\"},\"ticker\":{\"id\":\"b5a85bef-85a8-490f-9465-ccb56329780c\",\"type\":\"BasicTicker\"}},\"id\":\"377d87c6-20b3-4905-ae14-fdd6dd4ec585\",\"type\":\"LinearAxis\"},{\"attributes\":{},\"id\":\"b5a85bef-85a8-490f-9465-ccb56329780c\",\"type\":\"BasicTicker\"},{\"attributes\":{\"dimension\":1,\"plot\":{\"id\":\"0f0df9fc-2f02-4148-8b07-f70a11712423\",\"subtype\":\"Figure\",\"type\":\"Plot\"},\"ticker\":{\"id\":\"b5a85bef-85a8-490f-9465-ccb56329780c\",\"type\":\"BasicTicker\"}},\"id\":\"dc9e9b40-0cf8-4a7c-a754-0a5d80c8afbd\",\"type\":\"Grid\"},{\"attributes\":{\"bottom_units\":\"screen\",\"fill_alpha\":{\"value\":0.5},\"fill_color\":{\"value\":\"lightgrey\"},\"left_units\":\"screen\",\"level\":\"overlay\",\"line_alpha\":{\"value\":1.0},\"line_color\":{\"value\":\"black\"},\"line_dash\":[4,4],\"line_width\":{\"value\":2},\"plot\":null,\"render_mode\":\"css\",\"right_units\":\"screen\",\"top_units\":\"screen\"},\"id\":\"4973ae92-dc95-493a-9dbf-5441aa8cf1ee\",\"type\":\"BoxAnnotation\"},{\"attributes\":{\"below\":[{\"id\":\"d49c432e-48a5-40b1-bacf-28064f92ebfd\",\"type\":\"LinearAxis\"}],\"left\":[{\"id\":\"377d87c6-20b3-4905-ae14-fdd6dd4ec585\",\"type\":\"LinearAxis\"}],\"plot_height\":400,\"plot_width\":500,\"renderers\":[{\"id\":\"d49c432e-48a5-40b1-bacf-28064f92ebfd\",\"type\":\"LinearAxis\"},{\"id\":\"7428c51f-7177-49fd-a7ea-d0ddb76111c0\",\"type\":\"Grid\"},{\"id\":\"377d87c6-20b3-4905-ae14-fdd6dd4ec585\",\"type\":\"LinearAxis\"},{\"id\":\"dc9e9b40-0cf8-4a7c-a754-0a5d80c8afbd\",\"type\":\"Grid\"},{\"id\":\"4973ae92-dc95-493a-9dbf-5441aa8cf1ee\",\"type\":\"BoxAnnotation\"},{\"id\":\"cc5aab36-1c7c-4bdb-8e07-6eed8a37f302\",\"type\":\"GlyphRenderer\"}],\"title\":{\"id\":\"051fd054-173b-49c7-80ec-a21bf69dabcb\",\"type\":\"Title\"},\"toolbar\":{\"id\":\"ac7d2fa0-b607-4596-a4cd-afeedaa65b24\",\"type\":\"Toolbar\"},\"x_range\":{\"id\":\"80e3d005-7e1a-462e-90ed-c2f5841c5241\",\"type\":\"DataRange1d\"},\"x_scale\":{\"id\":\"49f17163-07e5-441c-8f72-013a745b5370\",\"type\":\"LinearScale\"},\"y_range\":{\"id\":\"d7d7053a-b12d-4e08-8de5-7046491ef793\",\"type\":\"DataRange1d\"},\"y_scale\":{\"id\":\"a9473886-9ae4-49c3-8ee8-cb1fb422cace\",\"type\":\"LinearScale\"}},\"id\":\"0f0df9fc-2f02-4148-8b07-f70a11712423\",\"subtype\":\"Figure\",\"type\":\"Plot\"},{\"attributes\":{\"callback\":null,\"overlay\":{\"id\":\"4973ae92-dc95-493a-9dbf-5441aa8cf1ee\",\"type\":\"BoxAnnotation\"},\"renderers\":[{\"id\":\"cc5aab36-1c7c-4bdb-8e07-6eed8a37f302\",\"type\":\"GlyphRenderer\"}]},\"id\":\"47cd7a4f-f0a9-4afd-86a6-8ceeeaa11ab5\",\"type\":\"BoxSelectTool\"},{\"attributes\":{\"bottom\":{\"value\":0},\"fill_alpha\":{\"value\":0.1},\"fill_color\":{\"value\":\"#1f77b4\"},\"left\":{\"field\":\"left\"},\"line_alpha\":{\"value\":0.1},\"line_color\":{\"value\":\"#1f77b4\"},\"right\":{\"field\":\"right\"},\"top\":{\"field\":\"top\"}},\"id\":\"f4379040-dd75-4e73-a9f6-be2d253e3595\",\"type\":\"Quad\"},{\"attributes\":{},\"id\":\"aa2d4fa8-21fc-442d-b283-f65a749d07eb\",\"type\":\"BasicTickFormatter\"},{\"attributes\":{\"plot\":null,\"text\":\"Try to select bars and reset the graph\"},\"id\":\"051fd054-173b-49c7-80ec-a21bf69dabcb\",\"type\":\"Title\"}],\"root_ids\":[\"0f0df9fc-2f02-4148-8b07-f70a11712423\"]},\"title\":\"Bokeh Application\",\"version\":\"0.12.14\"}};\n",
       "  var render_items = [{\"docid\":\"5c87203c-c140-492f-b7b6-4c61533ea704\",\"elementid\":\"ed7e601d-cb59-40cf-85c3-8aaf7b353ac0\",\"modelid\":\"0f0df9fc-2f02-4148-8b07-f70a11712423\"}];\n",
       "  root.Bokeh.embed.embed_items_notebook(docs_json, render_items);\n",
       "\n",
       "  }\n",
       "  if (root.Bokeh !== undefined) {\n",
       "    embed_document(root);\n",
       "  } else {\n",
       "    var attempts = 0;\n",
       "    var timer = setInterval(function(root) {\n",
       "      if (root.Bokeh !== undefined) {\n",
       "        embed_document(root);\n",
       "        clearInterval(timer);\n",
       "      }\n",
       "      attempts++;\n",
       "      if (attempts > 100) {\n",
       "        console.log(\"Bokeh: ERROR: Unable to run BokehJS code because BokehJS library is missing\")\n",
       "        clearInterval(timer);\n",
       "      }\n",
       "    }, 10, root)\n",
       "  }\n",
       "})(window);"
      ],
      "application/vnd.bokehjs_exec.v0+json": ""
     },
     "metadata": {
      "application/vnd.bokehjs_exec.v0+json": {
       "id": "0f0df9fc-2f02-4148-8b07-f70a11712423"
      }
     },
     "output_type": "display_data"
    }
   ],
   "source": [
    "# Specify tools\n",
    "tools = [\"box_select\", \"hover\", \"reset\"]\n",
    "p = figure(title=\"Try to select bars and reset the graph\",\n",
    "           plot_width=500, plot_height=400,\n",
    "          x_axis_label=\"Baby's birth Weight in Grams\",\n",
    "          y_axis_label=\"Counts\",\n",
    "          tools=tools,)\n",
    "p.quad(top=hist, bottom=0, left=edges[:-1], right=edges[1:], fill_color=\"#036564\", line_color=\"#033649\")\n",
    "show(p)"
   ]
  },
  {
   "cell_type": "markdown",
   "metadata": {},
   "source": [
    "As you can see on the graph above, now we can select bars by using box select and it can also give us additional information by keep the mouse on one bar. It is great, but the information we get is not exactly what we want. It is showing the index of one bar, the x and y axis of one bar chart and the graph, which are not really relvant to our dataset. What we want is the count, the left and right boundary of the bar.  \n",
    "We will fix this by specifying tooltips under HoverTool class. Additionally, we will also make the interaction prettier by changing a different color when hovering on the bar."
   ]
  },
  {
   "cell_type": "code",
   "execution_count": 7,
   "metadata": {},
   "outputs": [
    {
     "data": {
      "text/html": [
       "\n",
       "<div class=\"bk-root\">\n",
       "    <div class=\"bk-plotdiv\" id=\"0b31ed3f-edff-4c91-b82a-dbc220f3f4cf\"></div>\n",
       "</div>"
      ]
     },
     "metadata": {},
     "output_type": "display_data"
    },
    {
     "data": {
      "application/javascript": [
       "(function(root) {\n",
       "  function embed_document(root) {\n",
       "    \n",
       "  var docs_json = {\"52d78b47-1c3b-436c-9408-ea9c22f5ab74\":{\"roots\":{\"references\":[{\"attributes\":{},\"id\":\"aaa9b431-dfdd-489a-a615-d97a06739a82\",\"type\":\"SaveTool\"},{\"attributes\":{\"callback\":null},\"id\":\"6d6cce46-9b42-4575-b803-e685fbad9072\",\"type\":\"DataRange1d\"},{\"attributes\":{},\"id\":\"30ab2e1c-3015-40ff-b2d2-9c031a4bc081\",\"type\":\"ResetTool\"},{\"attributes\":{},\"id\":\"22760c1c-6b33-4fdf-b15e-67da5e9bc8ef\",\"type\":\"LinearScale\"},{\"attributes\":{\"active_drag\":\"auto\",\"active_inspect\":\"auto\",\"active_scroll\":\"auto\",\"active_tap\":\"auto\",\"tools\":[{\"id\":\"ca4d91eb-3e96-4d13-ac02-0001f2886437\",\"type\":\"PanTool\"},{\"id\":\"b177d4c2-8ce0-4e8a-8db9-a819addced71\",\"type\":\"WheelZoomTool\"},{\"id\":\"eef13f46-c41d-448f-9523-4e8a341d6992\",\"type\":\"BoxZoomTool\"},{\"id\":\"aaa9b431-dfdd-489a-a615-d97a06739a82\",\"type\":\"SaveTool\"},{\"id\":\"30ab2e1c-3015-40ff-b2d2-9c031a4bc081\",\"type\":\"ResetTool\"},{\"id\":\"0aaa9207-a0cc-4604-a874-7a1e95475fe6\",\"type\":\"HelpTool\"},{\"id\":\"a8f7fd76-cfeb-4e23-b26c-22892ace3522\",\"type\":\"HoverTool\"}]},\"id\":\"65e25edd-3a64-48e0-9fe4-dd6a8467ac15\",\"type\":\"Toolbar\"},{\"attributes\":{},\"id\":\"0aaa9207-a0cc-4604-a874-7a1e95475fe6\",\"type\":\"HelpTool\"},{\"attributes\":{},\"id\":\"8b796001-d860-460d-86ba-bed2adf6c2d5\",\"type\":\"BasicTickFormatter\"},{\"attributes\":{\"data_source\":{\"id\":\"6bc73180-2f5c-4001-a44d-3b645d5ae564\",\"type\":\"ColumnDataSource\"},\"glyph\":{\"id\":\"2de12d3a-f397-43e9-ad64-004dc4f5b7dc\",\"type\":\"Quad\"},\"hover_glyph\":{\"id\":\"d49f24d9-a3f8-4ea4-93bb-b2b0fcf86c56\",\"type\":\"Quad\"},\"muted_glyph\":null,\"nonselection_glyph\":{\"id\":\"d5230c3d-93ea-4bb8-bf68-73d5544e3695\",\"type\":\"Quad\"},\"selection_glyph\":null,\"view\":{\"id\":\"51fe2a7a-2ad1-4191-8fbb-16a4f33316f7\",\"type\":\"CDSView\"}},\"id\":\"0edb01b9-1066-490e-b493-39d149e9aea6\",\"type\":\"GlyphRenderer\"},{\"attributes\":{},\"id\":\"358045af-06c7-4e54-a49f-d01f45a09257\",\"type\":\"LinearScale\"},{\"attributes\":{\"plot\":null,\"text\":\"Correct Information shown when hovering on the bar\"},\"id\":\"c79fde42-63e2-4be1-9329-fdfda08c08d1\",\"type\":\"Title\"},{\"attributes\":{\"plot\":{\"id\":\"3d5bd4ed-ceb0-42f0-b7dc-7884b0695ed0\",\"subtype\":\"Figure\",\"type\":\"Plot\"},\"ticker\":{\"id\":\"98172b32-80c5-4a97-a344-8d06d397bebd\",\"type\":\"BasicTicker\"}},\"id\":\"a75c15bc-59a2-4426-bd3c-15f598dc8b36\",\"type\":\"Grid\"},{\"attributes\":{\"axis_label\":\"Baby's birth Weight in Grams\",\"formatter\":{\"id\":\"1f78dad0-1e58-4506-813d-4d38fef0a923\",\"type\":\"BasicTickFormatter\"},\"plot\":{\"id\":\"3d5bd4ed-ceb0-42f0-b7dc-7884b0695ed0\",\"subtype\":\"Figure\",\"type\":\"Plot\"},\"ticker\":{\"id\":\"98172b32-80c5-4a97-a344-8d06d397bebd\",\"type\":\"BasicTicker\"}},\"id\":\"e48bccc1-c9f0-49be-b8c4-7715cc9902e4\",\"type\":\"LinearAxis\"},{\"attributes\":{},\"id\":\"98172b32-80c5-4a97-a344-8d06d397bebd\",\"type\":\"BasicTicker\"},{\"attributes\":{\"axis_label\":\"Counts\",\"formatter\":{\"id\":\"8b796001-d860-460d-86ba-bed2adf6c2d5\",\"type\":\"BasicTickFormatter\"},\"plot\":{\"id\":\"3d5bd4ed-ceb0-42f0-b7dc-7884b0695ed0\",\"subtype\":\"Figure\",\"type\":\"Plot\"},\"ticker\":{\"id\":\"f3ed7c7f-23a8-4a9c-bc3c-fb6004ef3b57\",\"type\":\"BasicTicker\"}},\"id\":\"09b9fbe4-03fd-461f-bed1-d304bb3b6595\",\"type\":\"LinearAxis\"},{\"attributes\":{\"below\":[{\"id\":\"e48bccc1-c9f0-49be-b8c4-7715cc9902e4\",\"type\":\"LinearAxis\"}],\"left\":[{\"id\":\"09b9fbe4-03fd-461f-bed1-d304bb3b6595\",\"type\":\"LinearAxis\"}],\"plot_height\":400,\"plot_width\":500,\"renderers\":[{\"id\":\"e48bccc1-c9f0-49be-b8c4-7715cc9902e4\",\"type\":\"LinearAxis\"},{\"id\":\"a75c15bc-59a2-4426-bd3c-15f598dc8b36\",\"type\":\"Grid\"},{\"id\":\"09b9fbe4-03fd-461f-bed1-d304bb3b6595\",\"type\":\"LinearAxis\"},{\"id\":\"d2544425-e1d2-4520-a6cf-509ae86b2db9\",\"type\":\"Grid\"},{\"id\":\"43fde0f4-c519-465a-8e70-3bbfcff3c86d\",\"type\":\"BoxAnnotation\"},{\"id\":\"0edb01b9-1066-490e-b493-39d149e9aea6\",\"type\":\"GlyphRenderer\"}],\"title\":{\"id\":\"c79fde42-63e2-4be1-9329-fdfda08c08d1\",\"type\":\"Title\"},\"toolbar\":{\"id\":\"65e25edd-3a64-48e0-9fe4-dd6a8467ac15\",\"type\":\"Toolbar\"},\"x_range\":{\"id\":\"6d6cce46-9b42-4575-b803-e685fbad9072\",\"type\":\"DataRange1d\"},\"x_scale\":{\"id\":\"22760c1c-6b33-4fdf-b15e-67da5e9bc8ef\",\"type\":\"LinearScale\"},\"y_range\":{\"id\":\"1cb2279f-ecb4-4a78-851d-70f1e61c656c\",\"type\":\"DataRange1d\"},\"y_scale\":{\"id\":\"358045af-06c7-4e54-a49f-d01f45a09257\",\"type\":\"LinearScale\"}},\"id\":\"3d5bd4ed-ceb0-42f0-b7dc-7884b0695ed0\",\"subtype\":\"Figure\",\"type\":\"Plot\"},{\"attributes\":{},\"id\":\"1f78dad0-1e58-4506-813d-4d38fef0a923\",\"type\":\"BasicTickFormatter\"},{\"attributes\":{},\"id\":\"f3ed7c7f-23a8-4a9c-bc3c-fb6004ef3b57\",\"type\":\"BasicTicker\"},{\"attributes\":{\"source\":{\"id\":\"6bc73180-2f5c-4001-a44d-3b645d5ae564\",\"type\":\"ColumnDataSource\"}},\"id\":\"51fe2a7a-2ad1-4191-8fbb-16a4f33316f7\",\"type\":\"CDSView\"},{\"attributes\":{\"dimension\":1,\"plot\":{\"id\":\"3d5bd4ed-ceb0-42f0-b7dc-7884b0695ed0\",\"subtype\":\"Figure\",\"type\":\"Plot\"},\"ticker\":{\"id\":\"f3ed7c7f-23a8-4a9c-bc3c-fb6004ef3b57\",\"type\":\"BasicTicker\"}},\"id\":\"d2544425-e1d2-4520-a6cf-509ae86b2db9\",\"type\":\"Grid\"},{\"attributes\":{\"bottom\":{\"value\":0},\"fill_color\":{\"value\":\"#79BD9A\"},\"left\":{\"field\":\"left\"},\"line_color\":{\"value\":\"#033649\"},\"right\":{\"field\":\"right\"},\"top\":{\"field\":\"top\"}},\"id\":\"d49f24d9-a3f8-4ea4-93bb-b2b0fcf86c56\",\"type\":\"Quad\"},{\"attributes\":{\"bottom\":{\"value\":0},\"fill_color\":{\"value\":\"#036564\"},\"left\":{\"field\":\"left\"},\"line_color\":{\"value\":\"#033649\"},\"right\":{\"field\":\"right\"},\"top\":{\"field\":\"top\"}},\"id\":\"2de12d3a-f397-43e9-ad64-004dc4f5b7dc\",\"type\":\"Quad\"},{\"attributes\":{\"bottom\":{\"value\":0},\"fill_alpha\":{\"value\":0.1},\"fill_color\":{\"value\":\"#1f77b4\"},\"left\":{\"field\":\"left\"},\"line_alpha\":{\"value\":0.1},\"line_color\":{\"value\":\"#1f77b4\"},\"right\":{\"field\":\"right\"},\"top\":{\"field\":\"top\"}},\"id\":\"d5230c3d-93ea-4bb8-bf68-73d5544e3695\",\"type\":\"Quad\"},{\"attributes\":{\"bottom_units\":\"screen\",\"fill_alpha\":{\"value\":0.5},\"fill_color\":{\"value\":\"lightgrey\"},\"left_units\":\"screen\",\"level\":\"overlay\",\"line_alpha\":{\"value\":1.0},\"line_color\":{\"value\":\"black\"},\"line_dash\":[4,4],\"line_width\":{\"value\":2},\"plot\":null,\"render_mode\":\"css\",\"right_units\":\"screen\",\"top_units\":\"screen\"},\"id\":\"43fde0f4-c519-465a-8e70-3bbfcff3c86d\",\"type\":\"BoxAnnotation\"},{\"attributes\":{\"callback\":null,\"tooltips\":[[\"Count\",\"@top\"],[\"Left\",\"@left{(0.0)}\"],[\"Right\",\"@right{(0.0)}\"]]},\"id\":\"a8f7fd76-cfeb-4e23-b26c-22892ace3522\",\"type\":\"HoverTool\"},{\"attributes\":{},\"id\":\"ca4d91eb-3e96-4d13-ac02-0001f2886437\",\"type\":\"PanTool\"},{\"attributes\":{\"callback\":null,\"column_names\":[\"left\",\"right\",\"top\"],\"data\":{\"left\":{\"__ndarray__\":\"AAAAAAAohkBSuB6F64GLQFK4HoXrbZBAexSuR+Eak0CkcD0K18eVQM3MzMzMdJhA9ihcj8Ihm0AfhetRuM6dQKRwPQrXPaBAuB6F61GUoUDNzMzMzOqiQOJ6FK5HQaRA9ihcj8KXpUAK16NwPe6mQB+F61G4RKhANDMzMzObqUBI4XoUrvGqQFyPwvUoSKxAcT0K16OerUCG61G4HvWuQM3MzMzMJbBA16NwPQrRsEDiehSuR3yxQOxRuB6FJ7JA9ihcj8LSskA=\",\"dtype\":\"float64\",\"shape\":[25]},\"right\":{\"__ndarray__\":\"UrgeheuBi0BSuB6F622QQHsUrkfhGpNApHA9CtfHlUDNzMzMzHSYQPYoXI/CIZtAH4XrUbjOnUCkcD0K1z2gQLgehetRlKFAzczMzMzqokDiehSuR0GkQPYoXI/Cl6VACtejcD3upkAfhetRuESoQDQzMzMzm6lASOF6FK7xqkBcj8L1KEisQHE9Ctejnq1AhutRuB71rkDNzMzMzCWwQNejcD0K0bBA4noUrkd8sUDsUbgehSeyQPYoXI/C0rJAAAAAAAB+s0A=\",\"dtype\":\"float64\",\"shape\":[25]},\"top\":[1,1,1,1,1,4,5,7,12,15,14,11,18,20,15,12,12,15,11,7,4,0,1,0,1]}},\"id\":\"6bc73180-2f5c-4001-a44d-3b645d5ae564\",\"type\":\"ColumnDataSource\"},{\"attributes\":{},\"id\":\"b177d4c2-8ce0-4e8a-8db9-a819addced71\",\"type\":\"WheelZoomTool\"},{\"attributes\":{\"callback\":null},\"id\":\"1cb2279f-ecb4-4a78-851d-70f1e61c656c\",\"type\":\"DataRange1d\"},{\"attributes\":{\"overlay\":{\"id\":\"43fde0f4-c519-465a-8e70-3bbfcff3c86d\",\"type\":\"BoxAnnotation\"}},\"id\":\"eef13f46-c41d-448f-9523-4e8a341d6992\",\"type\":\"BoxZoomTool\"}],\"root_ids\":[\"3d5bd4ed-ceb0-42f0-b7dc-7884b0695ed0\"]},\"title\":\"Bokeh Application\",\"version\":\"0.12.14\"}};\n",
       "  var render_items = [{\"docid\":\"52d78b47-1c3b-436c-9408-ea9c22f5ab74\",\"elementid\":\"0b31ed3f-edff-4c91-b82a-dbc220f3f4cf\",\"modelid\":\"3d5bd4ed-ceb0-42f0-b7dc-7884b0695ed0\"}];\n",
       "  root.Bokeh.embed.embed_items_notebook(docs_json, render_items);\n",
       "\n",
       "  }\n",
       "  if (root.Bokeh !== undefined) {\n",
       "    embed_document(root);\n",
       "  } else {\n",
       "    var attempts = 0;\n",
       "    var timer = setInterval(function(root) {\n",
       "      if (root.Bokeh !== undefined) {\n",
       "        embed_document(root);\n",
       "        clearInterval(timer);\n",
       "      }\n",
       "      attempts++;\n",
       "      if (attempts > 100) {\n",
       "        console.log(\"Bokeh: ERROR: Unable to run BokehJS code because BokehJS library is missing\")\n",
       "        clearInterval(timer);\n",
       "      }\n",
       "    }, 10, root)\n",
       "  }\n",
       "})(window);"
      ],
      "application/vnd.bokehjs_exec.v0+json": ""
     },
     "metadata": {
      "application/vnd.bokehjs_exec.v0+json": {
       "id": "3d5bd4ed-ceb0-42f0-b7dc-7884b0695ed0"
      }
     },
     "output_type": "display_data"
    }
   ],
   "source": [
    "from bokeh.models import HoverTool\n",
    "\n",
    "# Specify the information shown when hovering\n",
    "hover = HoverTool(tooltips=[\n",
    "    (\"Count\", \"@top\"),\n",
    "    (\"Left\", \"@left{(0.0)}\"),\n",
    "    (\"Right\", \"@right{(0.0)}\"),\n",
    "])\n",
    "\n",
    "p = figure(title=\"Correct Information shown when hovering on the bar\", plot_width=500, plot_height=400,\n",
    "          x_axis_label=\"Baby's birth Weight in Grams\",\n",
    "          y_axis_label=\"Counts\",\n",
    "          )\n",
    "p.add_tools(hover)\n",
    "\n",
    "p.quad(top=hist, bottom=0, left=edges[:-1], right=edges[1:], fill_color=\"#036564\", line_color=\"#033649\",\n",
    "      hover_fill_color=\"#79BD9A\", hover_line_color=\"#033649\")\n",
    "show(p)"
   ]
  },
  {
   "cell_type": "markdown",
   "metadata": {},
   "source": [
    "#### Using Interactive Legends\n",
    "In this low birth weight problem, one import factor we are interested in is the race of the mother.  \n",
    "We would like to examine different distributions for different races.  \n",
    "If you are familiar with `ggplot2` in `R`, you may know that `ggplot2` can directly separate the data. However, in Bokeh, we need to prepare the data separate for different races. And then for data within the race, we use one layer of Glyphs to plot it."
   ]
  },
  {
   "cell_type": "code",
   "execution_count": 8,
   "metadata": {},
   "outputs": [
    {
     "data": {
      "text/html": [
       "\n",
       "<div class=\"bk-root\">\n",
       "    <div class=\"bk-plotdiv\" id=\"34df54c5-03da-4772-8d18-87973e34b1e6\"></div>\n",
       "</div>"
      ]
     },
     "metadata": {},
     "output_type": "display_data"
    },
    {
     "data": {
      "application/javascript": [
       "(function(root) {\n",
       "  function embed_document(root) {\n",
       "    \n",
       "  var docs_json = {\"cceb9084-46eb-44c8-bf02-042b399d65df\":{\"roots\":{\"references\":[{\"attributes\":{\"source\":{\"id\":\"604a435e-5646-4376-94a0-05f0a9492b13\",\"type\":\"ColumnDataSource\"}},\"id\":\"614a4a2a-042a-4fec-9288-f1798edf3ff6\",\"type\":\"CDSView\"},{\"attributes\":{},\"id\":\"9054fe26-eac1-48b7-b956-255c4cdc452c\",\"type\":\"BasicTickFormatter\"},{\"attributes\":{\"bottom\":{\"value\":0},\"fill_color\":{\"value\":\"#036564\"},\"left\":{\"field\":\"left\"},\"line_color\":{\"value\":\"#033649\"},\"right\":{\"field\":\"right\"},\"top\":{\"field\":\"top\"}},\"id\":\"08f739d7-1222-47dd-abaf-5bb59acfd3a3\",\"type\":\"Quad\"},{\"attributes\":{\"bottom\":{\"value\":0},\"fill_alpha\":{\"value\":0.1},\"fill_color\":{\"value\":\"#1f77b4\"},\"left\":{\"field\":\"left\"},\"line_alpha\":{\"value\":0.1},\"line_color\":{\"value\":\"#1f77b4\"},\"right\":{\"field\":\"right\"},\"top\":{\"field\":\"top\"}},\"id\":\"9462ad7a-ab92-4527-b084-8aa4d85f65d6\",\"type\":\"Quad\"},{\"attributes\":{\"bottom\":{\"value\":0},\"fill_alpha\":{\"value\":0.1},\"fill_color\":{\"value\":\"#1f77b4\"},\"left\":{\"field\":\"left\"},\"line_alpha\":{\"value\":0.1},\"line_color\":{\"value\":\"#1f77b4\"},\"right\":{\"field\":\"right\"},\"top\":{\"field\":\"top\"}},\"id\":\"bc7e7f71-d0f7-43a8-a336-0e6eac79d769\",\"type\":\"Quad\"},{\"attributes\":{\"bottom\":{\"value\":0},\"fill_color\":{\"value\":\"#fdae61\"},\"left\":{\"field\":\"left\"},\"line_color\":{\"value\":\"#033649\"},\"right\":{\"field\":\"right\"},\"top\":{\"field\":\"top\"}},\"id\":\"241a14f5-02d4-4763-8e6c-571f13b6a5dd\",\"type\":\"Quad\"},{\"attributes\":{\"bottom_units\":\"screen\",\"fill_alpha\":{\"value\":0.5},\"fill_color\":{\"value\":\"lightgrey\"},\"left_units\":\"screen\",\"level\":\"overlay\",\"line_alpha\":{\"value\":1.0},\"line_color\":{\"value\":\"black\"},\"line_dash\":[4,4],\"line_width\":{\"value\":2},\"plot\":null,\"render_mode\":\"css\",\"right_units\":\"screen\",\"top_units\":\"screen\"},\"id\":\"68807558-b3dd-42b8-8439-69c8fba13d58\",\"type\":\"BoxAnnotation\"},{\"attributes\":{\"data_source\":{\"id\":\"6c1e5b5f-25d4-460b-905d-3b2a7f383ec7\",\"type\":\"ColumnDataSource\"},\"glyph\":{\"id\":\"f300b50e-e05d-4399-aceb-437e5dc692b2\",\"type\":\"Quad\"},\"hover_glyph\":{\"id\":\"241a14f5-02d4-4763-8e6c-571f13b6a5dd\",\"type\":\"Quad\"},\"muted_glyph\":null,\"nonselection_glyph\":{\"id\":\"9462ad7a-ab92-4527-b084-8aa4d85f65d6\",\"type\":\"Quad\"},\"selection_glyph\":null,\"view\":{\"id\":\"e92c42d3-9006-46e8-b13f-2d99992b7dc1\",\"type\":\"CDSView\"}},\"id\":\"8334189b-537a-4d02-b46c-c8906c1396bb\",\"type\":\"GlyphRenderer\"},{\"attributes\":{},\"id\":\"27eae23c-3d7c-4c53-87e2-15bb0f21dc02\",\"type\":\"PanTool\"},{\"attributes\":{\"source\":{\"id\":\"6c1e5b5f-25d4-460b-905d-3b2a7f383ec7\",\"type\":\"ColumnDataSource\"}},\"id\":\"e92c42d3-9006-46e8-b13f-2d99992b7dc1\",\"type\":\"CDSView\"},{\"attributes\":{},\"id\":\"423a0a5f-34f1-4ed7-80a9-cdaf49de740c\",\"type\":\"WheelZoomTool\"},{\"attributes\":{\"overlay\":{\"id\":\"68807558-b3dd-42b8-8439-69c8fba13d58\",\"type\":\"BoxAnnotation\"}},\"id\":\"de5f7023-ce43-4527-8d8c-06440b47a35c\",\"type\":\"BoxZoomTool\"},{\"attributes\":{\"label\":{\"value\":\"total\"},\"renderers\":[{\"id\":\"5a5d80b2-71a4-4628-a52d-47fee28af383\",\"type\":\"GlyphRenderer\"}]},\"id\":\"4f7201e5-447a-4761-bf23-4adee707b131\",\"type\":\"LegendItem\"},{\"attributes\":{},\"id\":\"8b10a7a3-2183-4e85-b0d1-e8301fc676fb\",\"type\":\"SaveTool\"},{\"attributes\":{\"label\":{\"value\":\"white\"},\"renderers\":[{\"id\":\"eba8bbea-101b-4e73-be7c-a6e700d46fb0\",\"type\":\"GlyphRenderer\"}]},\"id\":\"8d656cd1-ab9a-4407-a7a1-2652a3f556ce\",\"type\":\"LegendItem\"},{\"attributes\":{},\"id\":\"d8dae76f-77bc-4499-818f-9e6bfc197b77\",\"type\":\"ResetTool\"},{\"attributes\":{},\"id\":\"346f2058-c0ad-48bc-a920-b1cb10960c56\",\"type\":\"HelpTool\"},{\"attributes\":{\"data_source\":{\"id\":\"2233ae60-0b1f-4d02-ac16-fd70700a3dca\",\"type\":\"ColumnDataSource\"},\"glyph\":{\"id\":\"4036dd5a-6274-4dfc-b56c-c59e719cf75a\",\"type\":\"Quad\"},\"hover_glyph\":{\"id\":\"08f739d7-1222-47dd-abaf-5bb59acfd3a3\",\"type\":\"Quad\"},\"muted_glyph\":null,\"nonselection_glyph\":{\"id\":\"bc7e7f71-d0f7-43a8-a336-0e6eac79d769\",\"type\":\"Quad\"},\"selection_glyph\":null,\"view\":{\"id\":\"a57796d2-9861-435e-b993-61c5ecea499c\",\"type\":\"CDSView\"}},\"id\":\"5a5d80b2-71a4-4628-a52d-47fee28af383\",\"type\":\"GlyphRenderer\"},{\"attributes\":{\"callback\":null,\"column_names\":[\"left\",\"right\",\"top\"],\"data\":{\"left\":{\"__ndarray__\":\"AAAAAAAohkBSuB6F64GLQFK4HoXrbZBAexSuR+Eak0CkcD0K18eVQM3MzMzMdJhA9ihcj8Ihm0AfhetRuM6dQKRwPQrXPaBAuB6F61GUoUDNzMzMzOqiQOJ6FK5HQaRA9ihcj8KXpUAK16NwPe6mQB+F61G4RKhANDMzMzObqUBI4XoUrvGqQFyPwvUoSKxAcT0K16OerUCG61G4HvWuQM3MzMzMJbBA16NwPQrRsEDiehSuR3yxQOxRuB6FJ7JA9ihcj8LSskA=\",\"dtype\":\"float64\",\"shape\":[25]},\"right\":{\"__ndarray__\":\"UrgeheuBi0BSuB6F622QQHsUrkfhGpNApHA9CtfHlUDNzMzMzHSYQPYoXI/CIZtAH4XrUbjOnUCkcD0K1z2gQLgehetRlKFAzczMzMzqokDiehSuR0GkQPYoXI/Cl6VACtejcD3upkAfhetRuESoQDQzMzMzm6lASOF6FK7xqkBcj8L1KEisQHE9Ctejnq1AhutRuB71rkDNzMzMzCWwQNejcD0K0bBA4noUrkd8sUDsUbgehSeyQPYoXI/C0rJAAAAAAAB+s0A=\",\"dtype\":\"float64\",\"shape\":[25]},\"top\":{\"__ndarray__\":\"AAAAAAAAAAAAAAAAAAAAABQ7sRM7saM/AAAAAAAAAAAAAAAAAAAAABQ7sRM7saM/AAAAAAAAAAAUO7ETO7GjPxQ7sRM7sbM/FDuxEzuxwz+e2Imd2Im9PwAAAAAAAAAAFDuxEzuxwz8UO7ETO7HDPwAAAAAAAAAAFDuxEzuxwz8AAAAAAAAAABQ7sRM7saM/FDuxEzuxoz8AAAAAAAAAAAAAAAAAAAAAAAAAAAAAAAAAAAAAAAAAAAAAAAAAAAAAAAAAAAAAAAA=\",\"dtype\":\"float64\",\"shape\":[25]}}},\"id\":\"604a435e-5646-4376-94a0-05f0a9492b13\",\"type\":\"ColumnDataSource\"},{\"attributes\":{\"source\":{\"id\":\"2233ae60-0b1f-4d02-ac16-fd70700a3dca\",\"type\":\"ColumnDataSource\"}},\"id\":\"a57796d2-9861-435e-b993-61c5ecea499c\",\"type\":\"CDSView\"},{\"attributes\":{\"callback\":null,\"column_names\":[\"left\",\"right\",\"top\"],\"data\":{\"left\":{\"__ndarray__\":\"AAAAAAAohkBSuB6F64GLQFK4HoXrbZBAexSuR+Eak0CkcD0K18eVQM3MzMzMdJhA9ihcj8Ihm0AfhetRuM6dQKRwPQrXPaBAuB6F61GUoUDNzMzMzOqiQOJ6FK5HQaRA9ihcj8KXpUAK16NwPe6mQB+F61G4RKhANDMzMzObqUBI4XoUrvGqQFyPwvUoSKxAcT0K16OerUCG61G4HvWuQM3MzMzMJbBA16NwPQrRsEDiehSuR3yxQOxRuB6FJ7JA9ihcj8LSskA=\",\"dtype\":\"float64\",\"shape\":[25]},\"right\":{\"__ndarray__\":\"UrgeheuBi0BSuB6F622QQHsUrkfhGpNApHA9CtfHlUDNzMzMzHSYQPYoXI/CIZtAH4XrUbjOnUCkcD0K1z2gQLgehetRlKFAzczMzMzqokDiehSuR0GkQPYoXI/Cl6VACtejcD3upkAfhetRuESoQDQzMzMzm6lASOF6FK7xqkBcj8L1KEisQHE9Ctejnq1AhutRuB71rkDNzMzMzCWwQNejcD0K0bBA4noUrkd8sUDsUbgehSeyQPYoXI/C0rJAAAAAAAB+s0A=\",\"dtype\":\"float64\",\"shape\":[25]},\"top\":{\"__ndarray__\":\"AAAAAAAAAABVVVVVVVWFPwAAAAAAAAAAAAAAAAAAAAAAAAAAAAAAAAAAAAAAAAAAAAAAAAAAoD8AAAAAAACgPwAAAAAAALA/AAAAAAAAsD+rqqqqqqqqP6uqqqqqqqo/q6qqqqqquj9VVVVVVVXBPwAAAAAAAKA/q6qqqqqqqj+rqqqqqqqyP1VVVVVVVb0/VVVVVVVVtT9VVVVVVVWlP1VVVVVVVaU/AAAAAAAAAABVVVVVVVWFPwAAAAAAAAAAVVVVVVVVhT8=\",\"dtype\":\"float64\",\"shape\":[25]}}},\"id\":\"7523f030-d54d-43c8-a97b-0088ef597f60\",\"type\":\"ColumnDataSource\"},{\"attributes\":{},\"id\":\"2eb1cfe8-c055-462d-95be-616e5391368a\",\"type\":\"BasicTickFormatter\"},{\"attributes\":{\"callback\":null},\"id\":\"37fe9a26-8f43-4e45-b7b4-968e57d62b39\",\"type\":\"DataRange1d\"},{\"attributes\":{\"click_policy\":\"hide\",\"items\":[{\"id\":\"4f7201e5-447a-4761-bf23-4adee707b131\",\"type\":\"LegendItem\"},{\"id\":\"8d656cd1-ab9a-4407-a7a1-2652a3f556ce\",\"type\":\"LegendItem\"},{\"id\":\"7cf85072-1dc8-42ef-9c81-f33a698b388c\",\"type\":\"LegendItem\"},{\"id\":\"cc3b81ef-f72e-4bfd-a11d-894d381dc231\",\"type\":\"LegendItem\"}],\"location\":[0,217],\"plot\":{\"id\":\"7c4de268-8fc2-4bf8-aabd-35b38924611c\",\"subtype\":\"Figure\",\"type\":\"Plot\"}},\"id\":\"c4c9273f-17fd-4948-ad47-a8b5bc637f00\",\"type\":\"Legend\"},{\"attributes\":{\"bottom\":{\"value\":0},\"fill_alpha\":{\"value\":0.7},\"fill_color\":{\"value\":\"#036564\"},\"left\":{\"field\":\"left\"},\"line_color\":{\"value\":\"#033649\"},\"right\":{\"field\":\"right\"},\"top\":{\"field\":\"top\"}},\"id\":\"4036dd5a-6274-4dfc-b56c-c59e719cf75a\",\"type\":\"Quad\"},{\"attributes\":{\"callback\":null,\"tooltips\":[[\"Count\",\"@top\"],[\"Left\",\"@left{(0.0)}\"],[\"Right\",\"@right{(0.0)}\"]]},\"id\":\"8ff6bf65-66e2-4692-8366-a5f7ab0d71ce\",\"type\":\"HoverTool\"},{\"attributes\":{\"bottom\":{\"value\":0},\"fill_alpha\":{\"value\":0.7},\"fill_color\":{\"value\":\"#2b83ba\"},\"left\":{\"field\":\"left\"},\"line_color\":{\"value\":\"#033649\"},\"right\":{\"field\":\"right\"},\"top\":{\"field\":\"top\"}},\"id\":\"017a25d7-fb0e-4b56-a132-d0cdfc815e13\",\"type\":\"Quad\"},{\"attributes\":{\"below\":[{\"id\":\"7cb6608a-4402-4aca-9e91-1d4cfbfe514a\",\"type\":\"LinearAxis\"}],\"left\":[{\"id\":\"a75da6ba-4034-4c78-a351-2b42c477d51d\",\"type\":\"LinearAxis\"}],\"plot_height\":400,\"renderers\":[{\"id\":\"7cb6608a-4402-4aca-9e91-1d4cfbfe514a\",\"type\":\"LinearAxis\"},{\"id\":\"ba91e01a-54b3-4295-ab63-9cdf5a2220ac\",\"type\":\"Grid\"},{\"id\":\"a75da6ba-4034-4c78-a351-2b42c477d51d\",\"type\":\"LinearAxis\"},{\"id\":\"1c590ac2-ba88-4706-8f62-6fcd413455c8\",\"type\":\"Grid\"},{\"id\":\"68807558-b3dd-42b8-8439-69c8fba13d58\",\"type\":\"BoxAnnotation\"},{\"id\":\"5a5d80b2-71a4-4628-a52d-47fee28af383\",\"type\":\"GlyphRenderer\"},{\"id\":\"eba8bbea-101b-4e73-be7c-a6e700d46fb0\",\"type\":\"GlyphRenderer\"},{\"id\":\"b898ca8b-55e2-4064-b004-b3537b1ef977\",\"type\":\"GlyphRenderer\"},{\"id\":\"8334189b-537a-4d02-b46c-c8906c1396bb\",\"type\":\"GlyphRenderer\"},{\"id\":\"c4c9273f-17fd-4948-ad47-a8b5bc637f00\",\"type\":\"Legend\"}],\"right\":[{\"id\":\"c4c9273f-17fd-4948-ad47-a8b5bc637f00\",\"type\":\"Legend\"}],\"title\":{\"id\":\"0c50b61f-a5c0-4c31-8ad3-f009cc0c4a99\",\"type\":\"Title\"},\"toolbar\":{\"id\":\"9caf1767-a65b-41a8-ae8e-fd020addbb3a\",\"type\":\"Toolbar\"},\"x_range\":{\"id\":\"37fe9a26-8f43-4e45-b7b4-968e57d62b39\",\"type\":\"DataRange1d\"},\"x_scale\":{\"id\":\"ad9a7d5a-f8ed-44e0-ac77-b29da4d67dc6\",\"type\":\"LinearScale\"},\"y_range\":{\"id\":\"bab5fc8b-fb4f-48e0-99ee-2cf5f77506e6\",\"type\":\"DataRange1d\"},\"y_scale\":{\"id\":\"75f34dca-2b5f-418e-bdad-036dc263ae0d\",\"type\":\"LinearScale\"}},\"id\":\"7c4de268-8fc2-4bf8-aabd-35b38924611c\",\"subtype\":\"Figure\",\"type\":\"Plot\"},{\"attributes\":{\"bottom\":{\"value\":0},\"fill_alpha\":{\"value\":0.1},\"fill_color\":{\"value\":\"#1f77b4\"},\"left\":{\"field\":\"left\"},\"line_alpha\":{\"value\":0.1},\"line_color\":{\"value\":\"#1f77b4\"},\"right\":{\"field\":\"right\"},\"top\":{\"field\":\"top\"}},\"id\":\"61e4cecc-7944-478b-8ac7-5d3d5605ce87\",\"type\":\"Quad\"},{\"attributes\":{\"plot\":null,\"text\":\"Click on the legend to select different histogram\"},\"id\":\"0c50b61f-a5c0-4c31-8ad3-f009cc0c4a99\",\"type\":\"Title\"},{\"attributes\":{\"bottom\":{\"value\":0},\"fill_alpha\":{\"value\":0.7},\"fill_color\":{\"value\":\"#abdda4\"},\"left\":{\"field\":\"left\"},\"line_color\":{\"value\":\"#033649\"},\"right\":{\"field\":\"right\"},\"top\":{\"field\":\"top\"}},\"id\":\"8c1eb9a5-b010-44e8-811f-9e55dd3b4f2a\",\"type\":\"Quad\"},{\"attributes\":{\"callback\":null,\"column_names\":[\"left\",\"right\",\"top\"],\"data\":{\"left\":{\"__ndarray__\":\"AAAAAAAohkBSuB6F64GLQFK4HoXrbZBAexSuR+Eak0CkcD0K18eVQM3MzMzMdJhA9ihcj8Ihm0AfhetRuM6dQKRwPQrXPaBAuB6F61GUoUDNzMzMzOqiQOJ6FK5HQaRA9ihcj8KXpUAK16NwPe6mQB+F61G4RKhANDMzMzObqUBI4XoUrvGqQFyPwvUoSKxAcT0K16OerUCG61G4HvWuQM3MzMzMJbBA16NwPQrRsEDiehSuR3yxQOxRuB6FJ7JA9ihcj8LSskA=\",\"dtype\":\"float64\",\"shape\":[25]},\"right\":{\"__ndarray__\":\"UrgeheuBi0BSuB6F622QQHsUrkfhGpNApHA9CtfHlUDNzMzMzHSYQPYoXI/CIZtAH4XrUbjOnUCkcD0K1z2gQLgehetRlKFAzczMzMzqokDiehSuR0GkQPYoXI/Cl6VACtejcD3upkAfhetRuESoQDQzMzMzm6lASOF6FK7xqkBcj8L1KEisQHE9Ctejnq1AhutRuB71rkDNzMzMzCWwQNejcD0K0bBA4noUrkd8sUDsUbgehSeyQPYoXI/C0rJAAAAAAAB+s0A=\",\"dtype\":\"float64\",\"shape\":[25]},\"top\":{\"__ndarray__\":\"wFoBawWsdT/AWgFrBax1P8BaAWsFrHU/wFoBawWsdT/AWgFrBax1P8BaAWsFrJU/cLHBxQYXmz9oL6G9hPaiPxAEQRAEQbA/FEVRFEVRtD9oL6G9hPayP8jcIXOHzK0/GIZhGIZhuD9wscHFBhe7PxRFURRFUbQ/EARBEARBsD8QBEEQBEGwPxRFURRFUbQ/yNwhc4fMrT9oL6G9hPaiP8BaAWsFrJU/AAAAAAAAAADAWgFrBax1PwAAAAAAAAAAwFoBawWsdT8=\",\"dtype\":\"float64\",\"shape\":[25]}}},\"id\":\"2233ae60-0b1f-4d02-ac16-fd70700a3dca\",\"type\":\"ColumnDataSource\"},{\"attributes\":{\"bottom\":{\"value\":0},\"fill_color\":{\"value\":\"#2b83ba\"},\"left\":{\"field\":\"left\"},\"line_color\":{\"value\":\"#033649\"},\"right\":{\"field\":\"right\"},\"top\":{\"field\":\"top\"}},\"id\":\"c1e23554-1e37-4bb7-9ce3-fd237c0150ea\",\"type\":\"Quad\"},{\"attributes\":{\"active_drag\":\"auto\",\"active_inspect\":\"auto\",\"active_scroll\":\"auto\",\"active_tap\":\"auto\",\"tools\":[{\"id\":\"27eae23c-3d7c-4c53-87e2-15bb0f21dc02\",\"type\":\"PanTool\"},{\"id\":\"423a0a5f-34f1-4ed7-80a9-cdaf49de740c\",\"type\":\"WheelZoomTool\"},{\"id\":\"de5f7023-ce43-4527-8d8c-06440b47a35c\",\"type\":\"BoxZoomTool\"},{\"id\":\"8b10a7a3-2183-4e85-b0d1-e8301fc676fb\",\"type\":\"SaveTool\"},{\"id\":\"d8dae76f-77bc-4499-818f-9e6bfc197b77\",\"type\":\"ResetTool\"},{\"id\":\"346f2058-c0ad-48bc-a920-b1cb10960c56\",\"type\":\"HelpTool\"},{\"id\":\"8ff6bf65-66e2-4692-8366-a5f7ab0d71ce\",\"type\":\"HoverTool\"}]},\"id\":\"9caf1767-a65b-41a8-ae8e-fd020addbb3a\",\"type\":\"Toolbar\"},{\"attributes\":{\"label\":{\"value\":\"black\"},\"renderers\":[{\"id\":\"b898ca8b-55e2-4064-b004-b3537b1ef977\",\"type\":\"GlyphRenderer\"}]},\"id\":\"7cf85072-1dc8-42ef-9c81-f33a698b388c\",\"type\":\"LegendItem\"},{\"attributes\":{\"dimension\":1,\"plot\":{\"id\":\"7c4de268-8fc2-4bf8-aabd-35b38924611c\",\"subtype\":\"Figure\",\"type\":\"Plot\"},\"ticker\":{\"id\":\"df9c3077-6edd-455a-879a-fd84bc800b16\",\"type\":\"BasicTicker\"}},\"id\":\"1c590ac2-ba88-4706-8f62-6fcd413455c8\",\"type\":\"Grid\"},{\"attributes\":{},\"id\":\"ad9a7d5a-f8ed-44e0-ac77-b29da4d67dc6\",\"type\":\"LinearScale\"},{\"attributes\":{\"label\":{\"value\":\"other\"},\"renderers\":[{\"id\":\"8334189b-537a-4d02-b46c-c8906c1396bb\",\"type\":\"GlyphRenderer\"}]},\"id\":\"cc3b81ef-f72e-4bfd-a11d-894d381dc231\",\"type\":\"LegendItem\"},{\"attributes\":{\"callback\":null},\"id\":\"bab5fc8b-fb4f-48e0-99ee-2cf5f77506e6\",\"type\":\"DataRange1d\"},{\"attributes\":{\"data_source\":{\"id\":\"7523f030-d54d-43c8-a97b-0088ef597f60\",\"type\":\"ColumnDataSource\"},\"glyph\":{\"id\":\"017a25d7-fb0e-4b56-a132-d0cdfc815e13\",\"type\":\"Quad\"},\"hover_glyph\":{\"id\":\"c1e23554-1e37-4bb7-9ce3-fd237c0150ea\",\"type\":\"Quad\"},\"muted_glyph\":null,\"nonselection_glyph\":{\"id\":\"61e4cecc-7944-478b-8ac7-5d3d5605ce87\",\"type\":\"Quad\"},\"selection_glyph\":null,\"view\":{\"id\":\"86fe324c-9293-4bc2-a154-5b03795f071c\",\"type\":\"CDSView\"}},\"id\":\"eba8bbea-101b-4e73-be7c-a6e700d46fb0\",\"type\":\"GlyphRenderer\"},{\"attributes\":{},\"id\":\"75f34dca-2b5f-418e-bdad-036dc263ae0d\",\"type\":\"LinearScale\"},{\"attributes\":{\"source\":{\"id\":\"7523f030-d54d-43c8-a97b-0088ef597f60\",\"type\":\"ColumnDataSource\"}},\"id\":\"86fe324c-9293-4bc2-a154-5b03795f071c\",\"type\":\"CDSView\"},{\"attributes\":{\"plot\":{\"id\":\"7c4de268-8fc2-4bf8-aabd-35b38924611c\",\"subtype\":\"Figure\",\"type\":\"Plot\"},\"ticker\":{\"id\":\"41b71c16-6f24-4220-85c4-71fde8b945cd\",\"type\":\"BasicTicker\"}},\"id\":\"ba91e01a-54b3-4295-ab63-9cdf5a2220ac\",\"type\":\"Grid\"},{\"attributes\":{\"callback\":null,\"column_names\":[\"left\",\"right\",\"top\"],\"data\":{\"left\":{\"__ndarray__\":\"AAAAAAAohkBSuB6F64GLQFK4HoXrbZBAexSuR+Eak0CkcD0K18eVQM3MzMzMdJhA9ihcj8Ihm0AfhetRuM6dQKRwPQrXPaBAuB6F61GUoUDNzMzMzOqiQOJ6FK5HQaRA9ihcj8KXpUAK16NwPe6mQB+F61G4RKhANDMzMzObqUBI4XoUrvGqQFyPwvUoSKxAcT0K16OerUCG61G4HvWuQM3MzMzMJbBA16NwPQrRsEDiehSuR3yxQOxRuB6FJ7JA9ihcj8LSskA=\",\"dtype\":\"float64\",\"shape\":[25]},\"right\":{\"__ndarray__\":\"UrgeheuBi0BSuB6F622QQHsUrkfhGpNApHA9CtfHlUDNzMzMzHSYQPYoXI/CIZtAH4XrUbjOnUCkcD0K1z2gQLgehetRlKFAzczMzMzqokDiehSuR0GkQPYoXI/Cl6VACtejcD3upkAfhetRuESoQDQzMzMzm6lASOF6FK7xqkBcj8L1KEisQHE9Ctejnq1AhutRuB71rkDNzMzMzCWwQNejcD0K0bBA4noUrkd8sUDsUbgehSeyQPYoXI/C0rJAAAAAAAB+s0A=\",\"dtype\":\"float64\",\"shape\":[25]},\"top\":{\"__ndarray__\":\"Z7fwqzGRjj8AAAAAAAAAAAAAAAAAAAAAZ7fwqzGRjj9nt/CrMZGOP42J9EDl7KY/Z7fwqzGRnj+NifRA5eymP2e38Ksxka4/oHJ2C78asz+NifRA5ey2P42J9EDl7LY/Z7fwqzGRrj+NifRA5eymP42J9EDl7MY/jYn0QOXspj+gcnYLvxqzP42J9EDl7KY/Z7fwqzGRnj+NifRA5eymPwAAAAAAAAAAAAAAAAAAAAAAAAAAAAAAAAAAAAAAAAAAAAAAAAAAAAA=\",\"dtype\":\"float64\",\"shape\":[25]}}},\"id\":\"6c1e5b5f-25d4-460b-905d-3b2a7f383ec7\",\"type\":\"ColumnDataSource\"},{\"attributes\":{\"axis_label\":\"Baby's birth Weight in Grams\",\"formatter\":{\"id\":\"2eb1cfe8-c055-462d-95be-616e5391368a\",\"type\":\"BasicTickFormatter\"},\"plot\":{\"id\":\"7c4de268-8fc2-4bf8-aabd-35b38924611c\",\"subtype\":\"Figure\",\"type\":\"Plot\"},\"ticker\":{\"id\":\"41b71c16-6f24-4220-85c4-71fde8b945cd\",\"type\":\"BasicTicker\"}},\"id\":\"7cb6608a-4402-4aca-9e91-1d4cfbfe514a\",\"type\":\"LinearAxis\"},{\"attributes\":{\"bottom\":{\"value\":0},\"fill_color\":{\"value\":\"#abdda4\"},\"left\":{\"field\":\"left\"},\"line_color\":{\"value\":\"#033649\"},\"right\":{\"field\":\"right\"},\"top\":{\"field\":\"top\"}},\"id\":\"a1a60c91-b29d-42aa-b1d2-c41f054a0462\",\"type\":\"Quad\"},{\"attributes\":{},\"id\":\"41b71c16-6f24-4220-85c4-71fde8b945cd\",\"type\":\"BasicTicker\"},{\"attributes\":{\"bottom\":{\"value\":0},\"fill_alpha\":{\"value\":0.1},\"fill_color\":{\"value\":\"#1f77b4\"},\"left\":{\"field\":\"left\"},\"line_alpha\":{\"value\":0.1},\"line_color\":{\"value\":\"#1f77b4\"},\"right\":{\"field\":\"right\"},\"top\":{\"field\":\"top\"}},\"id\":\"79211ed8-23e8-4909-84b5-c56c8310dadb\",\"type\":\"Quad\"},{\"attributes\":{\"axis_label\":\"Percentage\",\"formatter\":{\"id\":\"9054fe26-eac1-48b7-b956-255c4cdc452c\",\"type\":\"BasicTickFormatter\"},\"plot\":{\"id\":\"7c4de268-8fc2-4bf8-aabd-35b38924611c\",\"subtype\":\"Figure\",\"type\":\"Plot\"},\"ticker\":{\"id\":\"df9c3077-6edd-455a-879a-fd84bc800b16\",\"type\":\"BasicTicker\"}},\"id\":\"a75da6ba-4034-4c78-a351-2b42c477d51d\",\"type\":\"LinearAxis\"},{\"attributes\":{\"bottom\":{\"value\":0},\"fill_alpha\":{\"value\":0.7},\"fill_color\":{\"value\":\"#fdae61\"},\"left\":{\"field\":\"left\"},\"line_color\":{\"value\":\"#033649\"},\"right\":{\"field\":\"right\"},\"top\":{\"field\":\"top\"}},\"id\":\"f300b50e-e05d-4399-aceb-437e5dc692b2\",\"type\":\"Quad\"},{\"attributes\":{},\"id\":\"df9c3077-6edd-455a-879a-fd84bc800b16\",\"type\":\"BasicTicker\"},{\"attributes\":{\"data_source\":{\"id\":\"604a435e-5646-4376-94a0-05f0a9492b13\",\"type\":\"ColumnDataSource\"},\"glyph\":{\"id\":\"8c1eb9a5-b010-44e8-811f-9e55dd3b4f2a\",\"type\":\"Quad\"},\"hover_glyph\":{\"id\":\"a1a60c91-b29d-42aa-b1d2-c41f054a0462\",\"type\":\"Quad\"},\"muted_glyph\":null,\"nonselection_glyph\":{\"id\":\"79211ed8-23e8-4909-84b5-c56c8310dadb\",\"type\":\"Quad\"},\"selection_glyph\":null,\"view\":{\"id\":\"614a4a2a-042a-4fec-9288-f1798edf3ff6\",\"type\":\"CDSView\"}},\"id\":\"b898ca8b-55e2-4064-b004-b3537b1ef977\",\"type\":\"GlyphRenderer\"}],\"root_ids\":[\"7c4de268-8fc2-4bf8-aabd-35b38924611c\"]},\"title\":\"Bokeh Application\",\"version\":\"0.12.14\"}};\n",
       "  var render_items = [{\"docid\":\"cceb9084-46eb-44c8-bf02-042b399d65df\",\"elementid\":\"34df54c5-03da-4772-8d18-87973e34b1e6\",\"modelid\":\"7c4de268-8fc2-4bf8-aabd-35b38924611c\"}];\n",
       "  root.Bokeh.embed.embed_items_notebook(docs_json, render_items);\n",
       "\n",
       "  }\n",
       "  if (root.Bokeh !== undefined) {\n",
       "    embed_document(root);\n",
       "  } else {\n",
       "    var attempts = 0;\n",
       "    var timer = setInterval(function(root) {\n",
       "      if (root.Bokeh !== undefined) {\n",
       "        embed_document(root);\n",
       "        clearInterval(timer);\n",
       "      }\n",
       "      attempts++;\n",
       "      if (attempts > 100) {\n",
       "        console.log(\"Bokeh: ERROR: Unable to run BokehJS code because BokehJS library is missing\")\n",
       "        clearInterval(timer);\n",
       "      }\n",
       "    }, 10, root)\n",
       "  }\n",
       "})(window);"
      ],
      "application/vnd.bokehjs_exec.v0+json": ""
     },
     "metadata": {
      "application/vnd.bokehjs_exec.v0+json": {
       "id": "7c4de268-8fc2-4bf8-aabd-35b38924611c"
      }
     },
     "output_type": "display_data"
    }
   ],
   "source": [
    "from bokeh.palettes import Spectral4\n",
    "from bokeh.models import Legend\n",
    "\n",
    "# Specify tooltips\n",
    "hover = HoverTool(tooltips=[\n",
    "    (\"Count\", \"@top\"),\n",
    "    (\"Left\", \"@left{(0.0)}\"),\n",
    "    (\"Right\", \"@right{(0.0)}\"),\n",
    "])\n",
    "\n",
    "legends = list()\n",
    "\n",
    "# Prepare data for all races\n",
    "birth_weight = df.bwt\n",
    "hist, edges = np.histogram(birth_weight, bins=25)\n",
    "percent = hist/len(birth_weight)\n",
    "\n",
    "# Fix the range of histogram\n",
    "range_start = edges[0]\n",
    "range_end = edges[-1]\n",
    "\n",
    "# Create Figure object, p_h\n",
    "p_h = figure(title=\"Click on the legend to select different histogram\", \n",
    "             plot_width=600, plot_height=400,\n",
    "          x_axis_label=\"Baby's birth Weight in Grams\",\n",
    "          y_axis_label=\"Percentage\")\n",
    "p_h.add_tools(hover)\n",
    "\n",
    "# Add a histogram of all races to p_h\n",
    "total = p_h.quad(top=percent, bottom=0, left=edges[:-1], right=edges[1:], \n",
    "       fill_color=\"#036564\", line_color=\"#033649\", fill_alpha = 0.7, \n",
    "       hover_fill_color=\"#036564\", hover_line_color=\"#033649\", hover_fill_alpha = 1.0)\n",
    "legends.append(('total', [total]))\n",
    "\n",
    "# For each races, subset the dataset and then add histogram to P_h\n",
    "for race_cat, color in zip(['white', 'black', 'other'], Spectral4):\n",
    "    birth_weight = df[df.race==race_cat].bwt\n",
    "    hist, edges = np.histogram(birth_weight, range=(range_start, range_end), bins=25)\n",
    "    percent = hist/len(birth_weight)\n",
    "    \n",
    "    l = p_h.quad(top=percent, bottom=0, left=edges[:-1], right=edges[1:],\n",
    "           fill_color=color, line_color=\"#033649\", fill_alpha = 0.7, \n",
    "           hover_fill_color=color, hover_line_color=\"#033649\", hover_fill_alpha = 1.0)\n",
    "    legends.append((race_cat, [l]))\n",
    "\n",
    "# Create Legend object\n",
    "legend = Legend(items=legends, location=(0, 217))    \n",
    "\n",
    "# Specify Legend Properties\n",
    "legend.click_policy=\"hide\"\n",
    "p_h.add_layout(legend, 'right')\n",
    "\n",
    "show(p_h)"
   ]
  },
  {
   "cell_type": "markdown",
   "metadata": {},
   "source": [
    "Now we plotted multiple Glyphs on the graph. What's more, this graph gives you more interactions with the data. Try to click on the legend beside the graph, you will find certain histogram disappeared after clicking on the legend. This is specified by `Legend.click_policy`"
   ]
  },
  {
   "cell_type": "markdown",
   "metadata": {},
   "source": [
    "#### Adding Tabs\n",
    "Tabs are important in designing dashboards. In this section, we will create another another linear regression graph on a different `Figure` object. We'll let the user which graph he or she wants to see by switching different tabs just as switching different tabs on a web browser."
   ]
  },
  {
   "cell_type": "code",
   "execution_count": 9,
   "metadata": {},
   "outputs": [
    {
     "data": {
      "text/html": [
       "\n",
       "<div class=\"bk-root\">\n",
       "    <div class=\"bk-plotdiv\" id=\"9dcbdb9b-962b-4296-96ff-33868238f166\"></div>\n",
       "</div>"
      ]
     },
     "metadata": {},
     "output_type": "display_data"
    },
    {
     "data": {
      "application/javascript": [
       "(function(root) {\n",
       "  function embed_document(root) {\n",
       "    \n",
       "  var docs_json = {\"7a184de8-e488-4b12-82ca-d22812030acc\":{\"roots\":{\"references\":[{\"attributes\":{\"plot\":{\"id\":\"a3cfb020-8f83-41ee-b41a-8f49a7c52e67\",\"subtype\":\"Figure\",\"type\":\"Plot\"},\"ticker\":{\"id\":\"280d8e77-3c01-4154-91be-502c69193414\",\"type\":\"BasicTicker\"}},\"id\":\"1d56ec2c-7d1a-4e09-b1d2-05a362c72ef0\",\"type\":\"Grid\"},{\"attributes\":{},\"id\":\"9054fe26-eac1-48b7-b956-255c4cdc452c\",\"type\":\"BasicTickFormatter\"},{\"attributes\":{\"bottom\":{\"value\":0},\"fill_color\":{\"value\":\"#036564\"},\"left\":{\"field\":\"left\"},\"line_color\":{\"value\":\"#033649\"},\"right\":{\"field\":\"right\"},\"top\":{\"field\":\"top\"}},\"id\":\"08f739d7-1222-47dd-abaf-5bb59acfd3a3\",\"type\":\"Quad\"},{\"attributes\":{\"bottom\":{\"value\":0},\"fill_alpha\":{\"value\":0.1},\"fill_color\":{\"value\":\"#1f77b4\"},\"left\":{\"field\":\"left\"},\"line_alpha\":{\"value\":0.1},\"line_color\":{\"value\":\"#1f77b4\"},\"right\":{\"field\":\"right\"},\"top\":{\"field\":\"top\"}},\"id\":\"bc7e7f71-d0f7-43a8-a336-0e6eac79d769\",\"type\":\"Quad\"},{\"attributes\":{\"axis_label\":\"Baby's birth Weight in Grams\",\"formatter\":{\"id\":\"d2c4ae43-c649-4ac1-bdc0-a4cd9c1ec66c\",\"type\":\"BasicTickFormatter\"},\"plot\":{\"id\":\"a3cfb020-8f83-41ee-b41a-8f49a7c52e67\",\"subtype\":\"Figure\",\"type\":\"Plot\"},\"ticker\":{\"id\":\"736be1d1-467d-4ef1-9a36-9f672074bf9a\",\"type\":\"BasicTicker\"}},\"id\":\"b0161e20-4c5b-42a5-99a7-edbbf5e7f480\",\"type\":\"LinearAxis\"},{\"attributes\":{\"bottom_units\":\"screen\",\"fill_alpha\":{\"value\":0.5},\"fill_color\":{\"value\":\"lightgrey\"},\"left_units\":\"screen\",\"level\":\"overlay\",\"line_alpha\":{\"value\":1.0},\"line_color\":{\"value\":\"black\"},\"line_dash\":[4,4],\"line_width\":{\"value\":2},\"plot\":null,\"render_mode\":\"css\",\"right_units\":\"screen\",\"top_units\":\"screen\"},\"id\":\"68807558-b3dd-42b8-8439-69c8fba13d58\",\"type\":\"BoxAnnotation\"},{\"attributes\":{},\"id\":\"27eae23c-3d7c-4c53-87e2-15bb0f21dc02\",\"type\":\"PanTool\"},{\"attributes\":{},\"id\":\"423a0a5f-34f1-4ed7-80a9-cdaf49de740c\",\"type\":\"WheelZoomTool\"},{\"attributes\":{\"overlay\":{\"id\":\"68807558-b3dd-42b8-8439-69c8fba13d58\",\"type\":\"BoxAnnotation\"}},\"id\":\"de5f7023-ce43-4527-8d8c-06440b47a35c\",\"type\":\"BoxZoomTool\"},{\"attributes\":{},\"id\":\"8b10a7a3-2183-4e85-b0d1-e8301fc676fb\",\"type\":\"SaveTool\"},{\"attributes\":{},\"id\":\"d8dae76f-77bc-4499-818f-9e6bfc197b77\",\"type\":\"ResetTool\"},{\"attributes\":{},\"id\":\"346f2058-c0ad-48bc-a920-b1cb10960c56\",\"type\":\"HelpTool\"},{\"attributes\":{\"data_source\":{\"id\":\"2233ae60-0b1f-4d02-ac16-fd70700a3dca\",\"type\":\"ColumnDataSource\"},\"glyph\":{\"id\":\"4036dd5a-6274-4dfc-b56c-c59e719cf75a\",\"type\":\"Quad\"},\"hover_glyph\":{\"id\":\"08f739d7-1222-47dd-abaf-5bb59acfd3a3\",\"type\":\"Quad\"},\"muted_glyph\":null,\"nonselection_glyph\":{\"id\":\"bc7e7f71-d0f7-43a8-a336-0e6eac79d769\",\"type\":\"Quad\"},\"selection_glyph\":null,\"view\":{\"id\":\"a57796d2-9861-435e-b993-61c5ecea499c\",\"type\":\"CDSView\"}},\"id\":\"5a5d80b2-71a4-4628-a52d-47fee28af383\",\"type\":\"GlyphRenderer\"},{\"attributes\":{\"callback\":null,\"column_names\":[\"left\",\"right\",\"top\"],\"data\":{\"left\":{\"__ndarray__\":\"AAAAAAAohkBSuB6F64GLQFK4HoXrbZBAexSuR+Eak0CkcD0K18eVQM3MzMzMdJhA9ihcj8Ihm0AfhetRuM6dQKRwPQrXPaBAuB6F61GUoUDNzMzMzOqiQOJ6FK5HQaRA9ihcj8KXpUAK16NwPe6mQB+F61G4RKhANDMzMzObqUBI4XoUrvGqQFyPwvUoSKxAcT0K16OerUCG61G4HvWuQM3MzMzMJbBA16NwPQrRsEDiehSuR3yxQOxRuB6FJ7JA9ihcj8LSskA=\",\"dtype\":\"float64\",\"shape\":[25]},\"right\":{\"__ndarray__\":\"UrgeheuBi0BSuB6F622QQHsUrkfhGpNApHA9CtfHlUDNzMzMzHSYQPYoXI/CIZtAH4XrUbjOnUCkcD0K1z2gQLgehetRlKFAzczMzMzqokDiehSuR0GkQPYoXI/Cl6VACtejcD3upkAfhetRuESoQDQzMzMzm6lASOF6FK7xqkBcj8L1KEisQHE9Ctejnq1AhutRuB71rkDNzMzMzCWwQNejcD0K0bBA4noUrkd8sUDsUbgehSeyQPYoXI/C0rJAAAAAAAB+s0A=\",\"dtype\":\"float64\",\"shape\":[25]},\"top\":{\"__ndarray__\":\"AAAAAAAAAAAAAAAAAAAAABQ7sRM7saM/AAAAAAAAAAAAAAAAAAAAABQ7sRM7saM/AAAAAAAAAAAUO7ETO7GjPxQ7sRM7sbM/FDuxEzuxwz+e2Imd2Im9PwAAAAAAAAAAFDuxEzuxwz8UO7ETO7HDPwAAAAAAAAAAFDuxEzuxwz8AAAAAAAAAABQ7sRM7saM/FDuxEzuxoz8AAAAAAAAAAAAAAAAAAAAAAAAAAAAAAAAAAAAAAAAAAAAAAAAAAAAAAAAAAAAAAAA=\",\"dtype\":\"float64\",\"shape\":[25]}}},\"id\":\"604a435e-5646-4376-94a0-05f0a9492b13\",\"type\":\"ColumnDataSource\"},{\"attributes\":{\"dimension\":1,\"plot\":{\"id\":\"a3cfb020-8f83-41ee-b41a-8f49a7c52e67\",\"subtype\":\"Figure\",\"type\":\"Plot\"},\"ticker\":{\"id\":\"736be1d1-467d-4ef1-9a36-9f672074bf9a\",\"type\":\"BasicTicker\"}},\"id\":\"171c1148-0e95-4176-b133-9dae6198eadf\",\"type\":\"Grid\"},{\"attributes\":{\"source\":{\"id\":\"2233ae60-0b1f-4d02-ac16-fd70700a3dca\",\"type\":\"ColumnDataSource\"}},\"id\":\"a57796d2-9861-435e-b993-61c5ecea499c\",\"type\":\"CDSView\"},{\"attributes\":{\"callback\":null,\"column_names\":[\"x\",\"y\"],\"data\":{\"x\":[19,33,21,22,17,19,19,22,30,15,20,32,31,36,28,25,28,29,17,17,25,25,19,23,21,32,19,24,22,23,19,16,30,20,17,17,23,24,28,20,24,20,22,16,18,25,23,22,32,30,20,23,19,23,36,22,24,21,29,29,30,24,24,23,20,25,30,22,16,32,18,33,28,14,28,25,16,20,26,21,22,25,31,35,24,45,29,25,25,27,23,24,24,25,16,21,21,20,25,19,24,27,25,20,18,21,26,15,15,23,17,26,20,14,17],\"y\":[2523,2551,2622,2637,2637,2722,2733,2751,2750,2778,2807,2835,2835,2836,2863,2877,2877,2920,2920,2920,2977,2977,3062,3062,3062,3080,3090,3090,3100,3104,3175,3175,3203,3203,3225,3225,3232,3232,3234,3274,3274,3317,3317,3374,3402,3416,3459,3460,3473,3544,3487,3544,3572,3586,3600,3614,3614,3629,3651,3651,3699,3728,3770,3770,3770,3790,3799,3827,3860,3860,3884,3912,3941,3941,3969,3983,3997,3997,4054,4054,4111,4153,4167,4174,4593,4990,1021,1330,1474,1588,1588,1701,1729,1893,1899,1928,1970,2055,2055,2082,2100,2187,2240,2240,2282,2301,2325,2353,2381,2410,2438,2442,2450,2495,2495]}},\"id\":\"e10e6f52-70fd-4a91-a677-cab55cc25039\",\"type\":\"ColumnDataSource\"},{\"attributes\":{\"callback\":null,\"column_names\":[\"left\",\"right\",\"top\"],\"data\":{\"left\":{\"__ndarray__\":\"AAAAAAAohkBSuB6F64GLQFK4HoXrbZBAexSuR+Eak0CkcD0K18eVQM3MzMzMdJhA9ihcj8Ihm0AfhetRuM6dQKRwPQrXPaBAuB6F61GUoUDNzMzMzOqiQOJ6FK5HQaRA9ihcj8KXpUAK16NwPe6mQB+F61G4RKhANDMzMzObqUBI4XoUrvGqQFyPwvUoSKxAcT0K16OerUCG61G4HvWuQM3MzMzMJbBA16NwPQrRsEDiehSuR3yxQOxRuB6FJ7JA9ihcj8LSskA=\",\"dtype\":\"float64\",\"shape\":[25]},\"right\":{\"__ndarray__\":\"UrgeheuBi0BSuB6F622QQHsUrkfhGpNApHA9CtfHlUDNzMzMzHSYQPYoXI/CIZtAH4XrUbjOnUCkcD0K1z2gQLgehetRlKFAzczMzMzqokDiehSuR0GkQPYoXI/Cl6VACtejcD3upkAfhetRuESoQDQzMzMzm6lASOF6FK7xqkBcj8L1KEisQHE9Ctejnq1AhutRuB71rkDNzMzMzCWwQNejcD0K0bBA4noUrkd8sUDsUbgehSeyQPYoXI/C0rJAAAAAAAB+s0A=\",\"dtype\":\"float64\",\"shape\":[25]},\"top\":{\"__ndarray__\":\"AAAAAAAAAABVVVVVVVWFPwAAAAAAAAAAAAAAAAAAAAAAAAAAAAAAAAAAAAAAAAAAAAAAAAAAoD8AAAAAAACgPwAAAAAAALA/AAAAAAAAsD+rqqqqqqqqP6uqqqqqqqo/q6qqqqqquj9VVVVVVVXBPwAAAAAAAKA/q6qqqqqqqj+rqqqqqqqyP1VVVVVVVb0/VVVVVVVVtT9VVVVVVVWlP1VVVVVVVaU/AAAAAAAAAABVVVVVVVWFPwAAAAAAAAAAVVVVVVVVhT8=\",\"dtype\":\"float64\",\"shape\":[25]}}},\"id\":\"7523f030-d54d-43c8-a97b-0088ef597f60\",\"type\":\"ColumnDataSource\"},{\"attributes\":{},\"id\":\"2eb1cfe8-c055-462d-95be-616e5391368a\",\"type\":\"BasicTickFormatter\"},{\"attributes\":{\"bottom_units\":\"screen\",\"fill_alpha\":{\"value\":0.5},\"fill_color\":{\"value\":\"lightgrey\"},\"left_units\":\"screen\",\"level\":\"overlay\",\"line_alpha\":{\"value\":1.0},\"line_color\":{\"value\":\"black\"},\"line_dash\":[4,4],\"line_width\":{\"value\":2},\"plot\":null,\"render_mode\":\"css\",\"right_units\":\"screen\",\"top_units\":\"screen\"},\"id\":\"872aeed8-c06d-419a-973d-699f513e207d\",\"type\":\"BoxAnnotation\"},{\"attributes\":{},\"id\":\"d23ea34f-afba-4a63-a13e-65eccab4820d\",\"type\":\"PanTool\"},{\"attributes\":{},\"id\":\"05e29de9-334b-4cb9-922a-556ded651147\",\"type\":\"WheelZoomTool\"},{\"attributes\":{\"bottom\":{\"value\":0},\"fill_alpha\":{\"value\":0.7},\"fill_color\":{\"value\":\"#2b83ba\"},\"left\":{\"field\":\"left\"},\"line_color\":{\"value\":\"#033649\"},\"right\":{\"field\":\"right\"},\"top\":{\"field\":\"top\"}},\"id\":\"017a25d7-fb0e-4b56-a132-d0cdfc815e13\",\"type\":\"Quad\"},{\"attributes\":{\"overlay\":{\"id\":\"872aeed8-c06d-419a-973d-699f513e207d\",\"type\":\"BoxAnnotation\"}},\"id\":\"0fc403ad-949e-41b1-a026-3608df32b525\",\"type\":\"BoxZoomTool\"},{\"attributes\":{\"bottom\":{\"value\":0},\"fill_alpha\":{\"value\":0.1},\"fill_color\":{\"value\":\"#1f77b4\"},\"left\":{\"field\":\"left\"},\"line_alpha\":{\"value\":0.1},\"line_color\":{\"value\":\"#1f77b4\"},\"right\":{\"field\":\"right\"},\"top\":{\"field\":\"top\"}},\"id\":\"61e4cecc-7944-478b-8ac7-5d3d5605ce87\",\"type\":\"Quad\"},{\"attributes\":{},\"id\":\"b0071847-b995-400f-96de-c2d117305c71\",\"type\":\"SaveTool\"},{\"attributes\":{\"bottom\":{\"value\":0},\"fill_alpha\":{\"value\":0.7},\"fill_color\":{\"value\":\"#abdda4\"},\"left\":{\"field\":\"left\"},\"line_color\":{\"value\":\"#033649\"},\"right\":{\"field\":\"right\"},\"top\":{\"field\":\"top\"}},\"id\":\"8c1eb9a5-b010-44e8-811f-9e55dd3b4f2a\",\"type\":\"Quad\"},{\"attributes\":{},\"id\":\"da565664-e7d4-4883-b781-8e6be67daa7c\",\"type\":\"ResetTool\"},{\"attributes\":{\"bottom\":{\"value\":0},\"fill_color\":{\"value\":\"#2b83ba\"},\"left\":{\"field\":\"left\"},\"line_color\":{\"value\":\"#033649\"},\"right\":{\"field\":\"right\"},\"top\":{\"field\":\"top\"}},\"id\":\"c1e23554-1e37-4bb7-9ce3-fd237c0150ea\",\"type\":\"Quad\"},{\"attributes\":{},\"id\":\"280d8e77-3c01-4154-91be-502c69193414\",\"type\":\"BasicTicker\"},{\"attributes\":{},\"id\":\"8ce8b2d0-e4b9-4ac7-b394-aa82c9ea989a\",\"type\":\"HelpTool\"},{\"attributes\":{\"label\":{\"value\":\"black\"},\"renderers\":[{\"id\":\"b898ca8b-55e2-4064-b004-b3537b1ef977\",\"type\":\"GlyphRenderer\"}]},\"id\":\"7cf85072-1dc8-42ef-9c81-f33a698b388c\",\"type\":\"LegendItem\"},{\"attributes\":{\"fill_color\":{\"value\":\"#2b83ba\"},\"line_color\":{\"value\":\"#2b83ba\"},\"x\":{\"field\":\"x\"},\"y\":{\"field\":\"y\"}},\"id\":\"a8d77ddd-2354-419b-b366-d4ac1779469b\",\"type\":\"Circle\"},{\"attributes\":{\"axis_label\":\"Mother's age in years\",\"formatter\":{\"id\":\"78d997ab-f40b-434a-83f7-b5f8935665b5\",\"type\":\"BasicTickFormatter\"},\"plot\":{\"id\":\"a3cfb020-8f83-41ee-b41a-8f49a7c52e67\",\"subtype\":\"Figure\",\"type\":\"Plot\"},\"ticker\":{\"id\":\"280d8e77-3c01-4154-91be-502c69193414\",\"type\":\"BasicTicker\"}},\"id\":\"0a1fc3ee-3ec7-4901-b400-50f43df0c250\",\"type\":\"LinearAxis\"},{\"attributes\":{\"label\":{\"value\":\"other\"},\"renderers\":[{\"id\":\"8334189b-537a-4d02-b46c-c8906c1396bb\",\"type\":\"GlyphRenderer\"}]},\"id\":\"cc3b81ef-f72e-4bfd-a11d-894d381dc231\",\"type\":\"LegendItem\"},{\"attributes\":{\"data_source\":{\"id\":\"7523f030-d54d-43c8-a97b-0088ef597f60\",\"type\":\"ColumnDataSource\"},\"glyph\":{\"id\":\"017a25d7-fb0e-4b56-a132-d0cdfc815e13\",\"type\":\"Quad\"},\"hover_glyph\":{\"id\":\"c1e23554-1e37-4bb7-9ce3-fd237c0150ea\",\"type\":\"Quad\"},\"muted_glyph\":null,\"nonselection_glyph\":{\"id\":\"61e4cecc-7944-478b-8ac7-5d3d5605ce87\",\"type\":\"Quad\"},\"selection_glyph\":null,\"view\":{\"id\":\"86fe324c-9293-4bc2-a154-5b03795f071c\",\"type\":\"CDSView\"}},\"id\":\"eba8bbea-101b-4e73-be7c-a6e700d46fb0\",\"type\":\"GlyphRenderer\"},{\"attributes\":{\"below\":[{\"id\":\"0a1fc3ee-3ec7-4901-b400-50f43df0c250\",\"type\":\"LinearAxis\"}],\"left\":[{\"id\":\"b0161e20-4c5b-42a5-99a7-edbbf5e7f480\",\"type\":\"LinearAxis\"}],\"plot_height\":400,\"renderers\":[{\"id\":\"0a1fc3ee-3ec7-4901-b400-50f43df0c250\",\"type\":\"LinearAxis\"},{\"id\":\"1d56ec2c-7d1a-4e09-b1d2-05a362c72ef0\",\"type\":\"Grid\"},{\"id\":\"b0161e20-4c5b-42a5-99a7-edbbf5e7f480\",\"type\":\"LinearAxis\"},{\"id\":\"171c1148-0e95-4176-b133-9dae6198eadf\",\"type\":\"Grid\"},{\"id\":\"872aeed8-c06d-419a-973d-699f513e207d\",\"type\":\"BoxAnnotation\"},{\"id\":\"262a5fab-7925-4bf6-859d-931434bfe2fd\",\"type\":\"Legend\"},{\"id\":\"820c77bc-6a3c-410f-8334-2db2ac36d2da\",\"type\":\"GlyphRenderer\"},{\"id\":\"9aecf2a6-0d93-427a-9ede-b604f6411619\",\"type\":\"GlyphRenderer\"},{\"id\":\"bc487f58-d0fc-416a-aff3-90a5e970a2e5\",\"type\":\"GlyphRenderer\"},{\"id\":\"9d44b095-d1d4-48ba-b4f3-3f75bca22642\",\"type\":\"GlyphRenderer\"}],\"title\":{\"id\":\"760e2f98-1aa7-4dd1-ae7b-27c24c26dab2\",\"type\":\"Title\"},\"toolbar\":{\"id\":\"dea3db57-4b44-42eb-8828-08fd3016cf8b\",\"type\":\"Toolbar\"},\"x_range\":{\"id\":\"7c6274e7-0b92-4513-b437-bfacbf36aeb7\",\"type\":\"DataRange1d\"},\"x_scale\":{\"id\":\"b82ec29d-6612-4456-9882-455a559eae30\",\"type\":\"LinearScale\"},\"y_range\":{\"id\":\"a090d790-852a-41a6-816d-d0aa641c0ca7\",\"type\":\"DataRange1d\"},\"y_scale\":{\"id\":\"b4a12682-4ade-4325-9c59-0cdecacd4e27\",\"type\":\"LinearScale\"}},\"id\":\"a3cfb020-8f83-41ee-b41a-8f49a7c52e67\",\"subtype\":\"Figure\",\"type\":\"Plot\"},{\"attributes\":{\"fill_alpha\":{\"value\":0.1},\"fill_color\":{\"value\":\"#1f77b4\"},\"line_alpha\":{\"value\":0.1},\"line_color\":{\"value\":\"#1f77b4\"},\"x\":{\"field\":\"x\"},\"y\":{\"field\":\"y\"}},\"id\":\"5271545a-a8d0-4933-9c5a-81a3b09b6498\",\"type\":\"Circle\"},{\"attributes\":{\"source\":{\"id\":\"7523f030-d54d-43c8-a97b-0088ef597f60\",\"type\":\"ColumnDataSource\"}},\"id\":\"86fe324c-9293-4bc2-a154-5b03795f071c\",\"type\":\"CDSView\"},{\"attributes\":{\"plot\":null,\"text\":\"Linear Regression on smoking and Baby's birth Weight\"},\"id\":\"760e2f98-1aa7-4dd1-ae7b-27c24c26dab2\",\"type\":\"Title\"},{\"attributes\":{\"fill_alpha\":{\"value\":0.1},\"fill_color\":{\"value\":\"#1f77b4\"},\"line_alpha\":{\"value\":0.1},\"line_color\":{\"value\":\"#1f77b4\"},\"x\":{\"field\":\"x\"},\"y\":{\"field\":\"y\"}},\"id\":\"160973b4-4a19-403e-b90a-c14053f2e911\",\"type\":\"Square\"},{\"attributes\":{\"callback\":null,\"column_names\":[\"left\",\"right\",\"top\"],\"data\":{\"left\":{\"__ndarray__\":\"AAAAAAAohkBSuB6F64GLQFK4HoXrbZBAexSuR+Eak0CkcD0K18eVQM3MzMzMdJhA9ihcj8Ihm0AfhetRuM6dQKRwPQrXPaBAuB6F61GUoUDNzMzMzOqiQOJ6FK5HQaRA9ihcj8KXpUAK16NwPe6mQB+F61G4RKhANDMzMzObqUBI4XoUrvGqQFyPwvUoSKxAcT0K16OerUCG61G4HvWuQM3MzMzMJbBA16NwPQrRsEDiehSuR3yxQOxRuB6FJ7JA9ihcj8LSskA=\",\"dtype\":\"float64\",\"shape\":[25]},\"right\":{\"__ndarray__\":\"UrgeheuBi0BSuB6F622QQHsUrkfhGpNApHA9CtfHlUDNzMzMzHSYQPYoXI/CIZtAH4XrUbjOnUCkcD0K1z2gQLgehetRlKFAzczMzMzqokDiehSuR0GkQPYoXI/Cl6VACtejcD3upkAfhetRuESoQDQzMzMzm6lASOF6FK7xqkBcj8L1KEisQHE9Ctejnq1AhutRuB71rkDNzMzMzCWwQNejcD0K0bBA4noUrkd8sUDsUbgehSeyQPYoXI/C0rJAAAAAAAB+s0A=\",\"dtype\":\"float64\",\"shape\":[25]},\"top\":{\"__ndarray__\":\"Z7fwqzGRjj8AAAAAAAAAAAAAAAAAAAAAZ7fwqzGRjj9nt/CrMZGOP42J9EDl7KY/Z7fwqzGRnj+NifRA5eymP2e38Ksxka4/oHJ2C78asz+NifRA5ey2P42J9EDl7LY/Z7fwqzGRrj+NifRA5eymP42J9EDl7MY/jYn0QOXspj+gcnYLvxqzP42J9EDl7KY/Z7fwqzGRnj+NifRA5eymPwAAAAAAAAAAAAAAAAAAAAAAAAAAAAAAAAAAAAAAAAAAAAAAAAAAAAA=\",\"dtype\":\"float64\",\"shape\":[25]}}},\"id\":\"6c1e5b5f-25d4-460b-905d-3b2a7f383ec7\",\"type\":\"ColumnDataSource\"},{\"attributes\":{\"callback\":null},\"id\":\"7c6274e7-0b92-4513-b437-bfacbf36aeb7\",\"type\":\"DataRange1d\"},{\"attributes\":{\"source\":{\"id\":\"e10e6f52-70fd-4a91-a677-cab55cc25039\",\"type\":\"ColumnDataSource\"}},\"id\":\"e6b7c29c-dacf-411d-bdbb-a2aa8add3e05\",\"type\":\"CDSView\"},{\"attributes\":{\"bottom\":{\"value\":0},\"fill_color\":{\"value\":\"#abdda4\"},\"left\":{\"field\":\"left\"},\"line_color\":{\"value\":\"#033649\"},\"right\":{\"field\":\"right\"},\"top\":{\"field\":\"top\"}},\"id\":\"a1a60c91-b29d-42aa-b1d2-c41f054a0462\",\"type\":\"Quad\"},{\"attributes\":{},\"id\":\"b82ec29d-6612-4456-9882-455a559eae30\",\"type\":\"LinearScale\"},{\"attributes\":{\"data_source\":{\"id\":\"e10e6f52-70fd-4a91-a677-cab55cc25039\",\"type\":\"ColumnDataSource\"},\"glyph\":{\"id\":\"a8d77ddd-2354-419b-b366-d4ac1779469b\",\"type\":\"Circle\"},\"hover_glyph\":null,\"muted_glyph\":null,\"nonselection_glyph\":{\"id\":\"5271545a-a8d0-4933-9c5a-81a3b09b6498\",\"type\":\"Circle\"},\"selection_glyph\":null,\"view\":{\"id\":\"e6b7c29c-dacf-411d-bdbb-a2aa8add3e05\",\"type\":\"CDSView\"}},\"id\":\"820c77bc-6a3c-410f-8334-2db2ac36d2da\",\"type\":\"GlyphRenderer\"},{\"attributes\":{\"bottom\":{\"value\":0},\"fill_alpha\":{\"value\":0.1},\"fill_color\":{\"value\":\"#1f77b4\"},\"left\":{\"field\":\"left\"},\"line_alpha\":{\"value\":0.1},\"line_color\":{\"value\":\"#1f77b4\"},\"right\":{\"field\":\"right\"},\"top\":{\"field\":\"top\"}},\"id\":\"79211ed8-23e8-4909-84b5-c56c8310dadb\",\"type\":\"Quad\"},{\"attributes\":{},\"id\":\"78d997ab-f40b-434a-83f7-b5f8935665b5\",\"type\":\"BasicTickFormatter\"},{\"attributes\":{\"bottom\":{\"value\":0},\"fill_alpha\":{\"value\":0.7},\"fill_color\":{\"value\":\"#fdae61\"},\"left\":{\"field\":\"left\"},\"line_color\":{\"value\":\"#033649\"},\"right\":{\"field\":\"right\"},\"top\":{\"field\":\"top\"}},\"id\":\"f300b50e-e05d-4399-aceb-437e5dc692b2\",\"type\":\"Quad\"},{\"attributes\":{},\"id\":\"d2c4ae43-c649-4ac1-bdc0-a4cd9c1ec66c\",\"type\":\"BasicTickFormatter\"},{\"attributes\":{\"data_source\":{\"id\":\"604a435e-5646-4376-94a0-05f0a9492b13\",\"type\":\"ColumnDataSource\"},\"glyph\":{\"id\":\"8c1eb9a5-b010-44e8-811f-9e55dd3b4f2a\",\"type\":\"Quad\"},\"hover_glyph\":{\"id\":\"a1a60c91-b29d-42aa-b1d2-c41f054a0462\",\"type\":\"Quad\"},\"muted_glyph\":null,\"nonselection_glyph\":{\"id\":\"79211ed8-23e8-4909-84b5-c56c8310dadb\",\"type\":\"Quad\"},\"selection_glyph\":null,\"view\":{\"id\":\"614a4a2a-042a-4fec-9288-f1798edf3ff6\",\"type\":\"CDSView\"}},\"id\":\"b898ca8b-55e2-4064-b004-b3537b1ef977\",\"type\":\"GlyphRenderer\"},{\"attributes\":{\"click_policy\":\"hide\",\"items\":[{\"id\":\"a7d93bb0-2b68-47e5-b854-5f3ee56c3dd1\",\"type\":\"LegendItem\"},{\"id\":\"a9ed7cd8-ffa9-48ed-b146-ba44403ecac7\",\"type\":\"LegendItem\"}],\"plot\":{\"id\":\"a3cfb020-8f83-41ee-b41a-8f49a7c52e67\",\"subtype\":\"Figure\",\"type\":\"Plot\"}},\"id\":\"262a5fab-7925-4bf6-859d-931434bfe2fd\",\"type\":\"Legend\"},{\"attributes\":{\"source\":{\"id\":\"604a435e-5646-4376-94a0-05f0a9492b13\",\"type\":\"ColumnDataSource\"}},\"id\":\"614a4a2a-042a-4fec-9288-f1798edf3ff6\",\"type\":\"CDSView\"},{\"attributes\":{\"active_drag\":\"auto\",\"active_inspect\":\"auto\",\"active_scroll\":\"auto\",\"active_tap\":\"auto\",\"tools\":[{\"id\":\"d23ea34f-afba-4a63-a13e-65eccab4820d\",\"type\":\"PanTool\"},{\"id\":\"05e29de9-334b-4cb9-922a-556ded651147\",\"type\":\"WheelZoomTool\"},{\"id\":\"0fc403ad-949e-41b1-a026-3608df32b525\",\"type\":\"BoxZoomTool\"},{\"id\":\"b0071847-b995-400f-96de-c2d117305c71\",\"type\":\"SaveTool\"},{\"id\":\"da565664-e7d4-4883-b781-8e6be67daa7c\",\"type\":\"ResetTool\"},{\"id\":\"8ce8b2d0-e4b9-4ac7-b394-aa82c9ea989a\",\"type\":\"HelpTool\"}]},\"id\":\"dea3db57-4b44-42eb-8828-08fd3016cf8b\",\"type\":\"Toolbar\"},{\"attributes\":{\"data_source\":{\"id\":\"46c10704-7de0-4b62-acbd-a68d8c446eb3\",\"type\":\"ColumnDataSource\"},\"glyph\":{\"id\":\"b2c560c1-059d-4cb5-bb20-f250c138fa7a\",\"type\":\"Square\"},\"hover_glyph\":null,\"muted_glyph\":null,\"nonselection_glyph\":{\"id\":\"160973b4-4a19-403e-b90a-c14053f2e911\",\"type\":\"Square\"},\"selection_glyph\":null,\"view\":{\"id\":\"1ff521a3-74af-4538-a3fa-a9971488865d\",\"type\":\"CDSView\"}},\"id\":\"9aecf2a6-0d93-427a-9ede-b604f6411619\",\"type\":\"GlyphRenderer\"},{\"attributes\":{\"bottom\":{\"value\":0},\"fill_alpha\":{\"value\":0.1},\"fill_color\":{\"value\":\"#1f77b4\"},\"left\":{\"field\":\"left\"},\"line_alpha\":{\"value\":0.1},\"line_color\":{\"value\":\"#1f77b4\"},\"right\":{\"field\":\"right\"},\"top\":{\"field\":\"top\"}},\"id\":\"9462ad7a-ab92-4527-b084-8aa4d85f65d6\",\"type\":\"Quad\"},{\"attributes\":{\"label\":{\"value\":\"mother does not smoke\"},\"renderers\":[{\"id\":\"820c77bc-6a3c-410f-8334-2db2ac36d2da\",\"type\":\"GlyphRenderer\"},{\"id\":\"bc487f58-d0fc-416a-aff3-90a5e970a2e5\",\"type\":\"GlyphRenderer\"}]},\"id\":\"a7d93bb0-2b68-47e5-b854-5f3ee56c3dd1\",\"type\":\"LegendItem\"},{\"attributes\":{\"bottom\":{\"value\":0},\"fill_color\":{\"value\":\"#fdae61\"},\"left\":{\"field\":\"left\"},\"line_color\":{\"value\":\"#033649\"},\"right\":{\"field\":\"right\"},\"top\":{\"field\":\"top\"}},\"id\":\"241a14f5-02d4-4763-8e6c-571f13b6a5dd\",\"type\":\"Quad\"},{\"attributes\":{\"callback\":null},\"id\":\"a090d790-852a-41a6-816d-d0aa641c0ca7\",\"type\":\"DataRange1d\"},{\"attributes\":{\"callback\":null,\"column_names\":[\"x\",\"y\"],\"data\":{\"x\":{\"__ndarray__\":\"AAAAAAAALEBEY31orA8tQIjG+tBYHy5AzCl4OQUvL0CIxvrQWB8wQCp4OQUvpzBAzCl4OQUvMUBu27Zt27YxQBCN9aGxPjJAsj401ofGMkBU8HIKXk4zQPahsT401jNAmFPwcgpeNEA6BS+n4OU0QNy2bdu2bTVAfmisD431NUAgGutDY302QMLLKXg5BTdAZH1orA+NN0AGL6fg5RQ4QKjg5RS8nDhASpIkSZIkOUDsQ2N9aKw5QI71obE+NDpAL6fg5RS8OkDRWB8a60M7QHMKXk7ByztAFbycgpdTPEC3bdu2bds8QFkfGutDYz1A+9BYHxrrPUCdgpdT8HI+QD801ofG+j5A4eUUvJyCP0DCyyl4OQVAQJIkSZIkSUBAZH1orA+NQEA01ofG+tBAQAYvp+DlFEFA1ofG+tBYQUCo4OUUvJxBQHg5BS+n4EFASpIkSZIkQkAa60NjfWhCQOxDY31orEJAvJyCl1PwQkCO9aGxPjRDQF5OwcspeENAL6fg5RS8Q0AAAAAAAABEQA==\",\"dtype\":\"float64\",\"shape\":[50]},\"y\":{\"__ndarray__\":\"hiazM5jUpUCZqOkUBvKlQKsqIPZzD6ZAvqxW1+EspkDQLo24T0qmQOOww5m9Z6ZA9jL6eiuFpkAItTBcmaKmQBs3Zz0HwKZALrmdHnXdpkBAO9T/4vqmQFO9CuFQGKdAZT9Bwr41p0B4wXejLFOnQIpDroSacKdAncXkZQiOp0CwRxtHdqunQMLJUSjkyKdA1UuICVLmp0Dozb7qvwOoQPpP9cstIahADdIrrZs+qEAfVGKOCVyoQDLWmG93eahARFjPUOWWqEBX2gUyU7SoQGpcPBPB0ahAfN5y9C7vqECOYKnVnAypQKHi37YKKqlAtGQWmHhHqUDG5kx55mSpQNlog1pUgqlA7Oq5O8KfqUD+bPAcML2pQBDvJv6d2qlAJHFd3wv4qUA285PAeRWqQEl1yqHnMqpAW/cAg1VQqkBueTdkw22qQID7bUUxi6pAk32kJp+oqkCl/9oHDcaqQLiBEel646pAygNIyugAq0DehX6rVh6rQPAHtYzEO6tAAorrbTJZq0AVDCJPoHarQA==\",\"dtype\":\"float64\",\"shape\":[50]}}},\"id\":\"6aa5ba7b-7dd4-4ae3-9256-15acadd43a66\",\"type\":\"ColumnDataSource\"},{\"attributes\":{\"data_source\":{\"id\":\"6c1e5b5f-25d4-460b-905d-3b2a7f383ec7\",\"type\":\"ColumnDataSource\"},\"glyph\":{\"id\":\"f300b50e-e05d-4399-aceb-437e5dc692b2\",\"type\":\"Quad\"},\"hover_glyph\":{\"id\":\"241a14f5-02d4-4763-8e6c-571f13b6a5dd\",\"type\":\"Quad\"},\"muted_glyph\":null,\"nonselection_glyph\":{\"id\":\"9462ad7a-ab92-4527-b084-8aa4d85f65d6\",\"type\":\"Quad\"},\"selection_glyph\":null,\"view\":{\"id\":\"e92c42d3-9006-46e8-b13f-2d99992b7dc1\",\"type\":\"CDSView\"}},\"id\":\"8334189b-537a-4d02-b46c-c8906c1396bb\",\"type\":\"GlyphRenderer\"},{\"attributes\":{\"callback\":null,\"column_names\":[\"x\",\"y\"],\"data\":{\"x\":[20,21,18,29,26,18,18,25,28,17,26,24,35,29,19,27,31,33,21,18,18,22,22,30,21,26,28,22,31,23,16,32,20,17,19,25,16,19,19,19,18,29,20,19,28,34,21,32,19,25,20,24,19,26,17,20,22,20,17,18,20,31,23,20,24,30,22,17,23,26,14,28,23,21],\"y\":[2557,2594,2600,2663,2665,2769,2769,2782,2821,2906,2920,2948,2948,2977,2977,2922,3005,3033,3042,3062,3062,3090,3132,3147,3203,3260,3303,3317,3321,3331,3374,3430,3444,3572,3629,3637,3643,3651,3651,3756,3856,3884,3940,4238,709,1135,1790,1818,1885,1928,1928,1936,2084,2084,2125,2126,2187,2211,2225,2296,2296,2353,2367,2381,2381,2410,2410,2414,2424,2466,2466,2466,2495,2495]}},\"id\":\"46c10704-7de0-4b62-acbd-a68d8c446eb3\",\"type\":\"ColumnDataSource\"},{\"attributes\":{\"source\":{\"id\":\"6c1e5b5f-25d4-460b-905d-3b2a7f383ec7\",\"type\":\"ColumnDataSource\"}},\"id\":\"e92c42d3-9006-46e8-b13f-2d99992b7dc1\",\"type\":\"CDSView\"},{\"attributes\":{\"child\":{\"id\":\"7c4de268-8fc2-4bf8-aabd-35b38924611c\",\"subtype\":\"Figure\",\"type\":\"Plot\"},\"title\":\"Histogram\"},\"id\":\"38004231-0888-43a7-ac2a-58081e0b6dc7\",\"type\":\"Panel\"},{\"attributes\":{\"fill_color\":{\"value\":\"#abdda4\"},\"line_color\":{\"value\":\"#abdda4\"},\"x\":{\"field\":\"x\"},\"y\":{\"field\":\"y\"}},\"id\":\"b2c560c1-059d-4cb5-bb20-f250c138fa7a\",\"type\":\"Square\"},{\"attributes\":{\"source\":{\"id\":\"46c10704-7de0-4b62-acbd-a68d8c446eb3\",\"type\":\"ColumnDataSource\"}},\"id\":\"1ff521a3-74af-4538-a3fa-a9971488865d\",\"type\":\"CDSView\"},{\"attributes\":{\"label\":{\"value\":\"total\"},\"renderers\":[{\"id\":\"5a5d80b2-71a4-4628-a52d-47fee28af383\",\"type\":\"GlyphRenderer\"}]},\"id\":\"4f7201e5-447a-4761-bf23-4adee707b131\",\"type\":\"LegendItem\"},{\"attributes\":{\"callback\":null,\"column_names\":[\"x\",\"y\"],\"data\":{\"x\":{\"__ndarray__\":\"AAAAAAAALEBEY31orA8tQIjG+tBYHy5AzCl4OQUvL0CIxvrQWB8wQCp4OQUvpzBAzCl4OQUvMUBu27Zt27YxQBCN9aGxPjJAsj401ofGMkBU8HIKXk4zQPahsT401jNAmFPwcgpeNEA6BS+n4OU0QNy2bdu2bTVAfmisD431NUAgGutDY302QMLLKXg5BTdAZH1orA+NN0AGL6fg5RQ4QKjg5RS8nDhASpIkSZIkOUDsQ2N9aKw5QI71obE+NDpAL6fg5RS8OkDRWB8a60M7QHMKXk7ByztAFbycgpdTPEC3bdu2bds8QFkfGutDYz1A+9BYHxrrPUCdgpdT8HI+QD801ofG+j5A4eUUvJyCP0DCyyl4OQVAQJIkSZIkSUBAZH1orA+NQEA01ofG+tBAQAYvp+DlFEFA1ofG+tBYQUCo4OUUvJxBQHg5BS+n4EFASpIkSZIkQkAa60NjfWhCQOxDY31orEJAvJyCl1PwQkCO9aGxPjRDQF5OwcspeENAL6fg5RS8Q0AAAAAAAABEQA==\",\"dtype\":\"float64\",\"shape\":[50]},\"y\":{\"__ndarray__\":\"BQ0XQe74pkAZ4MPH7+SmQC6zcE7x0KZAQoYd1fK8pkBWWcpb9KimQGssd+L1lKZAgP8jafeApkCU0tDv+GymQKilfXb6WKZAvXgq/ftEpkDRS9eD/TCmQOYehAr/HKZA+vEwkQAJpkAPxd0XAvWlQCOYip4D4aVAOGs3JQXNpUBMPuSrBrmlQGARkTIIpaVAdeQ9uQmRpUCJt+o/C32lQJ6Kl8YMaaVAsl1ETQ5VpUDHMPHTD0GlQNsDnloRLaVA8NZK4RIZpUAEqvdnFAWlQBl9pO4V8aRALVBRdRfdpEBCI/77GMmkQFb2qoIataRAaslXCRyhpEB/nASQHY2kQJRvsRYfeaRAqEJenSBlpEC8FQskIlGkQNHot6ojPaRA5btkMSUppED6jhG4JhWkQA5ivj4oAaRAIzVrxSnto0A3CBhMK9mjQEzbxNIsxaNAYK5xWS6xo0B1gR7gL52jQIlUy2YxiaNAnid47TJ1o0Cy+iR0NGGjQMbN0fo1TaNA26B+gTc5o0DwcysIOSWjQA==\",\"dtype\":\"float64\",\"shape\":[50]}}},\"id\":\"36702b9f-4f55-4783-a4bd-2709a999c32b\",\"type\":\"ColumnDataSource\"},{\"attributes\":{\"label\":{\"value\":\"white\"},\"renderers\":[{\"id\":\"eba8bbea-101b-4e73-be7c-a6e700d46fb0\",\"type\":\"GlyphRenderer\"}]},\"id\":\"8d656cd1-ab9a-4407-a7a1-2652a3f556ce\",\"type\":\"LegendItem\"},{\"attributes\":{\"label\":{\"value\":\"mother smokes\"},\"renderers\":[{\"id\":\"9aecf2a6-0d93-427a-9ede-b604f6411619\",\"type\":\"GlyphRenderer\"},{\"id\":\"9d44b095-d1d4-48ba-b4f3-3f75bca22642\",\"type\":\"GlyphRenderer\"}]},\"id\":\"a9ed7cd8-ffa9-48ed-b146-ba44403ecac7\",\"type\":\"LegendItem\"},{\"attributes\":{\"source\":{\"id\":\"6aa5ba7b-7dd4-4ae3-9256-15acadd43a66\",\"type\":\"ColumnDataSource\"}},\"id\":\"019f0733-0bac-4adf-ba6a-2b84402d1008\",\"type\":\"CDSView\"},{\"attributes\":{\"callback\":null,\"tabs\":[{\"id\":\"e860aced-80f4-4dab-9082-05607a6ae1dd\",\"type\":\"Panel\"},{\"id\":\"38004231-0888-43a7-ac2a-58081e0b6dc7\",\"type\":\"Panel\"}]},\"id\":\"c0935c57-1bdd-4bba-8e7e-e2442725525c\",\"type\":\"Tabs\"},{\"attributes\":{\"line_color\":\"#2b83ba\",\"line_width\":3,\"x\":{\"field\":\"x\"},\"y\":{\"field\":\"y\"}},\"id\":\"5edea525-7f87-4b92-b926-f04581c54c12\",\"type\":\"Line\"},{\"attributes\":{\"data_source\":{\"id\":\"6aa5ba7b-7dd4-4ae3-9256-15acadd43a66\",\"type\":\"ColumnDataSource\"},\"glyph\":{\"id\":\"5edea525-7f87-4b92-b926-f04581c54c12\",\"type\":\"Line\"},\"hover_glyph\":null,\"muted_glyph\":null,\"nonselection_glyph\":{\"id\":\"dabc9ec4-edf3-4b23-9703-d987ad154e80\",\"type\":\"Line\"},\"selection_glyph\":null,\"view\":{\"id\":\"019f0733-0bac-4adf-ba6a-2b84402d1008\",\"type\":\"CDSView\"}},\"id\":\"bc487f58-d0fc-416a-aff3-90a5e970a2e5\",\"type\":\"GlyphRenderer\"},{\"attributes\":{},\"id\":\"b4a12682-4ade-4325-9c59-0cdecacd4e27\",\"type\":\"LinearScale\"},{\"attributes\":{\"line_alpha\":0.1,\"line_color\":\"#1f77b4\",\"line_width\":3,\"x\":{\"field\":\"x\"},\"y\":{\"field\":\"y\"}},\"id\":\"dabc9ec4-edf3-4b23-9703-d987ad154e80\",\"type\":\"Line\"},{\"attributes\":{\"line_color\":\"#abdda4\",\"line_width\":3,\"x\":{\"field\":\"x\"},\"y\":{\"field\":\"y\"}},\"id\":\"470a0918-058d-4a6d-80f2-1583a025aadd\",\"type\":\"Line\"},{\"attributes\":{\"callback\":null},\"id\":\"37fe9a26-8f43-4e45-b7b4-968e57d62b39\",\"type\":\"DataRange1d\"},{\"attributes\":{\"click_policy\":\"hide\",\"items\":[{\"id\":\"4f7201e5-447a-4761-bf23-4adee707b131\",\"type\":\"LegendItem\"},{\"id\":\"8d656cd1-ab9a-4407-a7a1-2652a3f556ce\",\"type\":\"LegendItem\"},{\"id\":\"7cf85072-1dc8-42ef-9c81-f33a698b388c\",\"type\":\"LegendItem\"},{\"id\":\"cc3b81ef-f72e-4bfd-a11d-894d381dc231\",\"type\":\"LegendItem\"}],\"location\":[0,217],\"plot\":{\"id\":\"7c4de268-8fc2-4bf8-aabd-35b38924611c\",\"subtype\":\"Figure\",\"type\":\"Plot\"}},\"id\":\"c4c9273f-17fd-4948-ad47-a8b5bc637f00\",\"type\":\"Legend\"},{\"attributes\":{\"line_alpha\":0.1,\"line_color\":\"#1f77b4\",\"line_width\":3,\"x\":{\"field\":\"x\"},\"y\":{\"field\":\"y\"}},\"id\":\"de97002a-31ee-4aa9-b597-ab76745ba3c7\",\"type\":\"Line\"},{\"attributes\":{\"source\":{\"id\":\"36702b9f-4f55-4783-a4bd-2709a999c32b\",\"type\":\"ColumnDataSource\"}},\"id\":\"4decfb50-aa7b-40ee-9335-27a9970ece34\",\"type\":\"CDSView\"},{\"attributes\":{\"bottom\":{\"value\":0},\"fill_alpha\":{\"value\":0.7},\"fill_color\":{\"value\":\"#036564\"},\"left\":{\"field\":\"left\"},\"line_color\":{\"value\":\"#033649\"},\"right\":{\"field\":\"right\"},\"top\":{\"field\":\"top\"}},\"id\":\"4036dd5a-6274-4dfc-b56c-c59e719cf75a\",\"type\":\"Quad\"},{\"attributes\":{\"data_source\":{\"id\":\"36702b9f-4f55-4783-a4bd-2709a999c32b\",\"type\":\"ColumnDataSource\"},\"glyph\":{\"id\":\"470a0918-058d-4a6d-80f2-1583a025aadd\",\"type\":\"Line\"},\"hover_glyph\":null,\"muted_glyph\":null,\"nonselection_glyph\":{\"id\":\"de97002a-31ee-4aa9-b597-ab76745ba3c7\",\"type\":\"Line\"},\"selection_glyph\":null,\"view\":{\"id\":\"4decfb50-aa7b-40ee-9335-27a9970ece34\",\"type\":\"CDSView\"}},\"id\":\"9d44b095-d1d4-48ba-b4f3-3f75bca22642\",\"type\":\"GlyphRenderer\"},{\"attributes\":{\"callback\":null,\"tooltips\":[[\"Count\",\"@top\"],[\"Left\",\"@left{(0.0)}\"],[\"Right\",\"@right{(0.0)}\"]]},\"id\":\"8ff6bf65-66e2-4692-8366-a5f7ab0d71ce\",\"type\":\"HoverTool\"},{\"attributes\":{\"child\":{\"id\":\"a3cfb020-8f83-41ee-b41a-8f49a7c52e67\",\"subtype\":\"Figure\",\"type\":\"Plot\"},\"title\":\"Linear Regression\"},\"id\":\"e860aced-80f4-4dab-9082-05607a6ae1dd\",\"type\":\"Panel\"},{\"attributes\":{\"below\":[{\"id\":\"7cb6608a-4402-4aca-9e91-1d4cfbfe514a\",\"type\":\"LinearAxis\"}],\"left\":[{\"id\":\"a75da6ba-4034-4c78-a351-2b42c477d51d\",\"type\":\"LinearAxis\"}],\"plot_height\":400,\"renderers\":[{\"id\":\"7cb6608a-4402-4aca-9e91-1d4cfbfe514a\",\"type\":\"LinearAxis\"},{\"id\":\"ba91e01a-54b3-4295-ab63-9cdf5a2220ac\",\"type\":\"Grid\"},{\"id\":\"a75da6ba-4034-4c78-a351-2b42c477d51d\",\"type\":\"LinearAxis\"},{\"id\":\"1c590ac2-ba88-4706-8f62-6fcd413455c8\",\"type\":\"Grid\"},{\"id\":\"68807558-b3dd-42b8-8439-69c8fba13d58\",\"type\":\"BoxAnnotation\"},{\"id\":\"5a5d80b2-71a4-4628-a52d-47fee28af383\",\"type\":\"GlyphRenderer\"},{\"id\":\"eba8bbea-101b-4e73-be7c-a6e700d46fb0\",\"type\":\"GlyphRenderer\"},{\"id\":\"b898ca8b-55e2-4064-b004-b3537b1ef977\",\"type\":\"GlyphRenderer\"},{\"id\":\"8334189b-537a-4d02-b46c-c8906c1396bb\",\"type\":\"GlyphRenderer\"},{\"id\":\"c4c9273f-17fd-4948-ad47-a8b5bc637f00\",\"type\":\"Legend\"}],\"right\":[{\"id\":\"c4c9273f-17fd-4948-ad47-a8b5bc637f00\",\"type\":\"Legend\"}],\"title\":{\"id\":\"0c50b61f-a5c0-4c31-8ad3-f009cc0c4a99\",\"type\":\"Title\"},\"toolbar\":{\"id\":\"9caf1767-a65b-41a8-ae8e-fd020addbb3a\",\"type\":\"Toolbar\"},\"x_range\":{\"id\":\"37fe9a26-8f43-4e45-b7b4-968e57d62b39\",\"type\":\"DataRange1d\"},\"x_scale\":{\"id\":\"ad9a7d5a-f8ed-44e0-ac77-b29da4d67dc6\",\"type\":\"LinearScale\"},\"y_range\":{\"id\":\"bab5fc8b-fb4f-48e0-99ee-2cf5f77506e6\",\"type\":\"DataRange1d\"},\"y_scale\":{\"id\":\"75f34dca-2b5f-418e-bdad-036dc263ae0d\",\"type\":\"LinearScale\"}},\"id\":\"7c4de268-8fc2-4bf8-aabd-35b38924611c\",\"subtype\":\"Figure\",\"type\":\"Plot\"},{\"attributes\":{},\"id\":\"736be1d1-467d-4ef1-9a36-9f672074bf9a\",\"type\":\"BasicTicker\"},{\"attributes\":{\"plot\":null,\"text\":\"Click on the legend to select different histogram\"},\"id\":\"0c50b61f-a5c0-4c31-8ad3-f009cc0c4a99\",\"type\":\"Title\"},{\"attributes\":{\"callback\":null,\"column_names\":[\"left\",\"right\",\"top\"],\"data\":{\"left\":{\"__ndarray__\":\"AAAAAAAohkBSuB6F64GLQFK4HoXrbZBAexSuR+Eak0CkcD0K18eVQM3MzMzMdJhA9ihcj8Ihm0AfhetRuM6dQKRwPQrXPaBAuB6F61GUoUDNzMzMzOqiQOJ6FK5HQaRA9ihcj8KXpUAK16NwPe6mQB+F61G4RKhANDMzMzObqUBI4XoUrvGqQFyPwvUoSKxAcT0K16OerUCG61G4HvWuQM3MzMzMJbBA16NwPQrRsEDiehSuR3yxQOxRuB6FJ7JA9ihcj8LSskA=\",\"dtype\":\"float64\",\"shape\":[25]},\"right\":{\"__ndarray__\":\"UrgeheuBi0BSuB6F622QQHsUrkfhGpNApHA9CtfHlUDNzMzMzHSYQPYoXI/CIZtAH4XrUbjOnUCkcD0K1z2gQLgehetRlKFAzczMzMzqokDiehSuR0GkQPYoXI/Cl6VACtejcD3upkAfhetRuESoQDQzMzMzm6lASOF6FK7xqkBcj8L1KEisQHE9Ctejnq1AhutRuB71rkDNzMzMzCWwQNejcD0K0bBA4noUrkd8sUDsUbgehSeyQPYoXI/C0rJAAAAAAAB+s0A=\",\"dtype\":\"float64\",\"shape\":[25]},\"top\":{\"__ndarray__\":\"wFoBawWsdT/AWgFrBax1P8BaAWsFrHU/wFoBawWsdT/AWgFrBax1P8BaAWsFrJU/cLHBxQYXmz9oL6G9hPaiPxAEQRAEQbA/FEVRFEVRtD9oL6G9hPayP8jcIXOHzK0/GIZhGIZhuD9wscHFBhe7PxRFURRFUbQ/EARBEARBsD8QBEEQBEGwPxRFURRFUbQ/yNwhc4fMrT9oL6G9hPaiP8BaAWsFrJU/AAAAAAAAAADAWgFrBax1PwAAAAAAAAAAwFoBawWsdT8=\",\"dtype\":\"float64\",\"shape\":[25]}}},\"id\":\"2233ae60-0b1f-4d02-ac16-fd70700a3dca\",\"type\":\"ColumnDataSource\"},{\"attributes\":{\"active_drag\":\"auto\",\"active_inspect\":\"auto\",\"active_scroll\":\"auto\",\"active_tap\":\"auto\",\"tools\":[{\"id\":\"27eae23c-3d7c-4c53-87e2-15bb0f21dc02\",\"type\":\"PanTool\"},{\"id\":\"423a0a5f-34f1-4ed7-80a9-cdaf49de740c\",\"type\":\"WheelZoomTool\"},{\"id\":\"de5f7023-ce43-4527-8d8c-06440b47a35c\",\"type\":\"BoxZoomTool\"},{\"id\":\"8b10a7a3-2183-4e85-b0d1-e8301fc676fb\",\"type\":\"SaveTool\"},{\"id\":\"d8dae76f-77bc-4499-818f-9e6bfc197b77\",\"type\":\"ResetTool\"},{\"id\":\"346f2058-c0ad-48bc-a920-b1cb10960c56\",\"type\":\"HelpTool\"},{\"id\":\"8ff6bf65-66e2-4692-8366-a5f7ab0d71ce\",\"type\":\"HoverTool\"}]},\"id\":\"9caf1767-a65b-41a8-ae8e-fd020addbb3a\",\"type\":\"Toolbar\"},{\"attributes\":{\"dimension\":1,\"plot\":{\"id\":\"7c4de268-8fc2-4bf8-aabd-35b38924611c\",\"subtype\":\"Figure\",\"type\":\"Plot\"},\"ticker\":{\"id\":\"df9c3077-6edd-455a-879a-fd84bc800b16\",\"type\":\"BasicTicker\"}},\"id\":\"1c590ac2-ba88-4706-8f62-6fcd413455c8\",\"type\":\"Grid\"},{\"attributes\":{},\"id\":\"ad9a7d5a-f8ed-44e0-ac77-b29da4d67dc6\",\"type\":\"LinearScale\"},{\"attributes\":{\"callback\":null},\"id\":\"bab5fc8b-fb4f-48e0-99ee-2cf5f77506e6\",\"type\":\"DataRange1d\"},{\"attributes\":{},\"id\":\"75f34dca-2b5f-418e-bdad-036dc263ae0d\",\"type\":\"LinearScale\"},{\"attributes\":{\"plot\":{\"id\":\"7c4de268-8fc2-4bf8-aabd-35b38924611c\",\"subtype\":\"Figure\",\"type\":\"Plot\"},\"ticker\":{\"id\":\"41b71c16-6f24-4220-85c4-71fde8b945cd\",\"type\":\"BasicTicker\"}},\"id\":\"ba91e01a-54b3-4295-ab63-9cdf5a2220ac\",\"type\":\"Grid\"},{\"attributes\":{\"axis_label\":\"Baby's birth Weight in Grams\",\"formatter\":{\"id\":\"2eb1cfe8-c055-462d-95be-616e5391368a\",\"type\":\"BasicTickFormatter\"},\"plot\":{\"id\":\"7c4de268-8fc2-4bf8-aabd-35b38924611c\",\"subtype\":\"Figure\",\"type\":\"Plot\"},\"ticker\":{\"id\":\"41b71c16-6f24-4220-85c4-71fde8b945cd\",\"type\":\"BasicTicker\"}},\"id\":\"7cb6608a-4402-4aca-9e91-1d4cfbfe514a\",\"type\":\"LinearAxis\"},{\"attributes\":{},\"id\":\"41b71c16-6f24-4220-85c4-71fde8b945cd\",\"type\":\"BasicTicker\"},{\"attributes\":{\"axis_label\":\"Percentage\",\"formatter\":{\"id\":\"9054fe26-eac1-48b7-b956-255c4cdc452c\",\"type\":\"BasicTickFormatter\"},\"plot\":{\"id\":\"7c4de268-8fc2-4bf8-aabd-35b38924611c\",\"subtype\":\"Figure\",\"type\":\"Plot\"},\"ticker\":{\"id\":\"df9c3077-6edd-455a-879a-fd84bc800b16\",\"type\":\"BasicTicker\"}},\"id\":\"a75da6ba-4034-4c78-a351-2b42c477d51d\",\"type\":\"LinearAxis\"},{\"attributes\":{},\"id\":\"df9c3077-6edd-455a-879a-fd84bc800b16\",\"type\":\"BasicTicker\"}],\"root_ids\":[\"c0935c57-1bdd-4bba-8e7e-e2442725525c\"]},\"title\":\"Bokeh Application\",\"version\":\"0.12.14\"}};\n",
       "  var render_items = [{\"docid\":\"7a184de8-e488-4b12-82ca-d22812030acc\",\"elementid\":\"9dcbdb9b-962b-4296-96ff-33868238f166\",\"modelid\":\"c0935c57-1bdd-4bba-8e7e-e2442725525c\"}];\n",
       "  root.Bokeh.embed.embed_items_notebook(docs_json, render_items);\n",
       "\n",
       "  }\n",
       "  if (root.Bokeh !== undefined) {\n",
       "    embed_document(root);\n",
       "  } else {\n",
       "    var attempts = 0;\n",
       "    var timer = setInterval(function(root) {\n",
       "      if (root.Bokeh !== undefined) {\n",
       "        embed_document(root);\n",
       "        clearInterval(timer);\n",
       "      }\n",
       "      attempts++;\n",
       "      if (attempts > 100) {\n",
       "        console.log(\"Bokeh: ERROR: Unable to run BokehJS code because BokehJS library is missing\")\n",
       "        clearInterval(timer);\n",
       "      }\n",
       "    }, 10, root)\n",
       "  }\n",
       "})(window);"
      ],
      "application/vnd.bokehjs_exec.v0+json": ""
     },
     "metadata": {
      "application/vnd.bokehjs_exec.v0+json": {
       "id": "c0935c57-1bdd-4bba-8e7e-e2442725525c"
      }
     },
     "output_type": "display_data"
    }
   ],
   "source": [
    "from scipy import stats\n",
    "from bokeh.models.widgets import Panel, Tabs\n",
    "\n",
    "# Create another Figure object to present linear regression\n",
    "p_lr = figure(title=\"Linear Regression on smoking and Baby's birth Weight\", plot_width=600, plot_height=400,\n",
    "          x_axis_label=\"Mother's age in years\",\n",
    "          y_axis_label=\"Baby's birth Weight in Grams\",\n",
    "          )\n",
    "\n",
    "# Prepare regression line using SciPy\n",
    "slope_ns, intercept_ns, _, _, _ = stats.linregress(df[df.smoke == 0].age, df[df.smoke == 0].bwt)\n",
    "slope_s, intercept_s, _, _, _ = stats.linregress(df[df.smoke == 1].age, df[df.smoke == 1].bwt)\n",
    "\n",
    "line_x = np.linspace(14,40)\n",
    "line_y_ns = slope_ns*line_x + intercept_ns\n",
    "line_y_s = slope_s*line_x + intercept_s\n",
    "\n",
    "# Add different Glyphs on the graph\n",
    "p_lr.circle(df[df.smoke == 0].age, df[df.smoke == 0].bwt, color=Spectral4[0], legend='mother does not smoke')\n",
    "p_lr.square(df[df.smoke == 1].age, df[df.smoke == 1].bwt, color=Spectral4[1], legend='mother smokes')\n",
    "p_lr.line(line_x, line_y_ns, color=Spectral4[0], legend='mother does not smoke', line_width=3)\n",
    "p_lr.line(line_x, line_y_s, color=Spectral4[1], legend='mother smokes', line_width=3)\n",
    "\n",
    "p_lr.legend.click_policy = 'hide'\n",
    "\n",
    "# Create two Panels to contain two Figure Objects\n",
    "tab1 = Panel(child=p_lr, title=\"Linear Regression\")\n",
    "tab2 = Panel(child=p_h, title=\"Histogram\")\n",
    "\n",
    "# Create tabs to hold Panels\n",
    "tabs = Tabs(tabs=[ tab1, tab2 ])\n",
    "\n",
    "show(tabs)"
   ]
  },
  {
   "cell_type": "markdown",
   "metadata": {},
   "source": [
    "### Further Steps\n",
    "Bokeh provides a full range [tools](https://bokeh.pydata.org/en/latest/docs/user_guide/tools.html) and [widgets]() for users to create large data visualization application. The usage of those tools would be similar to what is demonstrated in this tutorial. To give you a glimpse, I generated some widgets for you to play with. These are dummy widgets since they are not linked to any data. Nevertheless, once those widgets are integrated into graphs, the combination of data, tools, and widgets can create even more powerful data visualization application."
   ]
  },
  {
   "cell_type": "code",
   "execution_count": 10,
   "metadata": {},
   "outputs": [
    {
     "data": {
      "text/html": [
       "\n",
       "<div class=\"bk-root\">\n",
       "    <div class=\"bk-plotdiv\" id=\"37b34cae-22dd-4de1-a65d-4602192cecf2\"></div>\n",
       "</div>"
      ]
     },
     "metadata": {},
     "output_type": "display_data"
    },
    {
     "data": {
      "application/javascript": [
       "(function(root) {\n",
       "  function embed_document(root) {\n",
       "    \n",
       "  var docs_json = {\"d77b5356-fccd-4079-8221-6d5d8d884ae0\":{\"roots\":{\"references\":[{\"attributes\":{\"active\":0,\"callback\":null,\"labels\":[\"Option 1\",\"Option 2\",\"Option 3\"]},\"id\":\"c7032dfd-23f4-4f8f-9221-b9570fc7431b\",\"type\":\"RadioButtonGroup\"},{\"attributes\":{\"callback\":null,\"icon\":null,\"label\":\"Button Example\"},\"id\":\"e0f44454-f274-42b7-8799-917d994f94b5\",\"type\":\"Button\"},{\"attributes\":{\"children\":[{\"id\":\"e0f44454-f274-42b7-8799-917d994f94b5\",\"type\":\"Button\"},{\"id\":\"e711b0ba-3246-48b5-959f-dc4713b0a5a1\",\"type\":\"Slider\"},{\"id\":\"c7032dfd-23f4-4f8f-9221-b9570fc7431b\",\"type\":\"RadioButtonGroup\"},{\"id\":\"42a62964-2ea0-4ba2-81d7-6c6e5dd74da0\",\"type\":\"Select\"}],\"width\":300},\"id\":\"fa779ce2-0dc2-4510-9343-600330dbb79a\",\"type\":\"WidgetBox\"},{\"attributes\":{\"callback\":null,\"end\":10,\"start\":0,\"title\":\"Slider Example\",\"value\":1},\"id\":\"e711b0ba-3246-48b5-959f-dc4713b0a5a1\",\"type\":\"Slider\"},{\"attributes\":{\"callback\":null,\"options\":[\"foo\",\"bar\",\"baz\"],\"title\":\"Option:\",\"value\":\"foo\"},\"id\":\"42a62964-2ea0-4ba2-81d7-6c6e5dd74da0\",\"type\":\"Select\"}],\"root_ids\":[\"fa779ce2-0dc2-4510-9343-600330dbb79a\"]},\"title\":\"Bokeh Application\",\"version\":\"0.12.14\"}};\n",
       "  var render_items = [{\"docid\":\"d77b5356-fccd-4079-8221-6d5d8d884ae0\",\"elementid\":\"37b34cae-22dd-4de1-a65d-4602192cecf2\",\"modelid\":\"fa779ce2-0dc2-4510-9343-600330dbb79a\"}];\n",
       "  root.Bokeh.embed.embed_items_notebook(docs_json, render_items);\n",
       "\n",
       "  }\n",
       "  if (root.Bokeh !== undefined) {\n",
       "    embed_document(root);\n",
       "  } else {\n",
       "    var attempts = 0;\n",
       "    var timer = setInterval(function(root) {\n",
       "      if (root.Bokeh !== undefined) {\n",
       "        embed_document(root);\n",
       "        clearInterval(timer);\n",
       "      }\n",
       "      attempts++;\n",
       "      if (attempts > 100) {\n",
       "        console.log(\"Bokeh: ERROR: Unable to run BokehJS code because BokehJS library is missing\")\n",
       "        clearInterval(timer);\n",
       "      }\n",
       "    }, 10, root)\n",
       "  }\n",
       "})(window);"
      ],
      "application/vnd.bokehjs_exec.v0+json": ""
     },
     "metadata": {
      "application/vnd.bokehjs_exec.v0+json": {
       "id": "fa779ce2-0dc2-4510-9343-600330dbb79a"
      }
     },
     "output_type": "display_data"
    }
   ],
   "source": [
    "from bokeh.layouts import widgetbox\n",
    "from bokeh.models.widgets import Button, RadioButtonGroup, Select, Slider\n",
    "\n",
    "# create some widgets\n",
    "slider = Slider(start=0, end=10, value=1, step=1, title=\"Slider Example\")\n",
    "button_group = RadioButtonGroup(labels=[\"Option 1\", \"Option 2\", \"Option 3\"], active=0)\n",
    "select = Select(title=\"Option:\", value=\"foo\", options=[\"foo\", \"bar\", \"baz\"])\n",
    "button = Button(label=\"Button Example\")\n",
    "\n",
    "# put the results in a row\n",
    "show(widgetbox(button, slider, button_group, select, width=300))"
   ]
  },
  {
   "cell_type": "markdown",
   "metadata": {},
   "source": [
    "### Summary and References\n",
    "In summary, this tutorial introduced the underlying plotting mechanisms of Bokeh, demonstrated exploratory data analysis with Bokeh using different tools, widgets, and color themes. Much more detail about the library and data applications it built can be found from following links:\n",
    "1. Bokeh: http://bokeh.pydata.org/en/latest/ \n",
    "2. Gallery: http://bokeh.pydata.org/en/latest/docs/gallery.html"
   ]
  }
 ],
 "metadata": {
  "kernelspec": {
   "display_name": "Python 3",
   "language": "python",
   "name": "python3"
  },
  "language_info": {
   "codemirror_mode": {
    "name": "ipython",
    "version": 3
   },
   "file_extension": ".py",
   "mimetype": "text/x-python",
   "name": "python",
   "nbconvert_exporter": "python",
   "pygments_lexer": "ipython3",
   "version": "3.6.4"
  },
  "varInspector": {
   "cols": {
    "lenName": 16,
    "lenType": 16,
    "lenVar": 40
   },
   "kernels_config": {
    "python": {
     "delete_cmd_postfix": "",
     "delete_cmd_prefix": "del ",
     "library": "var_list.py",
     "varRefreshCmd": "print(var_dic_list())"
    },
    "r": {
     "delete_cmd_postfix": ") ",
     "delete_cmd_prefix": "rm(",
     "library": "var_list.r",
     "varRefreshCmd": "cat(var_dic_list()) "
    }
   },
   "types_to_exclude": [
    "module",
    "function",
    "builtin_function_or_method",
    "instance",
    "_Feature"
   ],
   "window_display": false
  }
 },
 "nbformat": 4,
 "nbformat_minor": 2
}
